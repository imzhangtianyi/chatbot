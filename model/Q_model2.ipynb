{
 "cells": [
  {
   "cell_type": "code",
   "execution_count": 5,
   "metadata": {},
   "outputs": [],
   "source": [
    "import pandas as pd\n",
    "df_t = pd.read_csv('transcript_all.csv')\n",
    "df_c = df_t.groupby('chat_id').text.apply(' '.join)\n",
    "df_topic = pd.read_csv('df_topic.csv')\n",
    "top = pd.read_csv('top.csv')"
   ]
  },
  {
   "cell_type": "code",
   "execution_count": 6,
   "metadata": {},
   "outputs": [],
   "source": [
    "df_topic['chat_id'] = df_c.index\n",
    "qa = pd.read_csv('QApairs.csv')\n",
    "df_qa = pd.merge(qa, df_topic.loc[:,['topic_no','chat_id','keywords']], on='chat_id').fillna(' ')\n",
    "df_q = pd.DataFrame(df_qa.groupby(['chat_id','topic_no'])['query'].apply(' '.join)).reset_index()\n",
    "df_q = df_q.loc[df_q.apply(lambda s: not s['query'].isspace(), axis=1)]"
   ]
  },
  {
   "cell_type": "code",
   "execution_count": 170,
   "metadata": {},
   "outputs": [
    {
     "data": {
      "text/html": [
       "<div>\n",
       "<style scoped>\n",
       "    .dataframe tbody tr th:only-of-type {\n",
       "        vertical-align: middle;\n",
       "    }\n",
       "\n",
       "    .dataframe tbody tr th {\n",
       "        vertical-align: top;\n",
       "    }\n",
       "\n",
       "    .dataframe thead th {\n",
       "        text-align: right;\n",
       "    }\n",
       "</style>\n",
       "<table border=\"1\" class=\"dataframe\">\n",
       "  <thead>\n",
       "    <tr style=\"text-align: right;\">\n",
       "      <th></th>\n",
       "      <th>feature</th>\n",
       "      <th>importance</th>\n",
       "    </tr>\n",
       "  </thead>\n",
       "  <tbody>\n",
       "    <tr>\n",
       "      <th>104</th>\n",
       "      <td>king</td>\n",
       "      <td>0.002878</td>\n",
       "    </tr>\n",
       "  </tbody>\n",
       "</table>\n",
       "</div>"
      ],
      "text/plain": [
       "    feature  importance\n",
       "104    king    0.002878"
      ]
     },
     "execution_count": 170,
     "metadata": {},
     "output_type": "execute_result"
    }
   ],
   "source": [
    "slist.loc[slist.feature == 'king']"
   ]
  },
  {
   "cell_type": "code",
   "execution_count": 292,
   "metadata": {},
   "outputs": [
    {
     "data": {
      "text/plain": [
       "[]"
      ]
     },
     "execution_count": 292,
     "metadata": {},
     "output_type": "execute_result"
    }
   ],
   "source": [
    "slist = pd.read_csv('stop_words_product.csv')[4:120]\n",
    "# Tokenize chats\n",
    "from nltk.tokenize import RegexpTokenizer\n",
    "tokenizer = RegexpTokenizer(r'\\w+')\n",
    "\n",
    "# NLTK Stop words\n",
    "from nltk.corpus import stopwords\n",
    "stop_words = stopwords.words('english')\n",
    "stop_words.extend(['help', 'headout', 'hi', 'hello', 'hey', 'welcome', 'stepping', 'away', 'customers', 'bye', 'problem', 'feel', 'free', 'reach', 'need', 'assistance', 'would', 'nice', 'talk', 'great', 'day', 'goodbye', 'give', 'minutes', 'like', 'assist', 'anything', 'else', 'today', 'thank', 'check', 'please', 'ok','get', 'yes', 'safari', 'khalifa', 'burj', 'aquarium', 'roman', 'palatin', 'vatican', 'dubai'])\n",
    "stop_words.extend(slist.feature.values.tolist())\n",
    "def remove_stopwords(l):\n",
    "    return [word for word in l if word not in stop_words]\n",
    "\n",
    "from nltk.stem.porter import PorterStemmer\n",
    "from nltk.stem import WordNetLemmatizer\n",
    "\n",
    "porter_stemmer = PorterStemmer()\n",
    "def stem_words(l):\n",
    "    return [porter_stemmer.stem(words) for words in l]\n",
    "\n",
    "wordnet_lemmatizer = WordNetLemmatizer()\n",
    "def lemmatize_words(l):\n",
    "    return [wordnet_lemmatizer.lemmatize(words) for words in l]\n",
    "def nget(l):\n",
    "    return [word for word in l if word!='get']\n",
    "def preprocess(text):\n",
    "    return nget(lemmatize_words(stem_words(remove_stopwords(tokenizer.tokenize(text.lower())))))\n",
    "preprocess('I will be stepping away get to assist other customers now, bye! :)')"
   ]
  },
  {
   "cell_type": "code",
   "execution_count": 269,
   "metadata": {},
   "outputs": [
    {
     "data": {
      "text/plain": [
       "True"
      ]
     },
     "execution_count": 269,
     "metadata": {},
     "output_type": "execute_result"
    }
   ],
   "source": [
    "'get' in stop_words"
   ]
  },
  {
   "cell_type": "code",
   "execution_count": 293,
   "metadata": {},
   "outputs": [],
   "source": [
    "q = df_q['query'].apply(lambda s: ' '.join(preprocess(s)))"
   ]
  },
  {
   "cell_type": "code",
   "execution_count": 294,
   "metadata": {},
   "outputs": [],
   "source": [
    "from sklearn.feature_extraction.text import TfidfVectorizer\n",
    "tv = TfidfVectorizer(ngram_range=(1,2),max_df=500, min_df=10)\n",
    "\n",
    "x = tv.fit_transform(q)\n",
    "y = df_q.topic_no"
   ]
  },
  {
   "cell_type": "code",
   "execution_count": 272,
   "metadata": {
    "scrolled": true
   },
   "outputs": [
    {
     "data": {
      "text/html": [
       "<div>\n",
       "<style scoped>\n",
       "    .dataframe tbody tr th:only-of-type {\n",
       "        vertical-align: middle;\n",
       "    }\n",
       "\n",
       "    .dataframe tbody tr th {\n",
       "        vertical-align: top;\n",
       "    }\n",
       "\n",
       "    .dataframe thead th {\n",
       "        text-align: right;\n",
       "    }\n",
       "</style>\n",
       "<table border=\"1\" class=\"dataframe\">\n",
       "  <thead>\n",
       "    <tr style=\"text-align: right;\">\n",
       "      <th></th>\n",
       "      <th>term</th>\n",
       "      <th>tfidf</th>\n",
       "    </tr>\n",
       "  </thead>\n",
       "  <tbody>\n",
       "    <tr>\n",
       "      <th>1122</th>\n",
       "      <td>seat</td>\n",
       "      <td>110.154855</td>\n",
       "    </tr>\n",
       "    <tr>\n",
       "      <th>1180</th>\n",
       "      <td>show</td>\n",
       "      <td>86.209427</td>\n",
       "    </tr>\n",
       "    <tr>\n",
       "      <th>190</th>\n",
       "      <td>avail</td>\n",
       "      <td>82.440411</td>\n",
       "    </tr>\n",
       "    <tr>\n",
       "      <th>1141</th>\n",
       "      <td>see</td>\n",
       "      <td>75.957324</td>\n",
       "    </tr>\n",
       "    <tr>\n",
       "      <th>1033</th>\n",
       "      <td>purchas</td>\n",
       "      <td>74.294109</td>\n",
       "    </tr>\n",
       "    <tr>\n",
       "      <th>778</th>\n",
       "      <td>look</td>\n",
       "      <td>71.651646</td>\n",
       "    </tr>\n",
       "    <tr>\n",
       "      <th>1008</th>\n",
       "      <td>price</td>\n",
       "      <td>64.811428</td>\n",
       "    </tr>\n",
       "    <tr>\n",
       "      <th>285</th>\n",
       "      <td>buy ticket</td>\n",
       "      <td>64.470892</td>\n",
       "    </tr>\n",
       "    <tr>\n",
       "      <th>417</th>\n",
       "      <td>date</td>\n",
       "      <td>62.471393</td>\n",
       "    </tr>\n",
       "    <tr>\n",
       "      <th>258</th>\n",
       "      <td>book ticket</td>\n",
       "      <td>61.268422</td>\n",
       "    </tr>\n",
       "    <tr>\n",
       "      <th>1473</th>\n",
       "      <td>use</td>\n",
       "      <td>60.531415</td>\n",
       "    </tr>\n",
       "    <tr>\n",
       "      <th>1393</th>\n",
       "      <td>tomorrow</td>\n",
       "      <td>60.201252</td>\n",
       "    </tr>\n",
       "    <tr>\n",
       "      <th>855</th>\n",
       "      <td>much</td>\n",
       "      <td>59.622988</td>\n",
       "    </tr>\n",
       "    <tr>\n",
       "      <th>682</th>\n",
       "      <td>includ</td>\n",
       "      <td>59.415416</td>\n",
       "    </tr>\n",
       "    <tr>\n",
       "      <th>332</th>\n",
       "      <td>child</td>\n",
       "      <td>57.486067</td>\n",
       "    </tr>\n",
       "    <tr>\n",
       "      <th>301</th>\n",
       "      <td>card</td>\n",
       "      <td>54.763241</td>\n",
       "    </tr>\n",
       "    <tr>\n",
       "      <th>112</th>\n",
       "      <td>adult</td>\n",
       "      <td>54.298998</td>\n",
       "    </tr>\n",
       "    <tr>\n",
       "      <th>1111</th>\n",
       "      <td>say</td>\n",
       "      <td>53.599511</td>\n",
       "    </tr>\n",
       "    <tr>\n",
       "      <th>142</th>\n",
       "      <td>also</td>\n",
       "      <td>53.381814</td>\n",
       "    </tr>\n",
       "    <tr>\n",
       "      <th>496</th>\n",
       "      <td>email</td>\n",
       "      <td>51.324530</td>\n",
       "    </tr>\n",
       "    <tr>\n",
       "      <th>926</th>\n",
       "      <td>option</td>\n",
       "      <td>49.232426</td>\n",
       "    </tr>\n",
       "    <tr>\n",
       "      <th>1081</th>\n",
       "      <td>reserv</td>\n",
       "      <td>47.656049</td>\n",
       "    </tr>\n",
       "    <tr>\n",
       "      <th>463</th>\n",
       "      <td>discount</td>\n",
       "      <td>46.839853</td>\n",
       "    </tr>\n",
       "    <tr>\n",
       "      <th>1151</th>\n",
       "      <td>select</td>\n",
       "      <td>45.534109</td>\n",
       "    </tr>\n",
       "    <tr>\n",
       "      <th>955</th>\n",
       "      <td>pay</td>\n",
       "      <td>45.488821</td>\n",
       "    </tr>\n",
       "    <tr>\n",
       "      <th>1447</th>\n",
       "      <td>two</td>\n",
       "      <td>45.415525</td>\n",
       "    </tr>\n",
       "    <tr>\n",
       "      <th>64</th>\n",
       "      <td>30</td>\n",
       "      <td>44.905440</td>\n",
       "    </tr>\n",
       "    <tr>\n",
       "      <th>375</th>\n",
       "      <td>confirm</td>\n",
       "      <td>44.452262</td>\n",
       "    </tr>\n",
       "    <tr>\n",
       "      <th>999</th>\n",
       "      <td>possibl</td>\n",
       "      <td>44.207684</td>\n",
       "    </tr>\n",
       "    <tr>\n",
       "      <th>1529</th>\n",
       "      <td>websit</td>\n",
       "      <td>43.076009</td>\n",
       "    </tr>\n",
       "    <tr>\n",
       "      <th>...</th>\n",
       "      <td>...</td>\n",
       "      <td>...</td>\n",
       "    </tr>\n",
       "    <tr>\n",
       "      <th>151</th>\n",
       "      <td>anoth card</td>\n",
       "      <td>2.170393</td>\n",
       "    </tr>\n",
       "    <tr>\n",
       "      <th>961</th>\n",
       "      <td>payment confirm</td>\n",
       "      <td>2.168950</td>\n",
       "    </tr>\n",
       "    <tr>\n",
       "      <th>162</th>\n",
       "      <td>apolog</td>\n",
       "      <td>2.160678</td>\n",
       "    </tr>\n",
       "    <tr>\n",
       "      <th>777</th>\n",
       "      <td>longer</td>\n",
       "      <td>2.144036</td>\n",
       "    </tr>\n",
       "    <tr>\n",
       "      <th>1089</th>\n",
       "      <td>rest</td>\n",
       "      <td>2.140959</td>\n",
       "    </tr>\n",
       "    <tr>\n",
       "      <th>381</th>\n",
       "      <td>consecut</td>\n",
       "      <td>2.126757</td>\n",
       "    </tr>\n",
       "    <tr>\n",
       "      <th>712</th>\n",
       "      <td>itali rome</td>\n",
       "      <td>2.107688</td>\n",
       "    </tr>\n",
       "    <tr>\n",
       "      <th>521</th>\n",
       "      <td>even though</td>\n",
       "      <td>2.102373</td>\n",
       "    </tr>\n",
       "    <tr>\n",
       "      <th>423</th>\n",
       "      <td>date ticket</td>\n",
       "      <td>2.081195</td>\n",
       "    </tr>\n",
       "    <tr>\n",
       "      <th>1472</th>\n",
       "      <td>usa</td>\n",
       "      <td>2.059881</td>\n",
       "    </tr>\n",
       "    <tr>\n",
       "      <th>461</th>\n",
       "      <td>disappoint</td>\n",
       "      <td>2.055039</td>\n",
       "    </tr>\n",
       "    <tr>\n",
       "      <th>306</th>\n",
       "      <td>card number</td>\n",
       "      <td>2.042201</td>\n",
       "    </tr>\n",
       "    <tr>\n",
       "      <th>453</th>\n",
       "      <td>differ date</td>\n",
       "      <td>2.034023</td>\n",
       "    </tr>\n",
       "    <tr>\n",
       "      <th>481</th>\n",
       "      <td>download app</td>\n",
       "      <td>2.004220</td>\n",
       "    </tr>\n",
       "    <tr>\n",
       "      <th>1519</th>\n",
       "      <td>wast</td>\n",
       "      <td>2.003931</td>\n",
       "    </tr>\n",
       "    <tr>\n",
       "      <th>978</th>\n",
       "      <td>pic</td>\n",
       "      <td>1.994960</td>\n",
       "    </tr>\n",
       "    <tr>\n",
       "      <th>838</th>\n",
       "      <td>mine</td>\n",
       "      <td>1.990467</td>\n",
       "    </tr>\n",
       "    <tr>\n",
       "      <th>747</th>\n",
       "      <td>least</td>\n",
       "      <td>1.959883</td>\n",
       "    </tr>\n",
       "    <tr>\n",
       "      <th>1407</th>\n",
       "      <td>tour okay</td>\n",
       "      <td>1.938404</td>\n",
       "    </tr>\n",
       "    <tr>\n",
       "      <th>1105</th>\n",
       "      <td>sand</td>\n",
       "      <td>1.897135</td>\n",
       "    </tr>\n",
       "    <tr>\n",
       "      <th>650</th>\n",
       "      <td>henc</td>\n",
       "      <td>1.889028</td>\n",
       "    </tr>\n",
       "    <tr>\n",
       "      <th>4</th>\n",
       "      <td>09</td>\n",
       "      <td>1.879968</td>\n",
       "    </tr>\n",
       "    <tr>\n",
       "      <th>252</th>\n",
       "      <td>book receiv</td>\n",
       "      <td>1.858385</td>\n",
       "    </tr>\n",
       "    <tr>\n",
       "      <th>639</th>\n",
       "      <td>guest detail</td>\n",
       "      <td>1.718263</td>\n",
       "    </tr>\n",
       "    <tr>\n",
       "      <th>700</th>\n",
       "      <td>instruct</td>\n",
       "      <td>1.564002</td>\n",
       "    </tr>\n",
       "    <tr>\n",
       "      <th>1055</th>\n",
       "      <td>realli want</td>\n",
       "      <td>1.553356</td>\n",
       "    </tr>\n",
       "    <tr>\n",
       "      <th>587</th>\n",
       "      <td>frustrat</td>\n",
       "      <td>1.522929</td>\n",
       "    </tr>\n",
       "    <tr>\n",
       "      <th>977</th>\n",
       "      <td>photo id</td>\n",
       "      <td>1.465567</td>\n",
       "    </tr>\n",
       "    <tr>\n",
       "      <th>1179</th>\n",
       "      <td>shortli</td>\n",
       "      <td>1.450803</td>\n",
       "    </tr>\n",
       "    <tr>\n",
       "      <th>305</th>\n",
       "      <td>card end</td>\n",
       "      <td>1.382769</td>\n",
       "    </tr>\n",
       "  </tbody>\n",
       "</table>\n",
       "<p>1572 rows × 2 columns</p>\n",
       "</div>"
      ],
      "text/plain": [
       "                 term       tfidf\n",
       "1122             seat  110.154855\n",
       "1180             show   86.209427\n",
       "190             avail   82.440411\n",
       "1141              see   75.957324\n",
       "1033          purchas   74.294109\n",
       "778              look   71.651646\n",
       "1008            price   64.811428\n",
       "285        buy ticket   64.470892\n",
       "417              date   62.471393\n",
       "258       book ticket   61.268422\n",
       "1473              use   60.531415\n",
       "1393         tomorrow   60.201252\n",
       "855              much   59.622988\n",
       "682            includ   59.415416\n",
       "332             child   57.486067\n",
       "301              card   54.763241\n",
       "112             adult   54.298998\n",
       "1111              say   53.599511\n",
       "142              also   53.381814\n",
       "496             email   51.324530\n",
       "926            option   49.232426\n",
       "1081           reserv   47.656049\n",
       "463          discount   46.839853\n",
       "1151           select   45.534109\n",
       "955               pay   45.488821\n",
       "1447              two   45.415525\n",
       "64                 30   44.905440\n",
       "375           confirm   44.452262\n",
       "999           possibl   44.207684\n",
       "1529           websit   43.076009\n",
       "...               ...         ...\n",
       "151        anoth card    2.170393\n",
       "961   payment confirm    2.168950\n",
       "162            apolog    2.160678\n",
       "777            longer    2.144036\n",
       "1089             rest    2.140959\n",
       "381          consecut    2.126757\n",
       "712        itali rome    2.107688\n",
       "521       even though    2.102373\n",
       "423       date ticket    2.081195\n",
       "1472              usa    2.059881\n",
       "461        disappoint    2.055039\n",
       "306       card number    2.042201\n",
       "453       differ date    2.034023\n",
       "481      download app    2.004220\n",
       "1519             wast    2.003931\n",
       "978               pic    1.994960\n",
       "838              mine    1.990467\n",
       "747             least    1.959883\n",
       "1407        tour okay    1.938404\n",
       "1105             sand    1.897135\n",
       "650              henc    1.889028\n",
       "4                  09    1.879968\n",
       "252       book receiv    1.858385\n",
       "639      guest detail    1.718263\n",
       "700          instruct    1.564002\n",
       "1055      realli want    1.553356\n",
       "587          frustrat    1.522929\n",
       "977          photo id    1.465567\n",
       "1179          shortli    1.450803\n",
       "305          card end    1.382769\n",
       "\n",
       "[1572 rows x 2 columns]"
      ]
     },
     "execution_count": 272,
     "metadata": {},
     "output_type": "execute_result"
    }
   ],
   "source": [
    "terms = pd.DataFrame({'term': tv.get_feature_names(), 'tfidf': x.toarray().sum(0)})\n",
    "terms.sort_values('tfidf',ascending=False)"
   ]
  },
  {
   "cell_type": "code",
   "execution_count": 295,
   "metadata": {},
   "outputs": [
    {
     "data": {
      "text/plain": [
       "False"
      ]
     },
     "execution_count": 295,
     "metadata": {},
     "output_type": "execute_result"
    }
   ],
   "source": [
    "'get' in tv.get_feature_names()"
   ]
  },
  {
   "cell_type": "code",
   "execution_count": 274,
   "metadata": {},
   "outputs": [
    {
     "data": {
      "text/html": [
       "<div>\n",
       "<style scoped>\n",
       "    .dataframe tbody tr th:only-of-type {\n",
       "        vertical-align: middle;\n",
       "    }\n",
       "\n",
       "    .dataframe tbody tr th {\n",
       "        vertical-align: top;\n",
       "    }\n",
       "\n",
       "    .dataframe thead th {\n",
       "        text-align: right;\n",
       "    }\n",
       "</style>\n",
       "<table border=\"1\" class=\"dataframe\">\n",
       "  <thead>\n",
       "    <tr style=\"text-align: right;\">\n",
       "      <th></th>\n",
       "      <th>term</th>\n",
       "      <th>tfidf</th>\n",
       "    </tr>\n",
       "  </thead>\n",
       "  <tbody>\n",
       "    <tr>\n",
       "      <th>599</th>\n",
       "      <td>get</td>\n",
       "      <td>2.61941</td>\n",
       "    </tr>\n",
       "  </tbody>\n",
       "</table>\n",
       "</div>"
      ],
      "text/plain": [
       "    term    tfidf\n",
       "599  get  2.61941"
      ]
     },
     "execution_count": 274,
     "metadata": {},
     "output_type": "execute_result"
    }
   ],
   "source": [
    "terms.loc[terms.apply(lambda s: s.term == 'get',1)]"
   ]
  },
  {
   "cell_type": "code",
   "execution_count": 253,
   "metadata": {
    "collapsed": true
   },
   "outputs": [
    {
     "data": {
      "text/html": [
       "<div>\n",
       "<style scoped>\n",
       "    .dataframe tbody tr th:only-of-type {\n",
       "        vertical-align: middle;\n",
       "    }\n",
       "\n",
       "    .dataframe tbody tr th {\n",
       "        vertical-align: top;\n",
       "    }\n",
       "\n",
       "    .dataframe thead th {\n",
       "        text-align: right;\n",
       "    }\n",
       "</style>\n",
       "<table border=\"1\" class=\"dataframe\">\n",
       "  <thead>\n",
       "    <tr style=\"text-align: right;\">\n",
       "      <th></th>\n",
       "      <th>term</th>\n",
       "      <th>tfidf</th>\n",
       "    </tr>\n",
       "  </thead>\n",
       "  <tbody>\n",
       "    <tr>\n",
       "      <th>429</th>\n",
       "      <td>de</td>\n",
       "      <td>15.988901</td>\n",
       "    </tr>\n",
       "    <tr>\n",
       "      <th>1248</th>\n",
       "      <td>sunday</td>\n",
       "      <td>15.837923</td>\n",
       "    </tr>\n",
       "    <tr>\n",
       "      <th>746</th>\n",
       "      <td>later</td>\n",
       "      <td>15.696497</td>\n",
       "    </tr>\n",
       "    <tr>\n",
       "      <th>761</th>\n",
       "      <td>link</td>\n",
       "      <td>15.558814</td>\n",
       "    </tr>\n",
       "    <tr>\n",
       "      <th>29</th>\n",
       "      <td>16</td>\n",
       "      <td>15.545433</td>\n",
       "    </tr>\n",
       "    <tr>\n",
       "      <th>1504</th>\n",
       "      <td>want buy</td>\n",
       "      <td>15.419106</td>\n",
       "    </tr>\n",
       "    <tr>\n",
       "      <th>822</th>\n",
       "      <td>mean</td>\n",
       "      <td>15.410611</td>\n",
       "    </tr>\n",
       "    <tr>\n",
       "      <th>1502</th>\n",
       "      <td>want ask</td>\n",
       "      <td>15.371298</td>\n",
       "    </tr>\n",
       "    <tr>\n",
       "      <th>1029</th>\n",
       "      <td>promo code</td>\n",
       "      <td>15.345556</td>\n",
       "    </tr>\n",
       "    <tr>\n",
       "      <th>583</th>\n",
       "      <td>friday</td>\n",
       "      <td>15.341991</td>\n",
       "    </tr>\n",
       "    <tr>\n",
       "      <th>506</th>\n",
       "      <td>end</td>\n",
       "      <td>15.286868</td>\n",
       "    </tr>\n",
       "    <tr>\n",
       "      <th>1365</th>\n",
       "      <td>ticket want</td>\n",
       "      <td>15.266429</td>\n",
       "    </tr>\n",
       "    <tr>\n",
       "      <th>1294</th>\n",
       "      <td>think</td>\n",
       "      <td>15.263920</td>\n",
       "    </tr>\n",
       "    <tr>\n",
       "      <th>1104</th>\n",
       "      <td>said</td>\n",
       "      <td>15.105092</td>\n",
       "    </tr>\n",
       "    <tr>\n",
       "      <th>1050</th>\n",
       "      <td>rate</td>\n",
       "      <td>15.099651</td>\n",
       "    </tr>\n",
       "    <tr>\n",
       "      <th>1217</th>\n",
       "      <td>specif</td>\n",
       "      <td>15.043814</td>\n",
       "    </tr>\n",
       "    <tr>\n",
       "      <th>298</th>\n",
       "      <td>cannot</td>\n",
       "      <td>15.004287</td>\n",
       "    </tr>\n",
       "    <tr>\n",
       "      <th>1037</th>\n",
       "      <td>put</td>\n",
       "      <td>14.993479</td>\n",
       "    </tr>\n",
       "    <tr>\n",
       "      <th>981</th>\n",
       "      <td>pickup</td>\n",
       "      <td>14.983748</td>\n",
       "    </tr>\n",
       "    <tr>\n",
       "      <th>1214</th>\n",
       "      <td>speak</td>\n",
       "      <td>14.930794</td>\n",
       "    </tr>\n",
       "    <tr>\n",
       "      <th>1388</th>\n",
       "      <td>tix</td>\n",
       "      <td>14.883860</td>\n",
       "    </tr>\n",
       "    <tr>\n",
       "      <th>1224</th>\n",
       "      <td>st</td>\n",
       "      <td>14.853050</td>\n",
       "    </tr>\n",
       "    <tr>\n",
       "      <th>268</th>\n",
       "      <td>bought</td>\n",
       "      <td>14.793314</td>\n",
       "    </tr>\n",
       "    <tr>\n",
       "      <th>849</th>\n",
       "      <td>money</td>\n",
       "      <td>14.652453</td>\n",
       "    </tr>\n",
       "    <tr>\n",
       "      <th>710</th>\n",
       "      <td>issu</td>\n",
       "      <td>14.540934</td>\n",
       "    </tr>\n",
       "    <tr>\n",
       "      <th>896</th>\n",
       "      <td>offic</td>\n",
       "      <td>14.498949</td>\n",
       "    </tr>\n",
       "    <tr>\n",
       "      <th>692</th>\n",
       "      <td>info</td>\n",
       "      <td>14.488046</td>\n",
       "    </tr>\n",
       "    <tr>\n",
       "      <th>546</th>\n",
       "      <td>facebook</td>\n",
       "      <td>14.472501</td>\n",
       "    </tr>\n",
       "    <tr>\n",
       "      <th>1357</th>\n",
       "      <td>ticket tomorrow</td>\n",
       "      <td>14.400166</td>\n",
       "    </tr>\n",
       "    <tr>\n",
       "      <th>157</th>\n",
       "      <td>anyon</td>\n",
       "      <td>14.381518</td>\n",
       "    </tr>\n",
       "    <tr>\n",
       "      <th>...</th>\n",
       "      <td>...</td>\n",
       "      <td>...</td>\n",
       "    </tr>\n",
       "    <tr>\n",
       "      <th>151</th>\n",
       "      <td>anoth card</td>\n",
       "      <td>2.164668</td>\n",
       "    </tr>\n",
       "    <tr>\n",
       "      <th>162</th>\n",
       "      <td>apolog</td>\n",
       "      <td>2.160674</td>\n",
       "    </tr>\n",
       "    <tr>\n",
       "      <th>778</th>\n",
       "      <td>longer</td>\n",
       "      <td>2.144034</td>\n",
       "    </tr>\n",
       "    <tr>\n",
       "      <th>1090</th>\n",
       "      <td>rest</td>\n",
       "      <td>2.140783</td>\n",
       "    </tr>\n",
       "    <tr>\n",
       "      <th>381</th>\n",
       "      <td>consecut</td>\n",
       "      <td>2.126755</td>\n",
       "    </tr>\n",
       "    <tr>\n",
       "      <th>712</th>\n",
       "      <td>itali rome</td>\n",
       "      <td>2.107688</td>\n",
       "    </tr>\n",
       "    <tr>\n",
       "      <th>521</th>\n",
       "      <td>even though</td>\n",
       "      <td>2.102368</td>\n",
       "    </tr>\n",
       "    <tr>\n",
       "      <th>423</th>\n",
       "      <td>date ticket</td>\n",
       "      <td>2.081178</td>\n",
       "    </tr>\n",
       "    <tr>\n",
       "      <th>461</th>\n",
       "      <td>disappoint</td>\n",
       "      <td>2.054935</td>\n",
       "    </tr>\n",
       "    <tr>\n",
       "      <th>1471</th>\n",
       "      <td>usa</td>\n",
       "      <td>2.053648</td>\n",
       "    </tr>\n",
       "    <tr>\n",
       "      <th>306</th>\n",
       "      <td>card number</td>\n",
       "      <td>2.042188</td>\n",
       "    </tr>\n",
       "    <tr>\n",
       "      <th>600</th>\n",
       "      <td>get ticket</td>\n",
       "      <td>2.040919</td>\n",
       "    </tr>\n",
       "    <tr>\n",
       "      <th>453</th>\n",
       "      <td>differ date</td>\n",
       "      <td>2.034010</td>\n",
       "    </tr>\n",
       "    <tr>\n",
       "      <th>481</th>\n",
       "      <td>download app</td>\n",
       "      <td>2.004205</td>\n",
       "    </tr>\n",
       "    <tr>\n",
       "      <th>1518</th>\n",
       "      <td>wast</td>\n",
       "      <td>2.003922</td>\n",
       "    </tr>\n",
       "    <tr>\n",
       "      <th>979</th>\n",
       "      <td>pic</td>\n",
       "      <td>1.994936</td>\n",
       "    </tr>\n",
       "    <tr>\n",
       "      <th>839</th>\n",
       "      <td>mine</td>\n",
       "      <td>1.990467</td>\n",
       "    </tr>\n",
       "    <tr>\n",
       "      <th>748</th>\n",
       "      <td>least</td>\n",
       "      <td>1.959881</td>\n",
       "    </tr>\n",
       "    <tr>\n",
       "      <th>1406</th>\n",
       "      <td>tour okay</td>\n",
       "      <td>1.938384</td>\n",
       "    </tr>\n",
       "    <tr>\n",
       "      <th>1106</th>\n",
       "      <td>sand</td>\n",
       "      <td>1.896960</td>\n",
       "    </tr>\n",
       "    <tr>\n",
       "      <th>650</th>\n",
       "      <td>henc</td>\n",
       "      <td>1.887024</td>\n",
       "    </tr>\n",
       "    <tr>\n",
       "      <th>4</th>\n",
       "      <td>09</td>\n",
       "      <td>1.879953</td>\n",
       "    </tr>\n",
       "    <tr>\n",
       "      <th>252</th>\n",
       "      <td>book receiv</td>\n",
       "      <td>1.858364</td>\n",
       "    </tr>\n",
       "    <tr>\n",
       "      <th>639</th>\n",
       "      <td>guest detail</td>\n",
       "      <td>1.718208</td>\n",
       "    </tr>\n",
       "    <tr>\n",
       "      <th>700</th>\n",
       "      <td>instruct</td>\n",
       "      <td>1.563980</td>\n",
       "    </tr>\n",
       "    <tr>\n",
       "      <th>1056</th>\n",
       "      <td>realli want</td>\n",
       "      <td>1.553351</td>\n",
       "    </tr>\n",
       "    <tr>\n",
       "      <th>587</th>\n",
       "      <td>frustrat</td>\n",
       "      <td>1.522316</td>\n",
       "    </tr>\n",
       "    <tr>\n",
       "      <th>978</th>\n",
       "      <td>photo id</td>\n",
       "      <td>1.468032</td>\n",
       "    </tr>\n",
       "    <tr>\n",
       "      <th>1178</th>\n",
       "      <td>shortli</td>\n",
       "      <td>1.450789</td>\n",
       "    </tr>\n",
       "    <tr>\n",
       "      <th>305</th>\n",
       "      <td>card end</td>\n",
       "      <td>1.382755</td>\n",
       "    </tr>\n",
       "  </tbody>\n",
       "</table>\n",
       "<p>1371 rows × 2 columns</p>\n",
       "</div>"
      ],
      "text/plain": [
       "                 term      tfidf\n",
       "429                de  15.988901\n",
       "1248           sunday  15.837923\n",
       "746             later  15.696497\n",
       "761              link  15.558814\n",
       "29                 16  15.545433\n",
       "1504         want buy  15.419106\n",
       "822              mean  15.410611\n",
       "1502         want ask  15.371298\n",
       "1029       promo code  15.345556\n",
       "583            friday  15.341991\n",
       "506               end  15.286868\n",
       "1365      ticket want  15.266429\n",
       "1294            think  15.263920\n",
       "1104             said  15.105092\n",
       "1050             rate  15.099651\n",
       "1217           specif  15.043814\n",
       "298            cannot  15.004287\n",
       "1037              put  14.993479\n",
       "981            pickup  14.983748\n",
       "1214            speak  14.930794\n",
       "1388              tix  14.883860\n",
       "1224               st  14.853050\n",
       "268            bought  14.793314\n",
       "849             money  14.652453\n",
       "710              issu  14.540934\n",
       "896             offic  14.498949\n",
       "692              info  14.488046\n",
       "546          facebook  14.472501\n",
       "1357  ticket tomorrow  14.400166\n",
       "157             anyon  14.381518\n",
       "...               ...        ...\n",
       "151        anoth card   2.164668\n",
       "162            apolog   2.160674\n",
       "778            longer   2.144034\n",
       "1090             rest   2.140783\n",
       "381          consecut   2.126755\n",
       "712        itali rome   2.107688\n",
       "521       even though   2.102368\n",
       "423       date ticket   2.081178\n",
       "461        disappoint   2.054935\n",
       "1471              usa   2.053648\n",
       "306       card number   2.042188\n",
       "600        get ticket   2.040919\n",
       "453       differ date   2.034010\n",
       "481      download app   2.004205\n",
       "1518             wast   2.003922\n",
       "979               pic   1.994936\n",
       "839              mine   1.990467\n",
       "748             least   1.959881\n",
       "1406        tour okay   1.938384\n",
       "1106             sand   1.896960\n",
       "650              henc   1.887024\n",
       "4                  09   1.879953\n",
       "252       book receiv   1.858364\n",
       "639      guest detail   1.718208\n",
       "700          instruct   1.563980\n",
       "1056      realli want   1.553351\n",
       "587          frustrat   1.522316\n",
       "978          photo id   1.468032\n",
       "1178          shortli   1.450789\n",
       "305          card end   1.382755\n",
       "\n",
       "[1371 rows x 2 columns]"
      ]
     },
     "execution_count": 253,
     "metadata": {},
     "output_type": "execute_result"
    }
   ],
   "source": [
    "terms.sort_values('tfidf',ascending=False)[200:]"
   ]
  },
  {
   "cell_type": "code",
   "execution_count": 200,
   "metadata": {},
   "outputs": [
    {
     "data": {
      "text/plain": [
       "<4354x1580 sparse matrix of type '<class 'numpy.float64'>'\n",
       "\twith 68534 stored elements in Compressed Sparse Row format>"
      ]
     },
     "execution_count": 200,
     "metadata": {},
     "output_type": "execute_result"
    }
   ],
   "source": [
    "x"
   ]
  },
  {
   "cell_type": "code",
   "execution_count": 275,
   "metadata": {},
   "outputs": [],
   "source": [
    "from sklearn.model_selection import train_test_split\n",
    "x_train, x_test, y_train, y_test = train_test_split(x, y, test_size=0.2, random_state=100)"
   ]
  },
  {
   "cell_type": "code",
   "execution_count": 296,
   "metadata": {},
   "outputs": [],
   "source": [
    "from sklearn.linear_model import SGDClassifier\n",
    "from sklearn.metrics import f1_score\n",
    "from sklearn.model_selection import GridSearchCV\n",
    "sgd = SGDClassifier(random_state=100)\n",
    "sgd_param = {'alpha': [0.001, 0.01, 0.0001, 0.1]\n",
    "            }\n",
    "clf = GridSearchCV(sgd, sgd_param, cv=5, n_jobs=-1, scoring='f1_macro')"
   ]
  },
  {
   "cell_type": "code",
   "execution_count": 234,
   "metadata": {},
   "outputs": [],
   "source": [
    "from sklearn.naive_bayes import MultinomialNB\n",
    "nb = MultinomialNB()\n",
    "nb_param = {'alpha': [0.2, 0.1, 0.3, 0.005]}\n",
    "clf = GridSearchCV(nb, nb_param, cv=5, n_jobs=-1, scoring='f1_macro')"
   ]
  },
  {
   "cell_type": "code",
   "execution_count": 297,
   "metadata": {},
   "outputs": [
    {
     "name": "stdout",
     "output_type": "stream",
     "text": [
      "CPU times: user 151 ms, sys: 32.1 ms, total: 183 ms\n",
      "Wall time: 566 ms\n"
     ]
    },
    {
     "data": {
      "text/plain": [
       "GridSearchCV(cv=5, error_score='raise',\n",
       "       estimator=SGDClassifier(alpha=0.0001, average=False, class_weight=None, epsilon=0.1,\n",
       "       eta0=0.0, fit_intercept=True, l1_ratio=0.15,\n",
       "       learning_rate='optimal', loss='hinge', max_iter=None, n_iter=None,\n",
       "       n_jobs=1, penalty='l2', power_t=0.5, random_state=100, shuffle=True,\n",
       "       tol=None, verbose=0, warm_start=False),\n",
       "       fit_params=None, iid=True, n_jobs=-1,\n",
       "       param_grid={'alpha': [0.001, 0.01, 0.0001, 0.1]},\n",
       "       pre_dispatch='2*n_jobs', refit=True, return_train_score='warn',\n",
       "       scoring='f1_macro', verbose=0)"
      ]
     },
     "execution_count": 297,
     "metadata": {},
     "output_type": "execute_result"
    }
   ],
   "source": [
    "%%time\n",
    "clf.fit(x_train, y_train)"
   ]
  },
  {
   "cell_type": "code",
   "execution_count": 298,
   "metadata": {},
   "outputs": [
    {
     "data": {
      "text/plain": [
       "{'mean_fit_time': array([0.04042749, 0.03349261, 0.02267499, 0.02835269]),\n",
       " 'std_fit_time': array([0.0007586 , 0.00646512, 0.00222772, 0.0011291 ]),\n",
       " 'mean_score_time': array([0.0023912 , 0.00176005, 0.00112548, 0.00110478]),\n",
       " 'std_score_time': array([2.90083900e-04, 5.41371527e-04, 4.20246410e-05, 1.27104377e-04]),\n",
       " 'param_alpha': masked_array(data=[0.001, 0.01, 0.0001, 0.1],\n",
       "              mask=[False, False, False, False],\n",
       "        fill_value='?',\n",
       "             dtype=object),\n",
       " 'params': [{'alpha': 0.001},\n",
       "  {'alpha': 0.01},\n",
       "  {'alpha': 0.0001},\n",
       "  {'alpha': 0.1}],\n",
       " 'split0_test_score': array([0.40851315, 0.41526016, 0.41890948, 0.11277862]),\n",
       " 'split1_test_score': array([0.41874406, 0.40685658, 0.4486862 , 0.10639493]),\n",
       " 'split2_test_score': array([0.42868386, 0.41138803, 0.43295679, 0.12658532]),\n",
       " 'split3_test_score': array([0.40368159, 0.40385401, 0.42578057, 0.0675746 ]),\n",
       " 'split4_test_score': array([0.42855453, 0.42479922, 0.43657331, 0.09559452]),\n",
       " 'mean_test_score': array([0.4176048 , 0.4124055 , 0.43257176, 0.10185529]),\n",
       " 'std_test_score': array([0.0101891 , 0.00727747, 0.01011533, 0.01981198]),\n",
       " 'rank_test_score': array([2, 3, 1, 4], dtype=int32),\n",
       " 'split0_train_score': array([0.79701119, 0.7822827 , 0.93321166, 0.13036841]),\n",
       " 'split1_train_score': array([0.81986864, 0.78604195, 0.93446539, 0.11836234]),\n",
       " 'split2_train_score': array([0.81031139, 0.774587  , 0.93575521, 0.15102367]),\n",
       " 'split3_train_score': array([0.80340251, 0.77410947, 0.92655441, 0.06790044]),\n",
       " 'split4_train_score': array([0.80011084, 0.77085037, 0.93758159, 0.10578991]),\n",
       " 'mean_train_score': array([0.80614091, 0.7775743 , 0.93351365, 0.11468895]),\n",
       " 'std_train_score': array([0.00816157, 0.00565704, 0.00376831, 0.02774133])}"
      ]
     },
     "execution_count": 298,
     "metadata": {},
     "output_type": "execute_result"
    }
   ],
   "source": [
    "clf.cv_results_"
   ]
  },
  {
   "cell_type": "code",
   "execution_count": 140,
   "metadata": {
    "scrolled": false
   },
   "outputs": [
    {
     "data": {
      "text/plain": [
       "{'mean_fit_time': array([0.04327898, 0.03229651]),\n",
       " 'std_fit_time': array([0.00335704, 0.00733333]),\n",
       " 'mean_score_time': array([0.0023983, 0.0014771]),\n",
       " 'std_score_time': array([0.00022847, 0.00039909]),\n",
       " 'param_alpha': masked_array(data=[0.001, 0.002],\n",
       "              mask=[False, False],\n",
       "        fill_value='?',\n",
       "             dtype=object),\n",
       " 'params': [{'alpha': 0.001}, {'alpha': 0.002}],\n",
       " 'split0_test_score': array([0.44638971, 0.43499331]),\n",
       " 'split1_test_score': array([0.48368509, 0.47151603]),\n",
       " 'split2_test_score': array([0.47971297, 0.46926419]),\n",
       " 'split3_test_score': array([0.45816959, 0.4534119 ]),\n",
       " 'split4_test_score': array([0.5105392 , 0.49644419]),\n",
       " 'mean_test_score': array([0.47558307, 0.46501052]),\n",
       " 'std_test_score': array([0.02214565, 0.02039563]),\n",
       " 'rank_test_score': array([1, 2], dtype=int32),\n",
       " 'split0_train_score': array([0.81131243, 0.78783472]),\n",
       " 'split1_train_score': array([0.81236261, 0.79685381]),\n",
       " 'split2_train_score': array([0.81059502, 0.79173531]),\n",
       " 'split3_train_score': array([0.80915934, 0.78641857]),\n",
       " 'split4_train_score': array([0.80850947, 0.78990806]),\n",
       " 'mean_train_score': array([0.81038778, 0.7905501 ]),\n",
       " 'std_train_score': array([0.0014025 , 0.00363308])}"
      ]
     },
     "execution_count": 140,
     "metadata": {},
     "output_type": "execute_result"
    }
   ],
   "source": [
    "clf.cv_results_"
   ]
  },
  {
   "cell_type": "code",
   "execution_count": 141,
   "metadata": {},
   "outputs": [
    {
     "data": {
      "text/plain": [
       "SGDClassifier(alpha=0.001, average=False, class_weight=None, epsilon=0.1,\n",
       "       eta0=0.0, fit_intercept=True, l1_ratio=0.15,\n",
       "       learning_rate='optimal', loss='hinge', max_iter=None, n_iter=None,\n",
       "       n_jobs=-1, penalty='l2', power_t=0.5, random_state=100,\n",
       "       shuffle=True, tol=None, verbose=0, warm_start=False)"
      ]
     },
     "execution_count": 141,
     "metadata": {},
     "output_type": "execute_result"
    }
   ],
   "source": [
    "sgd = SGDClassifier(alpha=0.001, random_state=100, n_jobs=-1)\n",
    "sgd.fit(x_train,y_train)"
   ]
  },
  {
   "cell_type": "code",
   "execution_count": 142,
   "metadata": {},
   "outputs": [
    {
     "data": {
      "text/plain": [
       "0.5519244610708467"
      ]
     },
     "execution_count": 142,
     "metadata": {},
     "output_type": "execute_result"
    }
   ],
   "source": [
    "f1_score(sgd.predict(x_test), y_test, average='weighted')"
   ]
  },
  {
   "cell_type": "code",
   "execution_count": 64,
   "metadata": {},
   "outputs": [
    {
     "data": {
      "text/plain": [
       "2    -1.693015\n",
       "11   -1.594039\n",
       "3    -1.578137\n",
       "15   -1.534652\n",
       "5    -1.513845\n",
       "0    -1.442275\n",
       "19   -1.427674\n",
       "17   -1.424160\n",
       "14   -1.319785\n",
       "18   -1.307455\n",
       "10   -1.300718\n",
       "4    -1.205769\n",
       "7    -1.202773\n",
       "13   -1.163881\n",
       "8    -1.163825\n",
       "16   -1.133505\n",
       "9    -1.068774\n",
       "12   -1.066628\n",
       "1    -0.884290\n",
       "6    -0.572425\n",
       "dtype: float64"
      ]
     },
     "execution_count": 64,
     "metadata": {},
     "output_type": "execute_result"
    }
   ],
   "source": [
    "pd.Series(sgd.decision_function(tv.transform(['what about this lion king']))[0]).sort_values()"
   ]
  },
  {
   "cell_type": "code",
   "execution_count": 299,
   "metadata": {},
   "outputs": [
    {
     "data": {
      "text/plain": [
       "SGDClassifier(alpha=0.0001, average=False, class_weight=None, epsilon=0.1,\n",
       "       eta0=0.0, fit_intercept=True, l1_ratio=0.15,\n",
       "       learning_rate='optimal', loss='hinge', max_iter=None, n_iter=None,\n",
       "       n_jobs=-1, penalty='l2', power_t=0.5, random_state=100,\n",
       "       shuffle=True, tol=None, verbose=0, warm_start=False)"
      ]
     },
     "execution_count": 299,
     "metadata": {},
     "output_type": "execute_result"
    }
   ],
   "source": [
    "sgd = SGDClassifier(alpha=0.0001, random_state=100, n_jobs=-1)\n",
    "sgd.fit(x,y)"
   ]
  },
  {
   "cell_type": "code",
   "execution_count": 237,
   "metadata": {},
   "outputs": [
    {
     "data": {
      "text/plain": [
       "MultinomialNB(alpha=0.1, class_prior=None, fit_prior=True)"
      ]
     },
     "execution_count": 237,
     "metadata": {},
     "output_type": "execute_result"
    }
   ],
   "source": [
    "nb = MultinomialNB(alpha=0.1)\n",
    "nb.fit(x,y)"
   ]
  },
  {
   "cell_type": "code",
   "execution_count": 217,
   "metadata": {},
   "outputs": [
    {
     "data": {
      "text/plain": [
       "0.8240698208543867"
      ]
     },
     "execution_count": 217,
     "metadata": {},
     "output_type": "execute_result"
    }
   ],
   "source": [
    "nb.score(x,y)"
   ]
  },
  {
   "cell_type": "code",
   "execution_count": 280,
   "metadata": {},
   "outputs": [
    {
     "data": {
      "text/plain": [
       "0.8713826366559485"
      ]
     },
     "execution_count": 280,
     "metadata": {},
     "output_type": "execute_result"
    }
   ],
   "source": [
    "sgd.score(x,y)"
   ]
  },
  {
   "cell_type": "code",
   "execution_count": 304,
   "metadata": {},
   "outputs": [
    {
     "data": {
      "text/plain": [
       "['Query_Model.sav']"
      ]
     },
     "execution_count": 304,
     "metadata": {},
     "output_type": "execute_result"
    }
   ],
   "source": [
    "import joblib\n",
    "\n",
    "# save tfidf\n",
    "filename = 'Query_Vectorizer.sav'\n",
    "joblib.dump(tv, filename)\n",
    "\n",
    "# save sgd model\n",
    "filename = 'Query_Model.sav'\n",
    "joblib.dump(sgd, filename)"
   ]
  },
  {
   "cell_type": "code",
   "execution_count": 54,
   "metadata": {},
   "outputs": [
    {
     "data": {
      "text/html": [
       "<div>\n",
       "<style scoped>\n",
       "    .dataframe tbody tr th:only-of-type {\n",
       "        vertical-align: middle;\n",
       "    }\n",
       "\n",
       "    .dataframe tbody tr th {\n",
       "        vertical-align: top;\n",
       "    }\n",
       "\n",
       "    .dataframe thead th {\n",
       "        text-align: right;\n",
       "    }\n",
       "</style>\n",
       "<table border=\"1\" class=\"dataframe\">\n",
       "  <thead>\n",
       "    <tr style=\"text-align: right;\">\n",
       "      <th></th>\n",
       "      <th>topic_no</th>\n",
       "      <th>topic_name</th>\n",
       "    </tr>\n",
       "  </thead>\n",
       "  <tbody>\n",
       "    <tr>\n",
       "      <th>0</th>\n",
       "      <td>2</td>\n",
       "      <td>time</td>\n",
       "    </tr>\n",
       "    <tr>\n",
       "      <th>1</th>\n",
       "      <td>5</td>\n",
       "      <td>reservation</td>\n",
       "    </tr>\n",
       "    <tr>\n",
       "      <th>2</th>\n",
       "      <td>6</td>\n",
       "      <td>discount offer</td>\n",
       "    </tr>\n",
       "    <tr>\n",
       "      <th>3</th>\n",
       "      <td>9</td>\n",
       "      <td>select seat</td>\n",
       "    </tr>\n",
       "    <tr>\n",
       "      <th>4</th>\n",
       "      <td>10</td>\n",
       "      <td>refund</td>\n",
       "    </tr>\n",
       "    <tr>\n",
       "      <th>5</th>\n",
       "      <td>11</td>\n",
       "      <td>children</td>\n",
       "    </tr>\n",
       "    <tr>\n",
       "      <th>6</th>\n",
       "      <td>14</td>\n",
       "      <td>book a tour</td>\n",
       "    </tr>\n",
       "    <tr>\n",
       "      <th>7</th>\n",
       "      <td>15</td>\n",
       "      <td>ticket</td>\n",
       "    </tr>\n",
       "    <tr>\n",
       "      <th>8</th>\n",
       "      <td>18</td>\n",
       "      <td>coupon code</td>\n",
       "    </tr>\n",
       "    <tr>\n",
       "      <th>9</th>\n",
       "      <td>19</td>\n",
       "      <td>cashback</td>\n",
       "    </tr>\n",
       "  </tbody>\n",
       "</table>\n",
       "</div>"
      ],
      "text/plain": [
       "   topic_no      topic_name\n",
       "0         2            time\n",
       "1         5     reservation\n",
       "2         6  discount offer\n",
       "3         9     select seat\n",
       "4        10          refund\n",
       "5        11        children\n",
       "6        14     book a tour\n",
       "7        15          ticket\n",
       "8        18     coupon code\n",
       "9        19        cashback"
      ]
     },
     "execution_count": 54,
     "metadata": {},
     "output_type": "execute_result"
    }
   ],
   "source": [
    "top"
   ]
  },
  {
   "cell_type": "code",
   "execution_count": 301,
   "metadata": {},
   "outputs": [
    {
     "data": {
      "text/plain": [
       "array([6.])"
      ]
     },
     "execution_count": 301,
     "metadata": {},
     "output_type": "execute_result"
    }
   ],
   "source": [
    "sgd.predict(tv.transform(['is there any discount for lion king']))"
   ]
  },
  {
   "cell_type": "code",
   "execution_count": 300,
   "metadata": {},
   "outputs": [
    {
     "data": {
      "text/plain": [
       "array([10.])"
      ]
     },
     "execution_count": 300,
     "metadata": {},
     "output_type": "execute_result"
    }
   ],
   "source": [
    "sgd.predict(tv.transform(['i  would like to get a refund for opeara']))"
   ]
  },
  {
   "cell_type": "code",
   "execution_count": 312,
   "metadata": {},
   "outputs": [
    {
     "data": {
      "text/plain": [
       "array([9.])"
      ]
     },
     "execution_count": 312,
     "metadata": {},
     "output_type": "execute_result"
    }
   ],
   "source": [
    "sgd.predict(tv.transform(['can i  choose seat n for opeara']))"
   ]
  },
  {
   "cell_type": "code",
   "execution_count": 318,
   "metadata": {},
   "outputs": [
    {
     "data": {
      "text/plain": [
       "1.7979626191832827"
      ]
     },
     "execution_count": 318,
     "metadata": {},
     "output_type": "execute_result"
    }
   ],
   "source": [
    "sgd.decision_function(tv.transform(['is there any discount for lion king'])).max()"
   ]
  },
  {
   "cell_type": "code",
   "execution_count": null,
   "metadata": {},
   "outputs": [],
   "source": []
  }
 ],
 "metadata": {
  "kernelspec": {
   "display_name": "Python 3",
   "language": "python",
   "name": "python3"
  },
  "language_info": {
   "codemirror_mode": {
    "name": "ipython",
    "version": 3
   },
   "file_extension": ".py",
   "mimetype": "text/x-python",
   "name": "python",
   "nbconvert_exporter": "python",
   "pygments_lexer": "ipython3",
   "version": "3.7.0"
  }
 },
 "nbformat": 4,
 "nbformat_minor": 2
}
