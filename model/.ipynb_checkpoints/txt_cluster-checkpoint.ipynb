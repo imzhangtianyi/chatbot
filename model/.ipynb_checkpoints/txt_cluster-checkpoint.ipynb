{
 "cells": [
  {
   "cell_type": "code",
   "execution_count": 1,
   "metadata": {},
   "outputs": [],
   "source": [
    "import pandas as pd\n",
    "df_t = pd.read_csv('QApairs.csv')"
   ]
  },
  {
   "cell_type": "code",
   "execution_count": 2,
   "metadata": {},
   "outputs": [
    {
     "data": {
      "text/plain": [
       "(91468, 4)"
      ]
     },
     "execution_count": 2,
     "metadata": {},
     "output_type": "execute_result"
    }
   ],
   "source": [
    "df_t.shape"
   ]
  },
  {
   "cell_type": "code",
   "execution_count": 7,
   "metadata": {},
   "outputs": [
    {
     "data": {
      "text/plain": [
       " ok                                                                                                                                                                                                                                                                                                                                                                                                                                                                                                                                                                                                                                                           642\n",
       " Ok                                                                                                                                                                                                                                                                                                                                                                                                                                                                                                                                                                                                                                                           475\n",
       " Thank you                                                                                                                                                                                                                                                                                                                                                                                                                                                                                                                                                                                                                                                    303\n",
       " Hi                                                                                                                                                                                                                                                                                                                                                                                                                                                                                                                                                                                                                                                           239\n",
       " Thanks                                                                                                                                                                                                                                                                                                                                                                                                                                                                                                                                                                                                                                                       225\n",
       " Yes                                                                                                                                                                                                                                                                                                                                                                                                                                                                                                                                                                                                                                                          212\n",
       " thank you                                                                                                                                                                                                                                                                                                                                                                                                                                                                                                                                                                                                                                                    210\n",
       " yes                                                                                                                                                                                                                                                                                                                                                                                                                                                                                                                                                                                                                                                          208\n",
       " thanks                                                                                                                                                                                                                                                                                                                                                                                                                                                                                                                                                                                                                                                       194\n",
       " ok thanks                                                                                                                                                                                                                                                                                                                                                                                                                                                                                                                                                                                                                                                    188\n",
       " Ok thanks                                                                                                                                                                                                                                                                                                                                                                                                                                                                                                                                                                                                                                                    172\n",
       " hi                                                                                                                                                                                                                                                                                                                                                                                                                                                                                                                                                                                                                                                           161\n",
       " Thanks                                                                                                                                                                                                                                                                                                                                                                                                                                                                                                                                                                                                                                                       133\n",
       " Ok thank you                                                                                                                                                                                                                                                                                                                                                                                                                                                                                                                                                                                                                                                 130\n",
       " Ok thanks                                                                                                                                                                                                                                                                                                                                                                                                                                                                                                                                                                                                                                                    109\n",
       " Hello                                                                                                                                                                                                                                                                                                                                                                                                                                                                                                                                                                                                                                                         98\n",
       " Thank you                                                                                                                                                                                                                                                                                                                                                                                                                                                                                                                                                                                                                                                     92\n",
       " no                                                                                                                                                                                                                                                                                                                                                                                                                                                                                                                                                                                                                                                            79\n",
       " sure                                                                                                                                                                                                                                                                                                                                                                                                                                                                                                                                                                                                                                                          78\n",
       " Sure                                                                                                                                                                                                                                                                                                                                                                                                                                                                                                                                                                                                                                                          66\n",
       " Thank you!                                                                                                                                                                                                                                                                                                                                                                                                                                                                                                                                                                                                                                                    64\n",
       " Ok thank you                                                                                                                                                                                                                                                                                                                                                                                                                                                                                                                                                                                                                                                  58\n",
       " Thanks!                                                                                                                                                                                                                                                                                                                                                                                                                                                                                                                                                                                                                                                       51\n",
       " hello                                                                                                                                                                                                                                                                                                                                                                                                                                                                                                                                                                                                                                                         47\n",
       " no thanks                                                                                                                                                                                                                                                                                                                                                                                                                                                                                                                                                                                                                                                     46\n",
       " ok, thanks                                                                                                                                                                                                                                                                                                                                                                                                                                                                                                                                                                                                                                                    44\n",
       " Hi                                                                                                                                                                                                                                                                                                                                                                                                                                                                                                                                                                                                                                                            43\n",
       " Okay                                                                                                                                                                                                                                                                                                                                                                                                                                                                                                                                                                                                                                                          42\n",
       " ok thank you                                                                                                                                                                                                                                                                                                                                                                                                                                                                                                                                                                                                                                                  41\n",
       " thanks ok                                                                                                                                                                                                                                                                                                                                                                                                                                                                                                                                                                                                                                                     40\n",
       "                                                                                                                                                                                                                                                                                                                                                                                                                                                                                                                                                                                                                                                             ... \n",
       " Hi, If we buy combo ticket, will we be allowed to visit each facility on separate days                                                                                                                                                                                                                                                                                                                                                                                                                                                                                                                                                                         1\n",
       " I found one ok                                                                                                                                                                                                                                                                                                                                                                                                                                                                                                                                                                                                                                                 1\n",
       " Are you there  Hi                                                                                                                                                                                                                                                                                                                                                                                                                                                                                                                                                                                                                                              1\n",
       " I might be able to add it to the cart, the trouble is that I can't find the express pass anywhere                                                                                                                                                                                                                                                                                                                                                                                                                                                                                                                                                              1\n",
       " But I there's no option to pay for the fresher's class before the session I've done this                                                                                                                                                                                                                                                                                                                                                                                                                                                                                                                                                                       1\n",
       " It has to be downstairs                                                                                                                                                                                                                                                                                                                                                                                                                                                                                                                                                                                                                                        1\n",
       " **i never sumbmitted my information twice  I have already sent an email to the headout help support but it's really important I get this refund. I submit my card information twice so I'm not sure how I got doubly charged.  Hello so my reservations were under the numbers 255529 and 255530. I tried contacting yesterday but got not help. I only meant to make one reservation for two tickets for the Sagrada Familia but somehow i got charged for two separate tickets of two and got charged for four tickets. I would really appreciate a refund for the two tickets we didn't use yesterday for I wasn't supposed to be charged with them.        1\n",
       " and after selecting 1.1 m below .. Shows full ticket charge But there is confusion.. somewhere is written 3 yrs below free..                                                                                                                                                                                                                                                                                                                                                                                                                                                                                                                                   1\n",
       " I'm looking for affordable tickets hence the reason I came to your website  2                                                                                                                                                                                                                                                                                                                                                                                                                                                                                                                                                                                  1\n",
       " Also, where should we go for the cruise? Hi! I would like to know if I purchase the tickets there’s availability for the cruise tonight?                                                                                                                                                                                                                                                                                                                                                                                                                                                                                                                       1\n",
       " how much time would it need ? okay im waiting                                                                                                                                                                                                                                                                                                                                                                                                                                                                                                                                                                                                                  1\n",
       " thankx                                                                                                                                                                                                                                                                                                                                                                                                                                                                                                                                                                                                                                                         1\n",
       " Thank you Elle !!! got it o0k                                                                                                                                                                                                                                                                                                                                                                                                                                                                                                                                                                                                                                  1\n",
       " I don't see any entry point                                                                                                                                                                                                                                                                                                                                                                                                                                                                                                                                                                                                                                    1\n",
       " But it does not give me the option to select the dolphin show timing I will trying to book the combo for bhurj khalifa. Aquarium and dolphin and seal show                                                                                                                                                                                                                                                                                                                                                                                                                                                                                                     1\n",
       " Thats odd as it is definitelt being advertised by Travelzoo                                                                                                                                                                                                                                                                                                                                                                                                                                                                                                                                                                                                    1\n",
       " This is my ticket just for your reference  Because confused 😕 me the ticket  Singapore zoo and river safari                                                                                                                                                                                                                                                                                                                                                                                                                                                                                                                                                    1\n",
       " 4 months pregnant lady can go top                                                                                                                                                                                                                                                                                                                                                                                                                                                                                                                                                                                                                              1\n",
       " for the purpose of staffing and manpower solutions in india can i get the no. of HR  hey elle                                                                                                                                                                                                                                                                                                                                                                                                                                                                                                                                                                  1\n",
       " does it not allow me to book for April 1st week ? does it mean that  Complete Universal Studio + Any 3 attractions from Santosa  ?                                                                                                                                                                                                                                                                                                                                                                                                                                                                                                                             1\n",
       " Or do we still have to waiting in line? If we buy 7 tickets for the Catacombs at 4pm do we enter next to the long line for the catacombs?                                                                                                                                                                                                                                                                                                                                                                                                                                                                                                                      1\n",
       " Ok thanks I am booking for 230 PM trip today                                                                                                                                                                                                                                                                                                                                                                                                                                                                                                                                                                                                                   1\n",
       " U there M staying in hotel at Al Ras. Dp we get pickup from here.  Hi                                                                                                                                                                                                                                                                                                                                                                                                                                                                                                                                                                                          1\n",
       " i will connect later                                                                                                                                                                                                                                                                                                                                                                                                                                                                                                                                                                                                                                           1\n",
       " XHi i am looking for 5 tix for aladdin in nyc on 3/31 at 8:00 or 4/1 at 3:00. I noticed that u have 4 tix available in balcony for $55 each. Is there a single tic nearby at same price or anything if we split 3 and 2?                                                                                                                                                                                                                                                                                                                                                                                                                                       1\n",
       " can you confirm is the ice park is covered in the garden glow ticket, only then I will do the bookings but when we went at the garden glow, the security didn't allow us to the ice park with the headout tickets. they said yes, it will be covered                                                                                                                                                                                                                                                                                                                                                                                                           1\n",
       " with Hotel pick-up and drop-off by 4x4 Red Dune Desert Safari with BBQ Dinner & Live Entertainment                                                                                                                                                                                                                                                                                                                                                                                                                                                                                                                                                             1\n",
       " please understand  i did not recieve the money this is the p[roblem mam                                                                                                                                                                                                                                                                                                                                                                                                                                                                                                                                                                                        1\n",
       " as i see time starting at 10:30 pm nah i want to book now after knowing                                                                                                                                                                                                                                                                                                                                                                                                                                                                                                                                                                                        1\n",
       " Hello. I had recently applied for a job and i was supposed to have an interview last week, but i have not heard back yet and I'm not sure who to contact regarding this.                                                                                                                                                                                                                                                                                                                                                                                                                                                                                       1\n",
       "Name: query, Length: 13157, dtype: int64"
      ]
     },
     "execution_count": 7,
     "metadata": {},
     "output_type": "execute_result"
    }
   ],
   "source": [
    "df_t['query'] == "
   ]
  },
  {
   "cell_type": "code",
   "execution_count": 1,
   "metadata": {},
   "outputs": [],
   "source": [
    "import pandas as pd\n",
    "df_t = pd.read_csv('transcript_all.csv')\n",
    "txt_a = df_t.loc[df_t.user_type == 'agent']"
   ]
  },
  {
   "cell_type": "markdown",
   "metadata": {},
   "source": [
    "# Remove frequently occuring greetings"
   ]
  },
  {
   "cell_type": "code",
   "execution_count": 43,
   "metadata": {},
   "outputs": [],
   "source": [
    "frequent_a = txt_a.text.value_counts()[:100].index"
   ]
  },
  {
   "cell_type": "code",
   "execution_count": 46,
   "metadata": {},
   "outputs": [],
   "source": [
    "# top 100 frequent answers\n",
    "txt_af = txt_a.loc[txt_a.text.apply(lambda s: s in frequent_a)]"
   ]
  },
  {
   "cell_type": "code",
   "execution_count": null,
   "metadata": {},
   "outputs": [],
   "source": [
    "# vectorize text using tfidf\n",
    "from sklearn.feature_extraction.text import TfidfVectorizer\n",
    "tv = TfidfVectorizer(ngram_range=(1,3))\n",
    "t = tv.fit_transform(txt_af.text)"
   ]
  },
  {
   "cell_type": "code",
   "execution_count": null,
   "metadata": {},
   "outputs": [],
   "source": [
    "from sklearn.cluster import KMeans"
   ]
  },
  {
   "cell_type": "code",
   "execution_count": null,
   "metadata": {},
   "outputs": [],
   "source": [
    "%%time\n",
    "km = KMeans(n_clusters = 5, n_jobs=-1)\n",
    "km.fit(t)"
   ]
  },
  {
   "cell_type": "code",
   "execution_count": null,
   "metadata": {},
   "outputs": [],
   "source": [
    "txt_af['clu'] = km.predict(t)"
   ]
  },
  {
   "cell_type": "code",
   "execution_count": 123,
   "metadata": {},
   "outputs": [
    {
     "data": {
      "text/plain": [
       "Series([], Name: text, dtype: int64)"
      ]
     },
     "execution_count": 123,
     "metadata": {},
     "output_type": "execute_result"
    }
   ],
   "source": [
    "txt_af.loc[txt_af.clu == 5, 'text'].value_counts()"
   ]
  },
  {
   "cell_type": "code",
   "execution_count": 124,
   "metadata": {},
   "outputs": [],
   "source": [
    "txt_af1 = txt_af.loc[txt_af.clu == 4]"
   ]
  },
  {
   "cell_type": "code",
   "execution_count": 125,
   "metadata": {},
   "outputs": [
    {
     "name": "stderr",
     "output_type": "stream",
     "text": [
      "/home/tianyi/anaconda3/envs/insight/lib/python3.7/site-packages/ipykernel_launcher.py:3: SettingWithCopyWarning: \n",
      "A value is trying to be set on a copy of a slice from a DataFrame.\n",
      "Try using .loc[row_indexer,col_indexer] = value instead\n",
      "\n",
      "See the caveats in the documentation: http://pandas.pydata.org/pandas-docs/stable/indexing.html#indexing-view-versus-copy\n",
      "  This is separate from the ipykernel package so we can avoid doing imports until\n"
     ]
    }
   ],
   "source": [
    "t = tv.fit_transform(txt_af1.text)\n",
    "km.fit(t)\n",
    "txt_af1['clu'] = km.predict(t)"
   ]
  },
  {
   "cell_type": "code",
   "execution_count": 132,
   "metadata": {},
   "outputs": [
    {
     "data": {
      "text/plain": [
       "Yes.      394\n",
       "Yes :)    334\n",
       "Yes       184\n",
       "Yes!       92\n",
       "Name: text, dtype: int64"
      ]
     },
     "execution_count": 132,
     "metadata": {},
     "output_type": "execute_result"
    }
   ],
   "source": [
    "txt_af1.loc[txt_af1.clu == 4,'text'].value_counts()"
   ]
  },
  {
   "cell_type": "code",
   "execution_count": 151,
   "metadata": {},
   "outputs": [
    {
     "data": {
      "text/plain": [
       "(10335, 9)"
      ]
     },
     "execution_count": 151,
     "metadata": {},
     "output_type": "execute_result"
    }
   ],
   "source": [
    "txt_af2 = txt_af1.loc[txt_af1.clu == 0]\n",
    "txt_af2.shape"
   ]
  },
  {
   "cell_type": "code",
   "execution_count": 152,
   "metadata": {},
   "outputs": [
    {
     "name": "stderr",
     "output_type": "stream",
     "text": [
      "/home/tianyi/anaconda3/envs/insight/lib/python3.7/site-packages/ipykernel_launcher.py:3: SettingWithCopyWarning: \n",
      "A value is trying to be set on a copy of a slice from a DataFrame.\n",
      "Try using .loc[row_indexer,col_indexer] = value instead\n",
      "\n",
      "See the caveats in the documentation: http://pandas.pydata.org/pandas-docs/stable/indexing.html#indexing-view-versus-copy\n",
      "  This is separate from the ipykernel package so we can avoid doing imports until\n"
     ]
    }
   ],
   "source": [
    "t = tv.fit_transform(txt_af2.text)\n",
    "km.fit(t)\n",
    "txt_af2['clu'] = km.predict(t)"
   ]
  },
  {
   "cell_type": "code",
   "execution_count": 155,
   "metadata": {},
   "outputs": [
    {
     "data": {
      "text/plain": [
       "(5101, 9)"
      ]
     },
     "execution_count": 155,
     "metadata": {},
     "output_type": "execute_result"
    }
   ],
   "source": [
    "txt_af3 = txt_af2.loc[txt_af2.clu == 4]\n",
    "txt_af3.shape"
   ]
  },
  {
   "cell_type": "code",
   "execution_count": 156,
   "metadata": {},
   "outputs": [
    {
     "name": "stderr",
     "output_type": "stream",
     "text": [
      "/home/tianyi/anaconda3/envs/insight/lib/python3.7/site-packages/ipykernel_launcher.py:3: SettingWithCopyWarning: \n",
      "A value is trying to be set on a copy of a slice from a DataFrame.\n",
      "Try using .loc[row_indexer,col_indexer] = value instead\n",
      "\n",
      "See the caveats in the documentation: http://pandas.pydata.org/pandas-docs/stable/indexing.html#indexing-view-versus-copy\n",
      "  This is separate from the ipykernel package so we can avoid doing imports until\n"
     ]
    }
   ],
   "source": [
    "t = tv.fit_transform(txt_af3.text)\n",
    "km.fit(t)\n",
    "txt_af3['clu'] = km.predict(t)"
   ]
  },
  {
   "cell_type": "code",
   "execution_count": 170,
   "metadata": {},
   "outputs": [
    {
     "data": {
      "text/plain": [
       "(2460, 9)"
      ]
     },
     "execution_count": 170,
     "metadata": {},
     "output_type": "execute_result"
    }
   ],
   "source": [
    "txt_af4 = txt_af3.loc[txt_af3.clu == 1]\n",
    "txt_af4.shape"
   ]
  },
  {
   "cell_type": "code",
   "execution_count": 171,
   "metadata": {},
   "outputs": [
    {
     "name": "stderr",
     "output_type": "stream",
     "text": [
      "/home/tianyi/anaconda3/envs/insight/lib/python3.7/site-packages/ipykernel_launcher.py:3: SettingWithCopyWarning: \n",
      "A value is trying to be set on a copy of a slice from a DataFrame.\n",
      "Try using .loc[row_indexer,col_indexer] = value instead\n",
      "\n",
      "See the caveats in the documentation: http://pandas.pydata.org/pandas-docs/stable/indexing.html#indexing-view-versus-copy\n",
      "  This is separate from the ipykernel package so we can avoid doing imports until\n"
     ]
    }
   ],
   "source": [
    "t = tv.fit_transform(txt_af4.text)\n",
    "km.fit(t)\n",
    "txt_af4['clu'] = km.predict(t)"
   ]
  },
  {
   "cell_type": "code",
   "execution_count": 184,
   "metadata": {},
   "outputs": [],
   "source": [
    "# The final frequent answers\n",
    "txt_frequent = txt_af4.loc[txt_af4.clu != 3]"
   ]
  },
  {
   "cell_type": "code",
   "execution_count": 187,
   "metadata": {},
   "outputs": [
    {
     "data": {
      "text/plain": [
       "(2244, 9)"
      ]
     },
     "execution_count": 187,
     "metadata": {},
     "output_type": "execute_result"
    }
   ],
   "source": [
    "txt_frequent.shape"
   ]
  },
  {
   "cell_type": "code",
   "execution_count": 188,
   "metadata": {},
   "outputs": [],
   "source": [
    "# not top 100 frequent answers\n",
    "txt_notfre = txt_a.loc[txt_a.text.apply(lambda s: s not in frequent_a)]"
   ]
  },
  {
   "cell_type": "code",
   "execution_count": 191,
   "metadata": {},
   "outputs": [
    {
     "data": {
      "text/plain": [
       "(71324, 9)"
      ]
     },
     "execution_count": 191,
     "metadata": {},
     "output_type": "execute_result"
    }
   ],
   "source": [
    "txt_notfre.shape"
   ]
  },
  {
   "cell_type": "code",
   "execution_count": 195,
   "metadata": {},
   "outputs": [],
   "source": [
    "txt_agent = pd.concat([txt_frequent,txt_notfre])"
   ]
  },
  {
   "cell_type": "markdown",
   "metadata": {},
   "source": [
    "# Clustering answers"
   ]
  },
  {
   "cell_type": "code",
   "execution_count": 198,
   "metadata": {},
   "outputs": [
    {
     "data": {
      "text/plain": [
       "(73568, 9)"
      ]
     },
     "execution_count": 198,
     "metadata": {},
     "output_type": "execute_result"
    }
   ],
   "source": [
    "txt_agent.shape"
   ]
  },
  {
   "cell_type": "code",
   "execution_count": 211,
   "metadata": {},
   "outputs": [],
   "source": [
    "tv = TfidfVectorizer(stop_words='english',ngram_range=(1,2),max_df=2000, min_df=10)\n",
    "t = tv.fit_transform(txt_agent.text)\n",
    "terms = pd.DataFrame({'term': tv.get_feature_names(), 'tfidf': t.toarray().sum(0)})"
   ]
  },
  {
   "cell_type": "code",
   "execution_count": 212,
   "metadata": {},
   "outputs": [
    {
     "data": {
      "text/plain": [
       "(73568, 8463)"
      ]
     },
     "execution_count": 212,
     "metadata": {},
     "output_type": "execute_result"
    }
   ],
   "source": [
    "t.shape"
   ]
  },
  {
   "cell_type": "code",
   "execution_count": 215,
   "metadata": {},
   "outputs": [],
   "source": [
    "km1 = KMeans(n_clusters = 20, n_jobs=-1)"
   ]
  },
  {
   "cell_type": "code",
   "execution_count": 216,
   "metadata": {},
   "outputs": [
    {
     "name": "stdout",
     "output_type": "stream",
     "text": [
      "CPU times: user 334 ms, sys: 107 ms, total: 442 ms\n",
      "Wall time: 1min 13s\n"
     ]
    },
    {
     "data": {
      "text/plain": [
       "KMeans(algorithm='auto', copy_x=True, init='k-means++', max_iter=300,\n",
       "    n_clusters=20, n_init=10, n_jobs=-1, precompute_distances='auto',\n",
       "    random_state=None, tol=0.0001, verbose=0)"
      ]
     },
     "execution_count": 216,
     "metadata": {},
     "output_type": "execute_result"
    }
   ],
   "source": [
    "%%time\n",
    "km1.fit(t)"
   ]
  },
  {
   "cell_type": "code",
   "execution_count": 218,
   "metadata": {},
   "outputs": [],
   "source": [
    "txt_agent['clu'] = km1.predict(t)"
   ]
  },
  {
   "cell_type": "code",
   "execution_count": 232,
   "metadata": {},
   "outputs": [
    {
     "data": {
      "text/plain": [
       "4     66154\n",
       "3      1161\n",
       "9      1036\n",
       "18      642\n",
       "11      578\n",
       "14      553\n",
       "13      553\n",
       "0       524\n",
       "6       451\n",
       "7       424\n",
       "2       304\n",
       "16      255\n",
       "19      232\n",
       "12      208\n",
       "10      166\n",
       "17      135\n",
       "8        88\n",
       "15       78\n",
       "5        15\n",
       "1        11\n",
       "Name: clu, dtype: int64"
      ]
     },
     "execution_count": 232,
     "metadata": {},
     "output_type": "execute_result"
    }
   ],
   "source": [
    "txt_agent.clu.value_counts()"
   ]
  },
  {
   "cell_type": "code",
   "execution_count": 234,
   "metadata": {},
   "outputs": [
    {
     "name": "stdout",
     "output_type": "stream",
     "text": [
      "CPU times: user 374 ms, sys: 105 ms, total: 479 ms\n",
      "Wall time: 1min 28s\n"
     ]
    }
   ],
   "source": [
    "%%time\n",
    "km1 = KMeans(n_clusters = 40, n_jobs=-1)\n",
    "km1.fit(t)"
   ]
  },
  {
   "cell_type": "code",
   "execution_count": 248,
   "metadata": {},
   "outputs": [
    {
     "data": {
      "text/plain": [
       "(73568, 14766)"
      ]
     },
     "execution_count": 248,
     "metadata": {},
     "output_type": "execute_result"
    }
   ],
   "source": [
    "tv = TfidfVectorizer(stop_words='english',ngram_range=(1,4),max_df=2000, min_df=10)\n",
    "t = tv.fit_transform(txt_agent.text)\n",
    "terms = pd.DataFrame({'term': tv.get_feature_names(), 'tfidf': t.toarray().sum(0)})\n",
    "t.shape"
   ]
  },
  {
   "cell_type": "code",
   "execution_count": 251,
   "metadata": {},
   "outputs": [
    {
     "name": "stdout",
     "output_type": "stream",
     "text": [
      "CPU times: user 543 ms, sys: 169 ms, total: 712 ms\n",
      "Wall time: 2min 29s\n"
     ]
    }
   ],
   "source": [
    "%%time\n",
    "km1 = KMeans(n_clusters = 80, n_jobs=-1)\n",
    "km1.fit(t)"
   ]
  },
  {
   "cell_type": "code",
   "execution_count": 252,
   "metadata": {},
   "outputs": [
    {
     "data": {
      "text/plain": [
       "1     49894\n",
       "3      1267\n",
       "55     1090\n",
       "78     1005\n",
       "33     1003\n",
       "28      895\n",
       "57      815\n",
       "30      796\n",
       "20      686\n",
       "51      653\n",
       "73      623\n",
       "40      608\n",
       "49      588\n",
       "26      578\n",
       "79      573\n",
       "65      454\n",
       "77      436\n",
       "10      418\n",
       "22      412\n",
       "5       404\n",
       "7       391\n",
       "41      370\n",
       "44      365\n",
       "12      352\n",
       "9       339\n",
       "69      338\n",
       "6       336\n",
       "53      326\n",
       "62      324\n",
       "32      297\n",
       "      ...  \n",
       "38      140\n",
       "66      140\n",
       "0       139\n",
       "18      139\n",
       "70      137\n",
       "45      137\n",
       "16      135\n",
       "48      132\n",
       "50      115\n",
       "34      113\n",
       "17      112\n",
       "35      111\n",
       "2       106\n",
       "43      101\n",
       "59       96\n",
       "31       93\n",
       "11       78\n",
       "68       70\n",
       "27       62\n",
       "46       59\n",
       "15       52\n",
       "60       51\n",
       "74       49\n",
       "63       44\n",
       "72       37\n",
       "76       36\n",
       "24       35\n",
       "39       28\n",
       "61       18\n",
       "71        9\n",
       "Name: clu, Length: 80, dtype: int64"
      ]
     },
     "execution_count": 252,
     "metadata": {},
     "output_type": "execute_result"
    }
   ],
   "source": [
    "txt_agent['clu'] = km1.predict(t)\n",
    "txt_agent.clu.value_counts()"
   ]
  },
  {
   "cell_type": "code",
   "execution_count": 272,
   "metadata": {},
   "outputs": [],
   "source": [
    "txt_agent.reset_index(inplace=True)\n",
    "txt0 = txt_agent.loc[txt_agent.clu != 1,['text', 'clu']].sample(frac=0.01)\n",
    "txt1 = txt_agent.loc[txt_agent.clu == 1,['text', 'clu']].sample(frac=0.01)"
   ]
  },
  {
   "cell_type": "code",
   "execution_count": 281,
   "metadata": {},
   "outputs": [
    {
     "data": {
      "text/plain": [
       "<2x14766 sparse matrix of type '<class 'numpy.float64'>'\n",
       "\twith 10 stored elements in Compressed Sparse Row format>"
      ]
     },
     "execution_count": 281,
     "metadata": {},
     "output_type": "execute_result"
    }
   ],
   "source": [
    "t[[1,2],:]"
   ]
  },
  {
   "cell_type": "code",
   "execution_count": 282,
   "metadata": {},
   "outputs": [
    {
     "data": {
      "text/plain": [
       "(73568, 14766)"
      ]
     },
     "execution_count": 282,
     "metadata": {},
     "output_type": "execute_result"
    }
   ],
   "source": [
    "t.shape"
   ]
  },
  {
   "cell_type": "code",
   "execution_count": 276,
   "metadata": {},
   "outputs": [],
   "source": [
    "txt_visual = pd.concat([txt0,txt1])"
   ]
  },
  {
   "cell_type": "code",
   "execution_count": 292,
   "metadata": {},
   "outputs": [],
   "source": [
    "t_visual = t[txt_visual.index,:]"
   ]
  },
  {
   "cell_type": "code",
   "execution_count": 293,
   "metadata": {},
   "outputs": [
    {
     "data": {
      "text/plain": [
       "<736x14766 sparse matrix of type '<class 'numpy.float64'>'\n",
       "\twith 6033 stored elements in Compressed Sparse Row format>"
      ]
     },
     "execution_count": 293,
     "metadata": {},
     "output_type": "execute_result"
    }
   ],
   "source": [
    "t_visual"
   ]
  },
  {
   "cell_type": "code",
   "execution_count": 294,
   "metadata": {},
   "outputs": [],
   "source": [
    "from sklearn.decomposition import PCA"
   ]
  },
  {
   "cell_type": "code",
   "execution_count": 295,
   "metadata": {},
   "outputs": [],
   "source": [
    "pca = PCA(n_components=2)"
   ]
  },
  {
   "cell_type": "code",
   "execution_count": 297,
   "metadata": {},
   "outputs": [],
   "source": [
    "from sklearn.manifold import LocallyLinearEmbedding"
   ]
  },
  {
   "cell_type": "code",
   "execution_count": 299,
   "metadata": {},
   "outputs": [],
   "source": [
    "lle = LocallyLinearEmbedding(n_neighbors=10, n_components=2, n_jobs=-1)"
   ]
  },
  {
   "cell_type": "code",
   "execution_count": 301,
   "metadata": {},
   "outputs": [
    {
     "name": "stdout",
     "output_type": "stream",
     "text": [
      "CPU times: user 17.7 s, sys: 355 ms, total: 18.1 s\n",
      "Wall time: 5.79 s\n"
     ]
    },
    {
     "data": {
      "text/plain": [
       "LocallyLinearEmbedding(eigen_solver='auto', hessian_tol=0.0001, max_iter=100,\n",
       "            method='standard', modified_tol=1e-12, n_components=2,\n",
       "            n_jobs=-1, n_neighbors=10, neighbors_algorithm='auto',\n",
       "            random_state=None, reg=0.001, tol=1e-06)"
      ]
     },
     "execution_count": 301,
     "metadata": {},
     "output_type": "execute_result"
    }
   ],
   "source": [
    "%%time\n",
    "lle.fit(t_visual.toarray())"
   ]
  },
  {
   "cell_type": "code",
   "execution_count": 304,
   "metadata": {},
   "outputs": [],
   "source": [
    "p = lle.transform(t_visual.toarray())"
   ]
  },
  {
   "cell_type": "code",
   "execution_count": 305,
   "metadata": {},
   "outputs": [],
   "source": [
    "import matplotlib.pyplot as plt"
   ]
  },
  {
   "cell_type": "code",
   "execution_count": 307,
   "metadata": {},
   "outputs": [
    {
     "data": {
      "text/plain": [
       "array([ 0.00356542, -0.00366589])"
      ]
     },
     "execution_count": 307,
     "metadata": {},
     "output_type": "execute_result"
    }
   ],
   "source": [
    "p[0,:]"
   ]
  },
  {
   "cell_type": "code",
   "execution_count": 308,
   "metadata": {},
   "outputs": [
    {
     "data": {
      "image/png": "[encoded data removed]",
      "text/plain": [
       "<Figure size 432x288 with 1 Axes>"
      ]
     },
     "metadata": {
      "needs_background": "light"
     },
     "output_type": "display_data"
    }
   ],
   "source": [
    "plt.scatter(p[:,0],p[:,1])\n",
    "plt.show()"
   ]
  },
  {
   "cell_type": "code",
   "execution_count": 325,
   "metadata": {},
   "outputs": [
    {
     "name": "stdout",
     "output_type": "stream",
     "text": [
      "CPU times: user 611 ms, sys: 109 ms, total: 720 ms\n",
      "Wall time: 368 ms\n"
     ]
    }
   ],
   "source": [
    "%%time\n",
    "pca = PCA(n_components=2)\n",
    "pca.fit(t_visual.toarray())"
   ]
  },
  {
   "cell_type": "code",
   "execution_count": 326,
   "metadata": {},
   "outputs": [],
   "source": [
    "p = pca.transform(t_visual.toarray())"
   ]
  },
  {
   "cell_type": "code",
   "execution_count": 327,
   "metadata": {},
   "outputs": [
    {
     "data": {
      "image/png": "[encoded data removed]",
      "text/plain": [
       "<Figure size 432x288 with 1 Axes>"
      ]
     },
     "metadata": {
      "needs_background": "light"
     },
     "output_type": "display_data"
    }
   ],
   "source": [
    "plt.scatter(p[:,0],p[:,1])\n",
    "plt.show()"
   ]
  },
  {
   "cell_type": "code",
   "execution_count": 315,
   "metadata": {},
   "outputs": [],
   "source": [
    "txt_visual['x'] = p[:,0]\n",
    "txt_visual['y'] = p[:,1]"
   ]
  },
  {
   "cell_type": "markdown",
   "metadata": {},
   "source": [
    "# Visualize text clusters"
   ]
  },
  {
   "cell_type": "code",
   "execution_count": 321,
   "metadata": {},
   "outputs": [
    {
     "data": {
      "text/plain": [
       "'/home/tianyi/meganbeta/Data_preprocessing/text_clusters.html'"
      ]
     },
     "execution_count": 321,
     "metadata": {},
     "output_type": "execute_result"
    }
   ],
   "source": [
    "import bokeh.plotting as bp\n",
    "from bokeh.models import HoverTool\n",
    "from bokeh.models import LinearColorMapper\n",
    "from bokeh.plotting import figure, show, output_file, save\n",
    "\n",
    "color_mapper = LinearColorMapper(palette='Viridis256', low=0, high=79)\n",
    "plot_ts = bp.figure(plot_width=800, plot_height=600,\n",
    "                       title=\"clustering of the text\",\n",
    "    tools=\"pan,wheel_zoom,box_zoom,reset,hover,previewsave\",\n",
    "    x_axis_type=None, y_axis_type=None, min_border=1)\n",
    "\n",
    "plot_ts.scatter('x','y',color={'field': 'clu', 'transform': color_mapper},source=txt_visual)\n",
    "hover = plot_ts.select(dict(type=HoverTool))\n",
    "hover.tooltips={'Text':'@text','Cluster':'@clu'}\n",
    "output_file(\"text_clusters.html\")\n",
    "save(plot_ts)"
   ]
  },
  {
   "cell_type": "code",
   "execution_count": 316,
   "metadata": {},
   "outputs": [
    {
     "data": {
      "text/html": [
       "<div>\n",
       "<style scoped>\n",
       "    .dataframe tbody tr th:only-of-type {\n",
       "        vertical-align: middle;\n",
       "    }\n",
       "\n",
       "    .dataframe tbody tr th {\n",
       "        vertical-align: top;\n",
       "    }\n",
       "\n",
       "    .dataframe thead th {\n",
       "        text-align: right;\n",
       "    }\n",
       "</style>\n",
       "<table border=\"1\" class=\"dataframe\">\n",
       "  <thead>\n",
       "    <tr style=\"text-align: right;\">\n",
       "      <th></th>\n",
       "      <th>text</th>\n",
       "      <th>clu</th>\n",
       "      <th>x</th>\n",
       "      <th>y</th>\n",
       "    </tr>\n",
       "  </thead>\n",
       "  <tbody>\n",
       "    <tr>\n",
       "      <th>2831</th>\n",
       "      <td>Correct</td>\n",
       "      <td>13</td>\n",
       "      <td>-0.015731</td>\n",
       "      <td>-0.017309</td>\n",
       "    </tr>\n",
       "    <tr>\n",
       "      <th>25322</th>\n",
       "      <td>Please use this link for skip the lines ticket.</td>\n",
       "      <td>30</td>\n",
       "      <td>-0.013097</td>\n",
       "      <td>-0.017643</td>\n",
       "    </tr>\n",
       "    <tr>\n",
       "      <th>35042</th>\n",
       "      <td>Ibis Hotel in International City?</td>\n",
       "      <td>51</td>\n",
       "      <td>-0.008944</td>\n",
       "      <td>-0.009976</td>\n",
       "    </tr>\n",
       "    <tr>\n",
       "      <th>64575</th>\n",
       "      <td>Which show are we looking at?</td>\n",
       "      <td>20</td>\n",
       "      <td>-0.032757</td>\n",
       "      <td>-0.079304</td>\n",
       "    </tr>\n",
       "    <tr>\n",
       "      <th>25960</th>\n",
       "      <td>Is this the one you are referring to ?</td>\n",
       "      <td>55</td>\n",
       "      <td>-0.010165</td>\n",
       "      <td>-0.013093</td>\n",
       "    </tr>\n",
       "    <tr>\n",
       "      <th>68217</th>\n",
       "      <td>Pier 7, Marina Promenade , Dubai</td>\n",
       "      <td>51</td>\n",
       "      <td>-0.009928</td>\n",
       "      <td>-0.011298</td>\n",
       "    </tr>\n",
       "    <tr>\n",
       "      <th>45061</th>\n",
       "      <td>No, if you want to select your seats you will ...</td>\n",
       "      <td>9</td>\n",
       "      <td>0.826648</td>\n",
       "      <td>0.020727</td>\n",
       "    </tr>\n",
       "    <tr>\n",
       "      <th>72028</th>\n",
       "      <td>Its not 50%, its just a discounted ticket.</td>\n",
       "      <td>30</td>\n",
       "      <td>-0.012631</td>\n",
       "      <td>-0.008074</td>\n",
       "    </tr>\n",
       "    <tr>\n",
       "      <th>57253</th>\n",
       "      <td>Yes that's correct, you will have yo leave the...</td>\n",
       "      <td>23</td>\n",
       "      <td>-0.013002</td>\n",
       "      <td>-0.013951</td>\n",
       "    </tr>\n",
       "    <tr>\n",
       "      <th>31012</th>\n",
       "      <td>We are completely sold out and thats the reaso...</td>\n",
       "      <td>65</td>\n",
       "      <td>-0.012409</td>\n",
       "      <td>-0.015226</td>\n",
       "    </tr>\n",
       "    <tr>\n",
       "      <th>54154</th>\n",
       "      <td>At the moment the theater has not specified a ...</td>\n",
       "      <td>3</td>\n",
       "      <td>-0.012930</td>\n",
       "      <td>-0.015081</td>\n",
       "    </tr>\n",
       "    <tr>\n",
       "      <th>7495</th>\n",
       "      <td>Alright, I'll let the reservation team know to...</td>\n",
       "      <td>55</td>\n",
       "      <td>-0.018105</td>\n",
       "      <td>-0.001465</td>\n",
       "    </tr>\n",
       "    <tr>\n",
       "      <th>21578</th>\n",
       "      <td>I do not have the details regarding this :(</td>\n",
       "      <td>53</td>\n",
       "      <td>-0.008219</td>\n",
       "      <td>-0.008351</td>\n",
       "    </tr>\n",
       "    <tr>\n",
       "      <th>64972</th>\n",
       "      <td>But if you are looking for the desired seats, ...</td>\n",
       "      <td>78</td>\n",
       "      <td>0.028625</td>\n",
       "      <td>-0.031753</td>\n",
       "    </tr>\n",
       "    <tr>\n",
       "      <th>57953</th>\n",
       "      <td>Well we cannot build a package based on how mu...</td>\n",
       "      <td>7</td>\n",
       "      <td>-0.007992</td>\n",
       "      <td>-0.009095</td>\n",
       "    </tr>\n",
       "    <tr>\n",
       "      <th>2069</th>\n",
       "      <td>Hi :)</td>\n",
       "      <td>69</td>\n",
       "      <td>-0.011247</td>\n",
       "      <td>-0.013529</td>\n",
       "    </tr>\n",
       "    <tr>\n",
       "      <th>11232</th>\n",
       "      <td>No, the top floor is the Summit Level. \\nhttps...</td>\n",
       "      <td>28</td>\n",
       "      <td>-0.011506</td>\n",
       "      <td>-0.015045</td>\n",
       "    </tr>\n",
       "    <tr>\n",
       "      <th>67529</th>\n",
       "      <td>The Dolphin and Seal Show at the Dubai Dolphin...</td>\n",
       "      <td>51</td>\n",
       "      <td>-0.008470</td>\n",
       "      <td>-0.010488</td>\n",
       "    </tr>\n",
       "    <tr>\n",
       "      <th>14976</th>\n",
       "      <td>It will cost you AED 2890</td>\n",
       "      <td>7</td>\n",
       "      <td>-0.008794</td>\n",
       "      <td>-0.009635</td>\n",
       "    </tr>\n",
       "    <tr>\n",
       "      <th>69325</th>\n",
       "      <td>May i know since when this has been happening ?</td>\n",
       "      <td>55</td>\n",
       "      <td>-0.021047</td>\n",
       "      <td>-0.035518</td>\n",
       "    </tr>\n",
       "    <tr>\n",
       "      <th>32483</th>\n",
       "      <td>We are so sorry for the inconvenience please c...</td>\n",
       "      <td>78</td>\n",
       "      <td>-0.016021</td>\n",
       "      <td>-0.022279</td>\n",
       "    </tr>\n",
       "    <tr>\n",
       "      <th>67826</th>\n",
       "      <td>Happy to have you back :)</td>\n",
       "      <td>70</td>\n",
       "      <td>-0.007776</td>\n",
       "      <td>-0.006590</td>\n",
       "    </tr>\n",
       "    <tr>\n",
       "      <th>53167</th>\n",
       "      <td>for adults yes.</td>\n",
       "      <td>75</td>\n",
       "      <td>-0.006890</td>\n",
       "      <td>-0.006785</td>\n",
       "    </tr>\n",
       "    <tr>\n",
       "      <th>67600</th>\n",
       "      <td>The prices shown are in USD and AED. Please ch...</td>\n",
       "      <td>7</td>\n",
       "      <td>-0.009234</td>\n",
       "      <td>-0.011837</td>\n",
       "    </tr>\n",
       "    <tr>\n",
       "      <th>70455</th>\n",
       "      <td>Skywalk is included.</td>\n",
       "      <td>6</td>\n",
       "      <td>-0.007728</td>\n",
       "      <td>-0.007495</td>\n",
       "    </tr>\n",
       "    <tr>\n",
       "      <th>6545</th>\n",
       "      <td>Sure, let me expedite this for you.</td>\n",
       "      <td>57</td>\n",
       "      <td>-0.033740</td>\n",
       "      <td>0.412194</td>\n",
       "    </tr>\n",
       "    <tr>\n",
       "      <th>38262</th>\n",
       "      <td>But i'm sure that it is 3 years and under are ...</td>\n",
       "      <td>57</td>\n",
       "      <td>-0.043771</td>\n",
       "      <td>0.631219</td>\n",
       "    </tr>\n",
       "    <tr>\n",
       "      <th>41717</th>\n",
       "      <td>The address for the location is Aquaventure Wa...</td>\n",
       "      <td>51</td>\n",
       "      <td>-0.009338</td>\n",
       "      <td>-0.010715</td>\n",
       "    </tr>\n",
       "    <tr>\n",
       "      <th>60334</th>\n",
       "      <td>For individuals above 3 years require a ticket...</td>\n",
       "      <td>30</td>\n",
       "      <td>-0.011952</td>\n",
       "      <td>0.033576</td>\n",
       "    </tr>\n",
       "    <tr>\n",
       "      <th>65946</th>\n",
       "      <td>Yes you can but valid only from the date you b...</td>\n",
       "      <td>3</td>\n",
       "      <td>-0.012158</td>\n",
       "      <td>-0.017135</td>\n",
       "    </tr>\n",
       "    <tr>\n",
       "      <th>...</th>\n",
       "      <td>...</td>\n",
       "      <td>...</td>\n",
       "      <td>...</td>\n",
       "      <td>...</td>\n",
       "    </tr>\n",
       "    <tr>\n",
       "      <th>9992</th>\n",
       "      <td>You can check the price and timings from our w...</td>\n",
       "      <td>1</td>\n",
       "      <td>0.044976</td>\n",
       "      <td>0.040427</td>\n",
       "    </tr>\n",
       "    <tr>\n",
       "      <th>17768</th>\n",
       "      <td>Yes, you can view the seatmap.</td>\n",
       "      <td>1</td>\n",
       "      <td>-0.006190</td>\n",
       "      <td>-0.007866</td>\n",
       "    </tr>\n",
       "    <tr>\n",
       "      <th>8349</th>\n",
       "      <td>you will get the exact details in your email a...</td>\n",
       "      <td>1</td>\n",
       "      <td>-0.010387</td>\n",
       "      <td>-0.012155</td>\n",
       "    </tr>\n",
       "    <tr>\n",
       "      <th>20243</th>\n",
       "      <td>Loren, since we do not sell those tickets we d...</td>\n",
       "      <td>1</td>\n",
       "      <td>-0.009944</td>\n",
       "      <td>-0.010555</td>\n",
       "    </tr>\n",
       "    <tr>\n",
       "      <th>58727</th>\n",
       "      <td>Nahum, you had asked us to cancel this 2 month...</td>\n",
       "      <td>1</td>\n",
       "      <td>-0.008595</td>\n",
       "      <td>-0.006215</td>\n",
       "    </tr>\n",
       "    <tr>\n",
       "      <th>37552</th>\n",
       "      <td>I will check</td>\n",
       "      <td>1</td>\n",
       "      <td>-0.005874</td>\n",
       "      <td>-0.005638</td>\n",
       "    </tr>\n",
       "    <tr>\n",
       "      <th>51901</th>\n",
       "      <td>So you have about 40 minutes to collect the ti...</td>\n",
       "      <td>1</td>\n",
       "      <td>-0.009905</td>\n",
       "      <td>-0.006215</td>\n",
       "    </tr>\n",
       "    <tr>\n",
       "      <th>37374</th>\n",
       "      <td>I will check this for you</td>\n",
       "      <td>1</td>\n",
       "      <td>-0.005874</td>\n",
       "      <td>-0.005638</td>\n",
       "    </tr>\n",
       "    <tr>\n",
       "      <th>61292</th>\n",
       "      <td>It will be a shared transfer</td>\n",
       "      <td>1</td>\n",
       "      <td>-0.007817</td>\n",
       "      <td>-0.008171</td>\n",
       "    </tr>\n",
       "    <tr>\n",
       "      <th>32754</th>\n",
       "      <td>but not abhu dabi</td>\n",
       "      <td>1</td>\n",
       "      <td>-0.006889</td>\n",
       "      <td>-0.006784</td>\n",
       "    </tr>\n",
       "    <tr>\n",
       "      <th>48318</th>\n",
       "      <td>Sir I must inform you that the tour you had bo...</td>\n",
       "      <td>1</td>\n",
       "      <td>-0.014920</td>\n",
       "      <td>-0.017938</td>\n",
       "    </tr>\n",
       "    <tr>\n",
       "      <th>29380</th>\n",
       "      <td>We sell tickets online only:)</td>\n",
       "      <td>1</td>\n",
       "      <td>-0.009065</td>\n",
       "      <td>-0.009127</td>\n",
       "    </tr>\n",
       "    <tr>\n",
       "      <th>21781</th>\n",
       "      <td>No problem! Is thee anything you need assistan...</td>\n",
       "      <td>1</td>\n",
       "      <td>-0.014367</td>\n",
       "      <td>-0.038785</td>\n",
       "    </tr>\n",
       "    <tr>\n",
       "      <th>5129</th>\n",
       "      <td>You won't be charged extra</td>\n",
       "      <td>1</td>\n",
       "      <td>-0.000122</td>\n",
       "      <td>-0.010804</td>\n",
       "    </tr>\n",
       "    <tr>\n",
       "      <th>43176</th>\n",
       "      <td>this offer is not valid uptill 12th</td>\n",
       "      <td>1</td>\n",
       "      <td>-0.011812</td>\n",
       "      <td>-0.014101</td>\n",
       "    </tr>\n",
       "    <tr>\n",
       "      <th>61003</th>\n",
       "      <td>You will have to make the payment online.</td>\n",
       "      <td>1</td>\n",
       "      <td>-0.007566</td>\n",
       "      <td>-0.006077</td>\n",
       "    </tr>\n",
       "    <tr>\n",
       "      <th>19997</th>\n",
       "      <td>I do apologize, but we would not be able to ma...</td>\n",
       "      <td>1</td>\n",
       "      <td>-0.008324</td>\n",
       "      <td>-0.004505</td>\n",
       "    </tr>\n",
       "    <tr>\n",
       "      <th>44777</th>\n",
       "      <td>Unfortunately I won't be able to book on your ...</td>\n",
       "      <td>1</td>\n",
       "      <td>-0.008864</td>\n",
       "      <td>-0.016474</td>\n",
       "    </tr>\n",
       "    <tr>\n",
       "      <th>17873</th>\n",
       "      <td>That is the maximum I am authorized to give ou...</td>\n",
       "      <td>1</td>\n",
       "      <td>-0.008596</td>\n",
       "      <td>-0.009266</td>\n",
       "    </tr>\n",
       "    <tr>\n",
       "      <th>58394</th>\n",
       "      <td>No problem! Please feel free to reach out to m...</td>\n",
       "      <td>1</td>\n",
       "      <td>-0.015912</td>\n",
       "      <td>-0.024734</td>\n",
       "    </tr>\n",
       "    <tr>\n",
       "      <th>14104</th>\n",
       "      <td>city of lights paris after dark?</td>\n",
       "      <td>1</td>\n",
       "      <td>-0.008234</td>\n",
       "      <td>-0.008571</td>\n",
       "    </tr>\n",
       "    <tr>\n",
       "      <th>3821</th>\n",
       "      <td>Yes you can :)</td>\n",
       "      <td>1</td>\n",
       "      <td>-0.005874</td>\n",
       "      <td>-0.005638</td>\n",
       "    </tr>\n",
       "    <tr>\n",
       "      <th>31591</th>\n",
       "      <td>You too! :)</td>\n",
       "      <td>1</td>\n",
       "      <td>-0.005874</td>\n",
       "      <td>-0.005638</td>\n",
       "    </tr>\n",
       "    <tr>\n",
       "      <th>65753</th>\n",
       "      <td>Once you start using it, you will need to visi...</td>\n",
       "      <td>1</td>\n",
       "      <td>-0.015794</td>\n",
       "      <td>-0.020847</td>\n",
       "    </tr>\n",
       "    <tr>\n",
       "      <th>56685</th>\n",
       "      <td>I'm sorry but the show you're trying to book f...</td>\n",
       "      <td>1</td>\n",
       "      <td>-0.010388</td>\n",
       "      <td>-0.020553</td>\n",
       "    </tr>\n",
       "    <tr>\n",
       "      <th>41288</th>\n",
       "      <td>Meeting reps are for broadway shows.</td>\n",
       "      <td>1</td>\n",
       "      <td>-0.009117</td>\n",
       "      <td>-0.008959</td>\n",
       "    </tr>\n",
       "    <tr>\n",
       "      <th>7139</th>\n",
       "      <td>Haha, totally understand then.</td>\n",
       "      <td>1</td>\n",
       "      <td>-0.007185</td>\n",
       "      <td>-0.007096</td>\n",
       "    </tr>\n",
       "    <tr>\n",
       "      <th>50470</th>\n",
       "      <td>?Alisa, are you on our website right now</td>\n",
       "      <td>1</td>\n",
       "      <td>-0.008064</td>\n",
       "      <td>-0.008443</td>\n",
       "    </tr>\n",
       "    <tr>\n",
       "      <th>36480</th>\n",
       "      <td>I would request you to check by the 25th of th...</td>\n",
       "      <td>1</td>\n",
       "      <td>-0.008811</td>\n",
       "      <td>-0.009944</td>\n",
       "    </tr>\n",
       "    <tr>\n",
       "      <th>14494</th>\n",
       "      <td>Are you looking for the tickets for the Guided...</td>\n",
       "      <td>1</td>\n",
       "      <td>-0.014851</td>\n",
       "      <td>-0.022098</td>\n",
       "    </tr>\n",
       "  </tbody>\n",
       "</table>\n",
       "<p>736 rows × 4 columns</p>\n",
       "</div>"
      ],
      "text/plain": [
       "                                                    text  clu         x  \\\n",
       "2831                                             Correct   13 -0.015731   \n",
       "25322    Please use this link for skip the lines ticket.   30 -0.013097   \n",
       "35042                  Ibis Hotel in International City?   51 -0.008944   \n",
       "64575                      Which show are we looking at?   20 -0.032757   \n",
       "25960             Is this the one you are referring to ?   55 -0.010165   \n",
       "68217                   Pier 7, Marina Promenade , Dubai   51 -0.009928   \n",
       "45061  No, if you want to select your seats you will ...    9  0.826648   \n",
       "72028         Its not 50%, its just a discounted ticket.   30 -0.012631   \n",
       "57253  Yes that's correct, you will have yo leave the...   23 -0.013002   \n",
       "31012  We are completely sold out and thats the reaso...   65 -0.012409   \n",
       "54154  At the moment the theater has not specified a ...    3 -0.012930   \n",
       "7495   Alright, I'll let the reservation team know to...   55 -0.018105   \n",
       "21578        I do not have the details regarding this :(   53 -0.008219   \n",
       "64972  But if you are looking for the desired seats, ...   78  0.028625   \n",
       "57953  Well we cannot build a package based on how mu...    7 -0.007992   \n",
       "2069                                               Hi :)   69 -0.011247   \n",
       "11232  No, the top floor is the Summit Level. \\nhttps...   28 -0.011506   \n",
       "67529  The Dolphin and Seal Show at the Dubai Dolphin...   51 -0.008470   \n",
       "14976                          It will cost you AED 2890    7 -0.008794   \n",
       "69325    May i know since when this has been happening ?   55 -0.021047   \n",
       "32483  We are so sorry for the inconvenience please c...   78 -0.016021   \n",
       "67826                          Happy to have you back :)   70 -0.007776   \n",
       "53167                                    for adults yes.   75 -0.006890   \n",
       "67600  The prices shown are in USD and AED. Please ch...    7 -0.009234   \n",
       "70455                               Skywalk is included.    6 -0.007728   \n",
       "6545                 Sure, let me expedite this for you.   57 -0.033740   \n",
       "38262  But i'm sure that it is 3 years and under are ...   57 -0.043771   \n",
       "41717  The address for the location is Aquaventure Wa...   51 -0.009338   \n",
       "60334  For individuals above 3 years require a ticket...   30 -0.011952   \n",
       "65946  Yes you can but valid only from the date you b...    3 -0.012158   \n",
       "...                                                  ...  ...       ...   \n",
       "9992   You can check the price and timings from our w...    1  0.044976   \n",
       "17768                     Yes, you can view the seatmap.    1 -0.006190   \n",
       "8349   you will get the exact details in your email a...    1 -0.010387   \n",
       "20243  Loren, since we do not sell those tickets we d...    1 -0.009944   \n",
       "58727  Nahum, you had asked us to cancel this 2 month...    1 -0.008595   \n",
       "37552                                       I will check    1 -0.005874   \n",
       "51901  So you have about 40 minutes to collect the ti...    1 -0.009905   \n",
       "37374                          I will check this for you    1 -0.005874   \n",
       "61292                       It will be a shared transfer    1 -0.007817   \n",
       "32754                                  but not abhu dabi    1 -0.006889   \n",
       "48318  Sir I must inform you that the tour you had bo...    1 -0.014920   \n",
       "29380                      We sell tickets online only:)    1 -0.009065   \n",
       "21781  No problem! Is thee anything you need assistan...    1 -0.014367   \n",
       "5129                          You won't be charged extra    1 -0.000122   \n",
       "43176                this offer is not valid uptill 12th    1 -0.011812   \n",
       "61003          You will have to make the payment online.    1 -0.007566   \n",
       "19997  I do apologize, but we would not be able to ma...    1 -0.008324   \n",
       "44777  Unfortunately I won't be able to book on your ...    1 -0.008864   \n",
       "17873  That is the maximum I am authorized to give ou...    1 -0.008596   \n",
       "58394  No problem! Please feel free to reach out to m...    1 -0.015912   \n",
       "14104                   city of lights paris after dark?    1 -0.008234   \n",
       "3821                                      Yes you can :)    1 -0.005874   \n",
       "31591                                        You too! :)    1 -0.005874   \n",
       "65753  Once you start using it, you will need to visi...    1 -0.015794   \n",
       "56685  I'm sorry but the show you're trying to book f...    1 -0.010388   \n",
       "41288               Meeting reps are for broadway shows.    1 -0.009117   \n",
       "7139                      Haha, totally understand then.    1 -0.007185   \n",
       "50470           ?Alisa, are you on our website right now    1 -0.008064   \n",
       "36480  I would request you to check by the 25th of th...    1 -0.008811   \n",
       "14494  Are you looking for the tickets for the Guided...    1 -0.014851   \n",
       "\n",
       "              y  \n",
       "2831  -0.017309  \n",
       "25322 -0.017643  \n",
       "35042 -0.009976  \n",
       "64575 -0.079304  \n",
       "25960 -0.013093  \n",
       "68217 -0.011298  \n",
       "45061  0.020727  \n",
       "72028 -0.008074  \n",
       "57253 -0.013951  \n",
       "31012 -0.015226  \n",
       "54154 -0.015081  \n",
       "7495  -0.001465  \n",
       "21578 -0.008351  \n",
       "64972 -0.031753  \n",
       "57953 -0.009095  \n",
       "2069  -0.013529  \n",
       "11232 -0.015045  \n",
       "67529 -0.010488  \n",
       "14976 -0.009635  \n",
       "69325 -0.035518  \n",
       "32483 -0.022279  \n",
       "67826 -0.006590  \n",
       "53167 -0.006785  \n",
       "67600 -0.011837  \n",
       "70455 -0.007495  \n",
       "6545   0.412194  \n",
       "38262  0.631219  \n",
       "41717 -0.010715  \n",
       "60334  0.033576  \n",
       "65946 -0.017135  \n",
       "...         ...  \n",
       "9992   0.040427  \n",
       "17768 -0.007866  \n",
       "8349  -0.012155  \n",
       "20243 -0.010555  \n",
       "58727 -0.006215  \n",
       "37552 -0.005638  \n",
       "51901 -0.006215  \n",
       "37374 -0.005638  \n",
       "61292 -0.008171  \n",
       "32754 -0.006784  \n",
       "48318 -0.017938  \n",
       "29380 -0.009127  \n",
       "21781 -0.038785  \n",
       "5129  -0.010804  \n",
       "43176 -0.014101  \n",
       "61003 -0.006077  \n",
       "19997 -0.004505  \n",
       "44777 -0.016474  \n",
       "17873 -0.009266  \n",
       "58394 -0.024734  \n",
       "14104 -0.008571  \n",
       "3821  -0.005638  \n",
       "31591 -0.005638  \n",
       "65753 -0.020847  \n",
       "56685 -0.020553  \n",
       "41288 -0.008959  \n",
       "7139  -0.007096  \n",
       "50470 -0.008443  \n",
       "36480 -0.009944  \n",
       "14494 -0.022098  \n",
       "\n",
       "[736 rows x 4 columns]"
      ]
     },
     "execution_count": 316,
     "metadata": {},
     "output_type": "execute_result"
    }
   ],
   "source": [
    "txt_visual"
   ]
  },
  {
   "cell_type": "code",
   "execution_count": 258,
   "metadata": {},
   "outputs": [
    {
     "data": {
      "text/html": [
       "<div>\n",
       "<style scoped>\n",
       "    .dataframe tbody tr th:only-of-type {\n",
       "        vertical-align: middle;\n",
       "    }\n",
       "\n",
       "    .dataframe tbody tr th {\n",
       "        vertical-align: top;\n",
       "    }\n",
       "\n",
       "    .dataframe thead th {\n",
       "        text-align: right;\n",
       "    }\n",
       "</style>\n",
       "<table border=\"1\" class=\"dataframe\">\n",
       "  <thead>\n",
       "    <tr style=\"text-align: right;\">\n",
       "      <th></th>\n",
       "      <th>text</th>\n",
       "      <th>clu</th>\n",
       "    </tr>\n",
       "  </thead>\n",
       "  <tbody>\n",
       "    <tr>\n",
       "      <th>157</th>\n",
       "      <td>May i know the booking id please.</td>\n",
       "      <td>12</td>\n",
       "    </tr>\n",
       "    <tr>\n",
       "      <th>398</th>\n",
       "      <td>May i know the booking id please.</td>\n",
       "      <td>12</td>\n",
       "    </tr>\n",
       "    <tr>\n",
       "      <th>639</th>\n",
       "      <td>May i know the booking id please.</td>\n",
       "      <td>12</td>\n",
       "    </tr>\n",
       "    <tr>\n",
       "      <th>934</th>\n",
       "      <td>:(</td>\n",
       "      <td>1</td>\n",
       "    </tr>\n",
       "    <tr>\n",
       "      <th>1239</th>\n",
       "      <td>:(</td>\n",
       "      <td>1</td>\n",
       "    </tr>\n",
       "    <tr>\n",
       "      <th>1335</th>\n",
       "      <td>Our intelligent system chooses the best seats ...</td>\n",
       "      <td>9</td>\n",
       "    </tr>\n",
       "    <tr>\n",
       "      <th>1357</th>\n",
       "      <td>Our intelligent system chooses the best seats ...</td>\n",
       "      <td>9</td>\n",
       "    </tr>\n",
       "    <tr>\n",
       "      <th>1361</th>\n",
       "      <td>Our intelligent system chooses the best seats ...</td>\n",
       "      <td>9</td>\n",
       "    </tr>\n",
       "    <tr>\n",
       "      <th>1420</th>\n",
       "      <td>Yes you can:)</td>\n",
       "      <td>1</td>\n",
       "    </tr>\n",
       "    <tr>\n",
       "      <th>1451</th>\n",
       "      <td>Our intelligent system chooses the best seats ...</td>\n",
       "      <td>9</td>\n",
       "    </tr>\n",
       "    <tr>\n",
       "      <th>1566</th>\n",
       "      <td>Our intelligent system chooses the best seats ...</td>\n",
       "      <td>9</td>\n",
       "    </tr>\n",
       "    <tr>\n",
       "      <th>1588</th>\n",
       "      <td>Our intelligent system chooses the best seats ...</td>\n",
       "      <td>9</td>\n",
       "    </tr>\n",
       "    <tr>\n",
       "      <th>1592</th>\n",
       "      <td>Our intelligent system chooses the best seats ...</td>\n",
       "      <td>9</td>\n",
       "    </tr>\n",
       "    <tr>\n",
       "      <th>1651</th>\n",
       "      <td>Yes you can:)</td>\n",
       "      <td>1</td>\n",
       "    </tr>\n",
       "    <tr>\n",
       "      <th>1682</th>\n",
       "      <td>Our intelligent system chooses the best seats ...</td>\n",
       "      <td>9</td>\n",
       "    </tr>\n",
       "    <tr>\n",
       "      <th>1797</th>\n",
       "      <td>Our intelligent system chooses the best seats ...</td>\n",
       "      <td>9</td>\n",
       "    </tr>\n",
       "    <tr>\n",
       "      <th>1819</th>\n",
       "      <td>Our intelligent system chooses the best seats ...</td>\n",
       "      <td>9</td>\n",
       "    </tr>\n",
       "    <tr>\n",
       "      <th>1823</th>\n",
       "      <td>Our intelligent system chooses the best seats ...</td>\n",
       "      <td>9</td>\n",
       "    </tr>\n",
       "    <tr>\n",
       "      <th>1882</th>\n",
       "      <td>Yes you can:)</td>\n",
       "      <td>1</td>\n",
       "    </tr>\n",
       "    <tr>\n",
       "      <th>1913</th>\n",
       "      <td>Our intelligent system chooses the best seats ...</td>\n",
       "      <td>9</td>\n",
       "    </tr>\n",
       "    <tr>\n",
       "      <th>2028</th>\n",
       "      <td>Our intelligent system chooses the best seats ...</td>\n",
       "      <td>9</td>\n",
       "    </tr>\n",
       "    <tr>\n",
       "      <th>2050</th>\n",
       "      <td>Our intelligent system chooses the best seats ...</td>\n",
       "      <td>9</td>\n",
       "    </tr>\n",
       "    <tr>\n",
       "      <th>2054</th>\n",
       "      <td>Our intelligent system chooses the best seats ...</td>\n",
       "      <td>9</td>\n",
       "    </tr>\n",
       "    <tr>\n",
       "      <th>2113</th>\n",
       "      <td>Yes you can:)</td>\n",
       "      <td>1</td>\n",
       "    </tr>\n",
       "    <tr>\n",
       "      <th>2144</th>\n",
       "      <td>Our intelligent system chooses the best seats ...</td>\n",
       "      <td>9</td>\n",
       "    </tr>\n",
       "    <tr>\n",
       "      <th>2259</th>\n",
       "      <td>Our intelligent system chooses the best seats ...</td>\n",
       "      <td>9</td>\n",
       "    </tr>\n",
       "    <tr>\n",
       "      <th>2281</th>\n",
       "      <td>Our intelligent system chooses the best seats ...</td>\n",
       "      <td>9</td>\n",
       "    </tr>\n",
       "    <tr>\n",
       "      <th>2285</th>\n",
       "      <td>Our intelligent system chooses the best seats ...</td>\n",
       "      <td>9</td>\n",
       "    </tr>\n",
       "    <tr>\n",
       "      <th>2344</th>\n",
       "      <td>Yes you can:)</td>\n",
       "      <td>1</td>\n",
       "    </tr>\n",
       "    <tr>\n",
       "      <th>2375</th>\n",
       "      <td>Our intelligent system chooses the best seats ...</td>\n",
       "      <td>9</td>\n",
       "    </tr>\n",
       "    <tr>\n",
       "      <th>...</th>\n",
       "      <td>...</td>\n",
       "      <td>...</td>\n",
       "    </tr>\n",
       "    <tr>\n",
       "      <th>245695</th>\n",
       "      <td>It seems that we are facing issues with a few ...</td>\n",
       "      <td>1</td>\n",
       "    </tr>\n",
       "    <tr>\n",
       "      <th>245696</th>\n",
       "      <td>I have informed the tech team about this.</td>\n",
       "      <td>1</td>\n",
       "    </tr>\n",
       "    <tr>\n",
       "      <th>245697</th>\n",
       "      <td>UK cards included, you might have to use a dif...</td>\n",
       "      <td>6</td>\n",
       "    </tr>\n",
       "    <tr>\n",
       "      <th>245698</th>\n",
       "      <td>Or try again in a few hours.</td>\n",
       "      <td>78</td>\n",
       "    </tr>\n",
       "    <tr>\n",
       "      <th>245700</th>\n",
       "      <td>Yes ofcourse :)</td>\n",
       "      <td>1</td>\n",
       "    </tr>\n",
       "    <tr>\n",
       "      <th>245711</th>\n",
       "      <td>No offers currently for Singapore Flyer :(</td>\n",
       "      <td>1</td>\n",
       "    </tr>\n",
       "    <tr>\n",
       "      <th>245719</th>\n",
       "      <td>I see that the Academia is for 9:15</td>\n",
       "      <td>1</td>\n",
       "    </tr>\n",
       "    <tr>\n",
       "      <th>245720</th>\n",
       "      <td>And the uffizi is for 10:30</td>\n",
       "      <td>33</td>\n",
       "    </tr>\n",
       "    <tr>\n",
       "      <th>245721</th>\n",
       "      <td>These are fixed timeslots unfortunately :(</td>\n",
       "      <td>1</td>\n",
       "    </tr>\n",
       "    <tr>\n",
       "      <th>245724</th>\n",
       "      <td>Accademia gallery - Please display the same on...</td>\n",
       "      <td>1</td>\n",
       "    </tr>\n",
       "    <tr>\n",
       "      <th>245725</th>\n",
       "      <td>uffizi gallery --- Please display the same on ...</td>\n",
       "      <td>1</td>\n",
       "    </tr>\n",
       "    <tr>\n",
       "      <th>245729</th>\n",
       "      <td>Yes that is important.</td>\n",
       "      <td>1</td>\n",
       "    </tr>\n",
       "    <tr>\n",
       "      <th>245730</th>\n",
       "      <td>Hope you have a great one!</td>\n",
       "      <td>2</td>\n",
       "    </tr>\n",
       "    <tr>\n",
       "      <th>245740</th>\n",
       "      <td>Hi sorry about that :(</td>\n",
       "      <td>69</td>\n",
       "    </tr>\n",
       "    <tr>\n",
       "      <th>245741</th>\n",
       "      <td>You can go to the aquarium anytime within oper...</td>\n",
       "      <td>40</td>\n",
       "    </tr>\n",
       "    <tr>\n",
       "      <th>245742</th>\n",
       "      <td>The Burj timeslot is the one that you choose o...</td>\n",
       "      <td>1</td>\n",
       "    </tr>\n",
       "    <tr>\n",
       "      <th>245750</th>\n",
       "      <td>Have a nice day  :)</td>\n",
       "      <td>1</td>\n",
       "    </tr>\n",
       "    <tr>\n",
       "      <th>245753</th>\n",
       "      <td>These are dated tickets with fixed timeslots.</td>\n",
       "      <td>1</td>\n",
       "    </tr>\n",
       "    <tr>\n",
       "      <th>245754</th>\n",
       "      <td>You only only be able to enter at 2.</td>\n",
       "      <td>1</td>\n",
       "    </tr>\n",
       "    <tr>\n",
       "      <th>245755</th>\n",
       "      <td>The museums close at 6pm though.</td>\n",
       "      <td>1</td>\n",
       "    </tr>\n",
       "    <tr>\n",
       "      <th>245760</th>\n",
       "      <td>Yes you can :)</td>\n",
       "      <td>1</td>\n",
       "    </tr>\n",
       "    <tr>\n",
       "      <th>245761</th>\n",
       "      <td>However we cannot reschedule this reservation.</td>\n",
       "      <td>1</td>\n",
       "    </tr>\n",
       "    <tr>\n",
       "      <th>245764</th>\n",
       "      <td>Yes they are :)</td>\n",
       "      <td>1</td>\n",
       "    </tr>\n",
       "    <tr>\n",
       "      <th>245765</th>\n",
       "      <td>Open till 2pm on sundays.</td>\n",
       "      <td>1</td>\n",
       "    </tr>\n",
       "    <tr>\n",
       "      <th>245766</th>\n",
       "      <td>And 6pm from monday - saturday.</td>\n",
       "      <td>1</td>\n",
       "    </tr>\n",
       "    <tr>\n",
       "      <th>245768</th>\n",
       "      <td>From 9AM</td>\n",
       "      <td>1</td>\n",
       "    </tr>\n",
       "    <tr>\n",
       "      <th>245770</th>\n",
       "      <td>8:30 will be fine :)</td>\n",
       "      <td>47</td>\n",
       "    </tr>\n",
       "    <tr>\n",
       "      <th>245773</th>\n",
       "      <td>Monday definitely.</td>\n",
       "      <td>1</td>\n",
       "    </tr>\n",
       "    <tr>\n",
       "      <th>245787</th>\n",
       "      <td>City of lights cruise?</td>\n",
       "      <td>1</td>\n",
       "    </tr>\n",
       "    <tr>\n",
       "      <th>245789</th>\n",
       "      <td>You can just book it right now and show up the...</td>\n",
       "      <td>1</td>\n",
       "    </tr>\n",
       "  </tbody>\n",
       "</table>\n",
       "<p>73568 rows × 2 columns</p>\n",
       "</div>"
      ],
      "text/plain": [
       "                                                     text  clu\n",
       "157                     May i know the booking id please.   12\n",
       "398                     May i know the booking id please.   12\n",
       "639                     May i know the booking id please.   12\n",
       "934                                                    :(    1\n",
       "1239                                                   :(    1\n",
       "1335    Our intelligent system chooses the best seats ...    9\n",
       "1357    Our intelligent system chooses the best seats ...    9\n",
       "1361    Our intelligent system chooses the best seats ...    9\n",
       "1420                                        Yes you can:)    1\n",
       "1451    Our intelligent system chooses the best seats ...    9\n",
       "1566    Our intelligent system chooses the best seats ...    9\n",
       "1588    Our intelligent system chooses the best seats ...    9\n",
       "1592    Our intelligent system chooses the best seats ...    9\n",
       "1651                                        Yes you can:)    1\n",
       "1682    Our intelligent system chooses the best seats ...    9\n",
       "1797    Our intelligent system chooses the best seats ...    9\n",
       "1819    Our intelligent system chooses the best seats ...    9\n",
       "1823    Our intelligent system chooses the best seats ...    9\n",
       "1882                                        Yes you can:)    1\n",
       "1913    Our intelligent system chooses the best seats ...    9\n",
       "2028    Our intelligent system chooses the best seats ...    9\n",
       "2050    Our intelligent system chooses the best seats ...    9\n",
       "2054    Our intelligent system chooses the best seats ...    9\n",
       "2113                                        Yes you can:)    1\n",
       "2144    Our intelligent system chooses the best seats ...    9\n",
       "2259    Our intelligent system chooses the best seats ...    9\n",
       "2281    Our intelligent system chooses the best seats ...    9\n",
       "2285    Our intelligent system chooses the best seats ...    9\n",
       "2344                                        Yes you can:)    1\n",
       "2375    Our intelligent system chooses the best seats ...    9\n",
       "...                                                   ...  ...\n",
       "245695  It seems that we are facing issues with a few ...    1\n",
       "245696          I have informed the tech team about this.    1\n",
       "245697  UK cards included, you might have to use a dif...    6\n",
       "245698                       Or try again in a few hours.   78\n",
       "245700                                    Yes ofcourse :)    1\n",
       "245711         No offers currently for Singapore Flyer :(    1\n",
       "245719                I see that the Academia is for 9:15    1\n",
       "245720                        And the uffizi is for 10:30   33\n",
       "245721         These are fixed timeslots unfortunately :(    1\n",
       "245724  Accademia gallery - Please display the same on...    1\n",
       "245725  uffizi gallery --- Please display the same on ...    1\n",
       "245729                             Yes that is important.    1\n",
       "245730                         Hope you have a great one!    2\n",
       "245740                             Hi sorry about that :(   69\n",
       "245741  You can go to the aquarium anytime within oper...   40\n",
       "245742  The Burj timeslot is the one that you choose o...    1\n",
       "245750                                Have a nice day  :)    1\n",
       "245753      These are dated tickets with fixed timeslots.    1\n",
       "245754               You only only be able to enter at 2.    1\n",
       "245755                   The museums close at 6pm though.    1\n",
       "245760                                     Yes you can :)    1\n",
       "245761     However we cannot reschedule this reservation.    1\n",
       "245764                                    Yes they are :)    1\n",
       "245765                          Open till 2pm on sundays.    1\n",
       "245766                    And 6pm from monday - saturday.    1\n",
       "245768                                           From 9AM    1\n",
       "245770                               8:30 will be fine :)   47\n",
       "245773                                 Monday definitely.    1\n",
       "245787                             City of lights cruise?    1\n",
       "245789  You can just book it right now and show up the...    1\n",
       "\n",
       "[73568 rows x 2 columns]"
      ]
     },
     "execution_count": 258,
     "metadata": {},
     "output_type": "execute_result"
    }
   ],
   "source": [
    "txt_agent.loc[:,['text', 'clu']]"
   ]
  },
  {
   "cell_type": "code",
   "execution_count": 48,
   "metadata": {},
   "outputs": [],
   "source": [
    "# vectorize text using tfidf\n",
    "from sklearn.feature_extraction.text import TfidfVectorizer\n",
    "tv = TfidfVectorizer(stop_words='english',ngram_range=(1,2),max_df=1000, min_df=25)\n",
    "t = tv.fit_transform(txt_af.text)\n",
    "terms = pd.DataFrame({'term': tv.get_feature_names(), 'tfidf': t.toarray().sum(0)})"
   ]
  },
  {
   "cell_type": "code",
   "execution_count": 78,
   "metadata": {},
   "outputs": [],
   "source": []
  },
  {
   "cell_type": "code",
   "execution_count": 79,
   "metadata": {},
   "outputs": [
    {
     "data": {
      "text/plain": [
       "(45859, 1383)"
      ]
     },
     "execution_count": 79,
     "metadata": {},
     "output_type": "execute_result"
    }
   ],
   "source": [
    "t.shape"
   ]
  },
  {
   "cell_type": "code",
   "execution_count": null,
   "metadata": {},
   "outputs": [],
   "source": [
    "from sklearn.feature_extraction.text import CountVectorizer\n",
    "cv = "
   ]
  },
  {
   "cell_type": "code",
   "execution_count": 10,
   "metadata": {},
   "outputs": [],
   "source": [
    "from sklearn.cluster import KMeans\n"
   ]
  },
  {
   "cell_type": "code",
   "execution_count": 80,
   "metadata": {},
   "outputs": [
    {
     "data": {
      "text/plain": [
       "KMeans(algorithm='auto', copy_x=True, init='k-means++', max_iter=300,\n",
       "    n_clusters=5, n_init=10, n_jobs=-1, precompute_distances='auto',\n",
       "    random_state=None, tol=0.0001, verbose=0)"
      ]
     },
     "execution_count": 80,
     "metadata": {},
     "output_type": "execute_result"
    }
   ],
   "source": [
    "%%time\n",
    "km = KMeans(n_clusters = 5, n_jobs=-1)\n",
    "km.fit(t)"
   ]
  },
  {
   "cell_type": "code",
   "execution_count": 81,
   "metadata": {},
   "outputs": [
    {
     "name": "stderr",
     "output_type": "stream",
     "text": [
      "/home/tianyi/anaconda3/envs/insight/lib/python3.7/site-packages/ipykernel_launcher.py:1: SettingWithCopyWarning: \n",
      "A value is trying to be set on a copy of a slice from a DataFrame.\n",
      "Try using .loc[row_indexer,col_indexer] = value instead\n",
      "\n",
      "See the caveats in the documentation: http://pandas.pydata.org/pandas-docs/stable/indexing.html#indexing-view-versus-copy\n",
      "  \"\"\"Entry point for launching an IPython kernel.\n"
     ]
    }
   ],
   "source": [
    "txt_af['clu'] = km.predict(t)"
   ]
  },
  {
   "cell_type": "code",
   "execution_count": 114,
   "metadata": {},
   "outputs": [
    {
     "data": {
      "text/plain": [
       "Series([], Name: text, dtype: int64)"
      ]
     },
     "execution_count": 114,
     "metadata": {},
     "output_type": "execute_result"
    }
   ],
   "source": [
    "txt_af.loc[txt_af.clu == 6,'text'].value_counts()"
   ]
  },
  {
   "cell_type": "code",
   "execution_count": 30,
   "metadata": {},
   "outputs": [
    {
     "data": {
      "text/plain": [
       "Hello. How may I help you?         402\n",
       "Hello!                              29\n",
       "Hello                               14\n",
       "Hello:)                             13\n",
       "Hello :)                             9\n",
       "hello                                6\n",
       "Hello Pearl!                         6\n",
       "Hello again Rishi                    6\n",
       "Hello@                               6\n",
       "Hello again                          5\n",
       "Hello Kishore.                       4\n",
       "Hello ma'am how can i help you?      3\n",
       "Hello ?                              2\n",
       "Name: text, dtype: int64"
      ]
     },
     "execution_count": 30,
     "metadata": {},
     "output_type": "execute_result"
    }
   ],
   "source": [
    "txt_a.loc[txt_a.clu == 7,'text'].value_counts()"
   ]
  },
  {
   "cell_type": "code",
   "execution_count": null,
   "metadata": {},
   "outputs": [],
   "source": []
  }
 ],
 "metadata": {
  "kernelspec": {
   "display_name": "Python 3",
   "language": "python",
   "name": "python3"
  },
  "language_info": {
   "codemirror_mode": {
    "name": "ipython",
    "version": 3
   },
   "file_extension": ".py",
   "mimetype": "text/x-python",
   "name": "python",
   "nbconvert_exporter": "python",
   "pygments_lexer": "ipython3",
   "version": "3.7.0"
  }
 },
 "nbformat": 4,
 "nbformat_minor": 2
}
