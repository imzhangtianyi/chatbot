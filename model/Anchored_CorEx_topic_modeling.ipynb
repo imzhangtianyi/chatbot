{
 "cells": [
  {
   "cell_type": "code",
   "execution_count": 5,
   "metadata": {},
   "outputs": [],
   "source": [
    "import matplotlib.pyplot as plt\n",
    "from nltk.tokenize import RegexpTokenizer\n",
    "from nltk.stem.porter import PorterStemmer\n",
    "from nltk.stem import WordNetLemmatizer\n",
    "from nltk.corpus import stopwords\n",
    "import pandas as pd\n",
    "import numpy as np\n",
    "import re\n",
    "\n",
    "df_t = pd.read_csv('QandA.csv')\n",
    "stop_words = stopwords.words('english')\n",
    "stop_words.extend(['hello', 'hi', 'welcom', 'headout', 'know', 'experi', 'refer', 'help', 'ani', 'chat', 'problem', 'may', 'reach', 'need', 'let', 'u', 'feel', 'free', 'contact', 'realli', 'appreci', 'could', 'rate', 'chat', 'thank', 'today', 'wa', 'nice', 'talk', 'great', 'day', 'goodby', 'would', 'like','plea', 'wait', 'minut', 'check', 'thi', 'anyth', 'el', 'step', 'away', 'assist', 'custom', 'bye', 'hey', 'ok','get', 'ye', 'safari', 'khalifa', 'burj', 'aquarium', 'roman', 'palatin', 'vatican', 'dubai'])\n",
    "\n",
    "class preprocess(object):\n",
    "    '''\n",
    "    Preprocessing text for classifier\n",
    "    \n",
    "    Parameters\n",
    "    ----------\n",
    "    text: text to be processed\n",
    "    stop_words: list of stop_words from nltk\n",
    "    '''\n",
    "    def __init__(self, text):\n",
    "        self.text = text\n",
    "        \n",
    "    def tokenizer(self):\n",
    "        return RegexpTokenizer(r'\\w+').tokenize(self.text.lower())\n",
    "    \n",
    "    def stem_words(self):\n",
    "        '''\n",
    "        Stem words\n",
    "\n",
    "        Input:\n",
    "        -----------------------\n",
    "        List of words\n",
    "\n",
    "        Return:\n",
    "        ------------------------\n",
    "        List of stemmed words\n",
    "        '''\n",
    "        porter_stemmer = PorterStemmer()\n",
    "        return [porter_stemmer.stem(words) for words in self.tokenizer()]\n",
    "    \n",
    "    def lemmatize_words(self):\n",
    "        '''\n",
    "        Lemmatize words\n",
    "\n",
    "        Input:\n",
    "        -----------------------\n",
    "        List of words\n",
    "\n",
    "        Return:\n",
    "        ------------------------\n",
    "        List of lemmatized words\n",
    "        '''\n",
    "        wordnet_lemmatizer = WordNetLemmatizer()\n",
    "        return [wordnet_lemmatizer.lemmatize(words) for words in self.stem_words()]\n",
    "\n",
    "    def prep(self, stop_words):\n",
    "        '''\n",
    "        Remove stop words\n",
    "\n",
    "        Input:\n",
    "        -----------------------\n",
    "        List of words\n",
    "\n",
    "        Return:\n",
    "        ------------------------\n",
    "        List of words with stop words removed\n",
    "        '''\n",
    "        return [word for word in self.lemmatize_words() if word not in stop_words]"
   ]
  },
  {
   "cell_type": "code",
   "execution_count": 6,
   "metadata": {},
   "outputs": [
    {
     "data": {
      "text/plain": [
       "['notastopword']"
      ]
     },
     "execution_count": 6,
     "metadata": {},
     "output_type": "execute_result"
    }
   ],
   "source": [
    "preprocess('I will be stepping away get to assist notastopword other customers now, bye! :)').prep(stop_words)"
   ]
  },
  {
   "cell_type": "code",
   "execution_count": 7,
   "metadata": {},
   "outputs": [],
   "source": [
    "# Preprocess transcripts\n",
    "df_l = df_t.QandA.apply(lambda s: ' '.join(preprocess(s).prep(stop_words)))"
   ]
  },
  {
   "cell_type": "markdown",
   "metadata": {},
   "source": [
    "# Anchored CorEx topic modeling"
   ]
  },
  {
   "cell_type": "code",
   "execution_count": 8,
   "metadata": {},
   "outputs": [
    {
     "name": "stdout",
     "output_type": "stream",
     "text": [
      "0: cashback,cash,wallet,log,facebook,user,creat,futur,virtual,account\n",
      "1: cancel,refund,polici,strict,reschedul,di,amend,non,money,sono\n",
      "2: adult,child,year,old,age,kid,abov,yr,18,daughter\n",
      "3: seat,select,choos,offic,section,exact,togeth,box,map,assign\n",
      "4: offer,discount,code,coupon,promo,love,wow,appli,unfortun,promot\n",
      "5: tri,card,differ,work,issu,payment,complet,error,credit,debit\n",
      "6: pm,night,morn,00,30,10,wish,dure,departur,depart\n",
      "7: com,http,www,unit,emir,gmail,link,variantid,support,write\n",
      "8: ticket,buy,purchas,tower,eiffel,onlin,collect,sell,counter,broadway\n",
      "9: guid,tour,museum,colosseum,access,chapel,sistin,forum,audio,rome\n",
      "10: meet,versail,point,palac,host,track,pari,specif,outsid,voucher\n",
      "11: good,pleasur,nope,abt,hv,43,ill,mate,merci,tx\n",
      "12: cruis,combo,arab,world,pas,dinner,river,singapor,park,zoo\n",
      "13: id,sagrada,familia,order,sent,send,mail,told,barcelona,proof\n",
      "14: hotel,pick,peter,st,drop,basilica,la,dune,por,pickup\n",
      "15: paid,request,intellig,york,best,new,king,lion,school,rock\n",
      "16: close,hour,24,sold,slot,tuesday,friday,monday,saturday,tomorrow\n",
      "17: doe,mean,center,resid,girl,tourist,fair,boy,50,regular\n",
      "18: email,reserv,make,receiv,team,confirm,number,phone,inform,mobil\n",
      "19: chrome,googl,browser,use,refresh,app,server,woman,button,firefox\n",
      "20: date,book,time,want,onli,valid,befor,plan,till,look\n",
      "21: septemb,august,2018,open,juli,june,month,week,octob,april\n",
      "22: vendor,parti,fee,howev,understand,sinc,3rd,directli,total,tax\n",
      "23: peopl,price,mani,avail,play,special,person,allow,depend,tell\n",
      "24: line,skip,summit,secur,queue,climb,euro,elev,romano,coliseo\n"
     ]
    }
   ],
   "source": [
    "from corextopic import corextopic as ct\n",
    "# Build vocabulary list for CorEx topic model\n",
    "from sklearn.feature_extraction.text import CountVectorizer\n",
    "cv = CountVectorizer(stop_words='english', max_features=20000, binary=True)\n",
    "# Corpus\n",
    "corpus = cv.fit_transform(df_l)\n",
    "# Vocabulary\n",
    "words = list(np.asarray(cv.get_feature_names()))\n",
    "\n",
    "# Anchor Words for Anchored CorEx\n",
    "anchor_words = [['cashback', 'cash'], \n",
    "                ['refund', 'cancel'], \n",
    "                ['child', 'adult','year','old','age','kid'], \n",
    "                ['seat', 'choos','select','section','offic','exact','togeth'],\n",
    "                ['discount','coupon','code','offer'],\n",
    "                ['card','payment','work','complet','error','issu','differ','tri'],\n",
    "                ['pm','morn','night']\n",
    "               ]\n",
    "\n",
    "# Build model\n",
    "ntopic = 25\n",
    "topic_model = ct.Corex(n_hidden=ntopic, max_iter=200, seed=100)\n",
    "topic_model.fit(corpus, words=words, anchors=anchor_words, anchor_strength=10)\n",
    "\n",
    "# Print all topics from the CorEx topic model\n",
    "topics = topic_model.get_topics()\n",
    "for n,topic in enumerate(topics):\n",
    "    topic_words,_ = zip(*topic)\n",
    "    print('{}: '.format(n) + ','.join(topic_words))"
   ]
  },
  {
   "cell_type": "markdown",
   "metadata": {},
   "source": [
    "## Assign topic with pointwise total correlation"
   ]
  },
  {
   "cell_type": "code",
   "execution_count": 9,
   "metadata": {},
   "outputs": [
    {
     "data": {
      "text/html": [
       "<div>\n",
       "<style scoped>\n",
       "    .dataframe tbody tr th:only-of-type {\n",
       "        vertical-align: middle;\n",
       "    }\n",
       "\n",
       "    .dataframe tbody tr th {\n",
       "        vertical-align: top;\n",
       "    }\n",
       "\n",
       "    .dataframe thead th {\n",
       "        text-align: right;\n",
       "    }\n",
       "</style>\n",
       "<table border=\"1\" class=\"dataframe\">\n",
       "  <thead>\n",
       "    <tr style=\"text-align: right;\">\n",
       "      <th></th>\n",
       "      <th>logsum</th>\n",
       "      <th>topic</th>\n",
       "      <th>PTC</th>\n",
       "    </tr>\n",
       "  </thead>\n",
       "  <tbody>\n",
       "    <tr>\n",
       "      <th>0</th>\n",
       "      <td>58.927235</td>\n",
       "      <td>0</td>\n",
       "      <td>46.491126</td>\n",
       "    </tr>\n",
       "    <tr>\n",
       "      <th>1</th>\n",
       "      <td>48.682137</td>\n",
       "      <td>0</td>\n",
       "      <td>27.531751</td>\n",
       "    </tr>\n",
       "    <tr>\n",
       "      <th>2</th>\n",
       "      <td>6.146790</td>\n",
       "      <td>5</td>\n",
       "      <td>2.219499</td>\n",
       "    </tr>\n",
       "    <tr>\n",
       "      <th>3</th>\n",
       "      <td>22.803795</td>\n",
       "      <td>7</td>\n",
       "      <td>13.259783</td>\n",
       "    </tr>\n",
       "    <tr>\n",
       "      <th>4</th>\n",
       "      <td>16.555276</td>\n",
       "      <td>7</td>\n",
       "      <td>5.401563</td>\n",
       "    </tr>\n",
       "  </tbody>\n",
       "</table>\n",
       "</div>"
      ],
      "text/plain": [
       "      logsum  topic        PTC\n",
       "0  58.927235      0  46.491126\n",
       "1  48.682137      0  27.531751\n",
       "2   6.146790      5   2.219499\n",
       "3  22.803795      7  13.259783\n",
       "4  16.555276      7   5.401563"
      ]
     },
     "execution_count": 9,
     "metadata": {},
     "output_type": "execute_result"
    }
   ],
   "source": [
    "# Documents topic dataframe\n",
    "df_top = pd.DataFrame(columns = ['logsum','topic','PTC'])\n",
    "TC = topic_model.log_z\n",
    "df_top['logsum'] = TC.sum(1)\n",
    "df_top['topic'] = TC.argmax(1)\n",
    "# Calculate Pointwise TC for each document\n",
    "doc_cor = []\n",
    "for i,row in df_top.iterrows():\n",
    "    doc_cor.append(TC[i,int(row.topic)])\n",
    "df_top['PTC'] = doc_cor\n",
    "df_top.head()"
   ]
  },
  {
   "cell_type": "code",
   "execution_count": 10,
   "metadata": {},
   "outputs": [
    {
     "data": {
      "text/html": [
       "<div>\n",
       "<style scoped>\n",
       "    .dataframe tbody tr th:only-of-type {\n",
       "        vertical-align: middle;\n",
       "    }\n",
       "\n",
       "    .dataframe tbody tr th {\n",
       "        vertical-align: top;\n",
       "    }\n",
       "\n",
       "    .dataframe thead th {\n",
       "        text-align: right;\n",
       "    }\n",
       "</style>\n",
       "<table border=\"1\" class=\"dataframe\">\n",
       "  <thead>\n",
       "    <tr style=\"text-align: right;\">\n",
       "      <th></th>\n",
       "      <th>topic_no</th>\n",
       "      <th>percentage</th>\n",
       "      <th>keywords</th>\n",
       "    </tr>\n",
       "  </thead>\n",
       "  <tbody>\n",
       "    <tr>\n",
       "      <th>0</th>\n",
       "      <td>0</td>\n",
       "      <td>0.0143095</td>\n",
       "      <td>cashback ,cash ,wallet ,log ,facebook ,user ,c...</td>\n",
       "    </tr>\n",
       "    <tr>\n",
       "      <th>1</th>\n",
       "      <td>1</td>\n",
       "      <td>0.0293442</td>\n",
       "      <td>cancel ,refund ,polici ,strict ,reschedul ,di ...</td>\n",
       "    </tr>\n",
       "    <tr>\n",
       "      <th>2</th>\n",
       "      <td>2</td>\n",
       "      <td>0.0447416</td>\n",
       "      <td>adult ,child ,year ,old ,age ,kid ,abov ,yr ,1...</td>\n",
       "    </tr>\n",
       "    <tr>\n",
       "      <th>3</th>\n",
       "      <td>3</td>\n",
       "      <td>0.0493805</td>\n",
       "      <td>seat ,select ,choos ,offic ,section ,exact ,to...</td>\n",
       "    </tr>\n",
       "    <tr>\n",
       "      <th>4</th>\n",
       "      <td>4</td>\n",
       "      <td>0.0526292</td>\n",
       "      <td>offer ,discount ,code ,coupon ,promo ,love ,wo...</td>\n",
       "    </tr>\n",
       "    <tr>\n",
       "      <th>5</th>\n",
       "      <td>5</td>\n",
       "      <td>0.0459202</td>\n",
       "      <td>tri ,card ,differ ,work ,issu ,payment ,comple...</td>\n",
       "    </tr>\n",
       "    <tr>\n",
       "      <th>6</th>\n",
       "      <td>6</td>\n",
       "      <td>0.0473557</td>\n",
       "      <td>pm ,night ,morn ,00 ,30 ,10 ,wish ,dure ,depar...</td>\n",
       "    </tr>\n",
       "  </tbody>\n",
       "</table>\n",
       "</div>"
      ],
      "text/plain": [
       "   topic_no percentage                                           keywords\n",
       "0         0  0.0143095  cashback ,cash ,wallet ,log ,facebook ,user ,c...\n",
       "1         1  0.0293442  cancel ,refund ,polici ,strict ,reschedul ,di ...\n",
       "2         2  0.0447416  adult ,child ,year ,old ,age ,kid ,abov ,yr ,1...\n",
       "3         3  0.0493805  seat ,select ,choos ,offic ,section ,exact ,to...\n",
       "4         4  0.0526292  offer ,discount ,code ,coupon ,promo ,love ,wo...\n",
       "5         5  0.0459202  tri ,card ,differ ,work ,issu ,payment ,comple...\n",
       "6         6  0.0473557  pm ,night ,morn ,00 ,30 ,10 ,wish ,dure ,depar..."
      ]
     },
     "execution_count": 10,
     "metadata": {},
     "output_type": "execute_result"
    }
   ],
   "source": [
    "# Percentage of each topic\n",
    "df_perc = pd.DataFrame(columns=['topic_no','percentage','keywords'])\n",
    "df_perc['topic_no'] = list(i for i in range(ntopic))\n",
    "rowN = float(df_top.shape[0])\n",
    "for i in range(ntopic):\n",
    "#     Calculate percentage\n",
    "    df_perc.at[i,'percentage'] = df_top.loc[(df_top.topic == i) & (df_top.PTC > 8)].shape[0]/rowN\n",
    "#     Key words\n",
    "    topic_words,_ = zip(*topics[i])\n",
    "    df_perc.at[i,'keywords'] = ' ,'.join(topic_words)\n",
    "    \n",
    "df_perc.head(7)"
   ]
  },
  {
   "cell_type": "markdown",
   "metadata": {},
   "source": [
    "# Train Model"
   ]
  },
  {
   "cell_type": "code",
   "execution_count": 11,
   "metadata": {},
   "outputs": [],
   "source": [
    "# Prepare train set: df_q ===> x; Class label: y\n",
    "df_q = df_l.loc[(df_top.topic < 7) & (df_top.PTC > 8)]\n",
    "y = df_top.loc[(df_top.topic < 7) & (df_top.PTC > 8)].topic\n",
    "\n",
    "# More stop word from product understanding model\n",
    "slist = pd.read_csv('stop_words_product.csv')[4:120]\n",
    "stop_words.extend(slist.feature.values.tolist())\n",
    "df_q = df_q.apply(lambda s: ' '.join(preprocess(s).prep(stop_words)))\n",
    "\n",
    "# Tfidf\n",
    "from sklearn.feature_extraction.text import TfidfVectorizer\n",
    "tv = TfidfVectorizer(ngram_range=(1,2),max_df=4000, min_df=10)\n",
    "\n",
    "x = tv.fit_transform(df_q)\n",
    "\n",
    "# High tfidf terms:\n",
    "# terms = pd.DataFrame({'term': tv.get_feature_names(), 'tfidf': x.toarray().sum(0)})\n",
    "# terms.sort_values('tfidf', ascending=False)"
   ]
  },
  {
   "cell_type": "code",
   "execution_count": 13,
   "metadata": {},
   "outputs": [
    {
     "data": {
      "text/plain": [
       "{'mean_fit_time': array([0.03225446, 0.03003597, 0.0201406 , 0.01504793]),\n",
       " 'std_fit_time': array([0.01159376, 0.00396036, 0.00920356, 0.0031189 ]),\n",
       " 'mean_score_time': array([0.00351334, 0.00423117, 0.00293264, 0.00292525]),\n",
       " 'std_score_time': array([0.00035996, 0.00186702, 0.00027026, 0.00011677]),\n",
       " 'param_alpha': masked_array(data=[1, 0.1, 0.3, 0.005],\n",
       "              mask=[False, False, False, False],\n",
       "        fill_value='?',\n",
       "             dtype=object),\n",
       " 'params': [{'alpha': 1}, {'alpha': 0.1}, {'alpha': 0.3}, {'alpha': 0.005}],\n",
       " 'split0_test_score': array([0.92233824, 0.96049613, 0.94666692, 0.97356147]),\n",
       " 'split1_test_score': array([0.93922253, 0.96653891, 0.95721368, 0.97451056]),\n",
       " 'split2_test_score': array([0.93460999, 0.96194698, 0.95510118, 0.9732257 ]),\n",
       " 'split3_test_score': array([0.9377456 , 0.96512768, 0.95284186, 0.97401101]),\n",
       " 'split4_test_score': array([0.94027608, 0.96414358, 0.95445818, 0.9729032 ]),\n",
       " 'mean_test_score': array([0.93483491, 0.96365002, 0.95325542, 0.97364256]),\n",
       " 'std_test_score': array([0.00653746, 0.00217416, 0.0035821 , 0.00056853]),\n",
       " 'rank_test_score': array([4, 2, 3, 1], dtype=int32),\n",
       " 'split0_train_score': array([0.95039631, 0.97654115, 0.96798013, 0.984957  ]),\n",
       " 'split1_train_score': array([0.94868236, 0.9778595 , 0.9701513 , 0.98686741]),\n",
       " 'split2_train_score': array([0.94924851, 0.97612476, 0.97038611, 0.98604271]),\n",
       " 'split3_train_score': array([0.94998336, 0.97862629, 0.9683548 , 0.985663  ]),\n",
       " 'split4_train_score': array([0.95325799, 0.97732252, 0.96868045, 0.98416156]),\n",
       " 'mean_train_score': array([0.95031371, 0.97729484, 0.96911056, 0.98553834]),\n",
       " 'std_train_score': array([0.00158623, 0.00089772, 0.00097408, 0.0009241 ])}"
      ]
     },
     "execution_count": 13,
     "metadata": {},
     "output_type": "execute_result"
    }
   ],
   "source": [
    "# Grid search for hyperparameter alpha\n",
    "from sklearn.model_selection import train_test_split\n",
    "from sklearn.model_selection import GridSearchCV\n",
    "from sklearn.naive_bayes import MultinomialNB\n",
    "\n",
    "x_train, x_test, y_train, y_test = train_test_split(x, y, test_size=0.2, random_state=100)\n",
    "\n",
    "nb = MultinomialNB()\n",
    "nb_param = {'alpha': [1, 0.1, 0.3, 0.005]}\n",
    "clf = GridSearchCV(nb, nb_param, cv=5, n_jobs=-1, scoring='f1_macro')\n",
    "clf.fit(x_train, y_train)\n",
    "\n",
    "clf.cv_results_"
   ]
  },
  {
   "cell_type": "code",
   "execution_count": 14,
   "metadata": {},
   "outputs": [
    {
     "data": {
      "text/plain": [
       "0.9660209156709497"
      ]
     },
     "execution_count": 14,
     "metadata": {},
     "output_type": "execute_result"
    }
   ],
   "source": [
    "# test score\n",
    "from sklearn.metrics import f1_score\n",
    "nb = MultinomialNB(alpha=0.05)\n",
    "nb.fit(x_train, y_train)\n",
    "f1_score(nb.predict(x_test), y_test, average='macro')"
   ]
  },
  {
   "cell_type": "markdown",
   "metadata": {},
   "source": [
    "# ROC curves"
   ]
  },
  {
   "cell_type": "code",
   "execution_count": 16,
   "metadata": {},
   "outputs": [
    {
     "data": {
      "image/png": "[encoded data removed]",
      "text/plain": [
       "<Figure size 576x432 with 1 Axes>"
      ]
     },
     "metadata": {
      "needs_background": "light"
     },
     "output_type": "display_data"
    }
   ],
   "source": [
    "from sklearn.model_selection import cross_val_predict\n",
    "from sklearn.metrics import roc_curve\n",
    "from sklearn.metrics import roc_auc_score\n",
    "\n",
    "# Cross validation\n",
    "nb = MultinomialNB(alpha=0.05)\n",
    "yp = cross_val_predict(nb, x, y, cv=5, method='predict_proba')\n",
    "\n",
    "# Plot ROC curves\n",
    "plt.figure(figsize=(8,6))\n",
    "for i in range(7):\n",
    "    fpr, tpr, _ = roc_curve(y == i, yp[:,i])\n",
    "    auc = roc_auc_score(y == i, yp[:,i])\n",
    "    plt.plot(fpr, tpr, label='Topic%d: AUC=%.2f'%(i,auc))\n",
    "    plt.legend(loc='lower right',fontsize=12)\n",
    "plt.plot([0,1],[0,1],'--')\n",
    "plt.axis([0,1,0,1])\n",
    "plt.xlabel('1 - specificity',fontsize=14)\n",
    "plt.ylabel('sensitivity',fontsize=14)\n",
    "plt.show()"
   ]
  },
  {
   "cell_type": "markdown",
   "metadata": {},
   "source": [
    "# Save models"
   ]
  },
  {
   "cell_type": "code",
   "execution_count": 17,
   "metadata": {},
   "outputs": [
    {
     "data": {
      "text/plain": [
       "MultinomialNB(alpha=0.05, class_prior=None, fit_prior=True)"
      ]
     },
     "execution_count": 17,
     "metadata": {},
     "output_type": "execute_result"
    }
   ],
   "source": [
    "nb = MultinomialNB(alpha=0.05)\n",
    "nb.fit(x,y)"
   ]
  },
  {
   "cell_type": "code",
   "execution_count": null,
   "metadata": {},
   "outputs": [],
   "source": [
    "import joblib\n",
    "# save label encoder\n",
    "filename = 'Product_Encoder_nb.sav'\n",
    "joblib.dump(le, filename)\n",
    "\n",
    "# save tfidf\n",
    "filename = 'Product_Vectorizer_nb.sav'\n",
    "joblib.dump(tv, filename)\n",
    "\n",
    "# save rf model\n",
    "filename = 'Product_Model_nb.sav'\n",
    "joblib.dump(nb, filename)"
   ]
  }
 ],
 "metadata": {
  "kernelspec": {
   "display_name": "Python 3",
   "language": "python",
   "name": "python3"
  },
  "language_info": {
   "codemirror_mode": {
    "name": "ipython",
    "version": 3
   },
   "file_extension": ".py",
   "mimetype": "text/x-python",
   "name": "python",
   "nbconvert_exporter": "python",
   "pygments_lexer": "ipython3",
   "version": "3.7.0"
  }
 },
 "nbformat": 4,
 "nbformat_minor": 2
}
