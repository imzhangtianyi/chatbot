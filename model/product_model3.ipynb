{
 "cells": [
  {
   "cell_type": "code",
   "execution_count": 1,
   "metadata": {},
   "outputs": [],
   "source": [
    "import pandas as pd\n",
    "import re\n",
    "df_t = pd.read_csv('transcript_all.csv')\n",
    "df_p = pd.read_csv('product_all.csv')"
   ]
  },
  {
   "cell_type": "code",
   "execution_count": 2,
   "metadata": {},
   "outputs": [],
   "source": [
    "def findnum(s):\n",
    "    try:\n",
    "        return re.findall(r'\\d+', str(s))[0]\n",
    "    except:\n",
    "        return ''\n",
    "\n",
    "df_t['tour_group_id']  = df_t.chat_start_url.apply(findnum)\n",
    "\n",
    "tourid = df_p.loc[df_p.language_code == 'EN',['tour_group_id','name']]\n",
    "tourid['tour_group_id'] = tourid.tour_group_id.apply(str)\n",
    "df_m = pd.merge(df_t, tourid, on='tour_group_id')\n",
    "df_text = df_m.groupby(['chat_id','name']).text.apply(' '.join).reset_index()"
   ]
  },
  {
   "cell_type": "code",
   "execution_count": 3,
   "metadata": {},
   "outputs": [
    {
     "name": "stderr",
     "output_type": "stream",
     "text": [
      "/home/tianyi/anaconda3/envs/insight/lib/python3.7/site-packages/sklearn/utils/__init__.py:4: DeprecationWarning: Using or importing the ABCs from 'collections' instead of from 'collections.abc' is deprecated, and in 3.8 it will stop working\n",
      "  from collections import Sequence\n"
     ]
    },
    {
     "data": {
      "text/plain": [
       "(100, 513)"
      ]
     },
     "execution_count": 3,
     "metadata": {},
     "output_type": "execute_result"
    }
   ],
   "source": [
    "from sklearn.feature_extraction.text import TfidfVectorizer\n",
    "tv = TfidfVectorizer(stop_words='english',ngram_range=(1,2),max_df=20)\n",
    "t = tv.fit_transform(df_text.name.value_counts()[:100].index)\n",
    "terms = pd.DataFrame({'term': tv.get_feature_names(), 'tfidf': t.toarray().sum(0)})\n",
    "t.shape"
   ]
  },
  {
   "cell_type": "code",
   "execution_count": 4,
   "metadata": {},
   "outputs": [],
   "source": [
    "x = tv.transform(df_text.text)"
   ]
  },
  {
   "cell_type": "code",
   "execution_count": 5,
   "metadata": {},
   "outputs": [],
   "source": [
    "from sklearn.preprocessing import LabelEncoder\n",
    "le = LabelEncoder()\n",
    "y = le.fit_transform(df_text.name)"
   ]
  },
  {
   "cell_type": "code",
   "execution_count": 6,
   "metadata": {},
   "outputs": [],
   "source": [
    "from sklearn.model_selection import train_test_split"
   ]
  },
  {
   "cell_type": "code",
   "execution_count": 7,
   "metadata": {},
   "outputs": [],
   "source": [
    "x_train, x_test, y_train, y_test = train_test_split(x, y, test_size=0.2, random_state=100)"
   ]
  },
  {
   "cell_type": "code",
   "execution_count": 31,
   "metadata": {},
   "outputs": [],
   "source": [
    "from sklearn.linear_model import SGDClassifier\n",
    "from sklearn.metrics import f1_score\n",
    "from sklearn.model_selection import GridSearchCV\n",
    "sgd = SGDClassifier(random_state=100)\n",
    "sgd_param = {'alpha': [0.005, 0.01, 0.015]\n",
    "            }\n",
    "clf = GridSearchCV(sgd, sgd_param, cv=5, n_jobs=-1, scoring='f1_weighted')"
   ]
  },
  {
   "cell_type": "code",
   "execution_count": 66,
   "metadata": {},
   "outputs": [],
   "source": [
    "from sklearn.naive_bayes import MultinomialNB\n",
    "nb = MultinomialNB()\n",
    "nb_param = {'alpha': [0.0015, 0.0016, 0.0018, 0.002]\n",
    "            }\n",
    "clf = GridSearchCV(nb, nb_param, cv=5, n_jobs=-1, scoring='f1_weighted')"
   ]
  },
  {
   "cell_type": "code",
   "execution_count": 67,
   "metadata": {},
   "outputs": [
    {
     "name": "stdout",
     "output_type": "stream",
     "text": [
      "CPU times: user 136 ms, sys: 51.6 ms, total: 188 ms\n",
      "Wall time: 780 ms\n"
     ]
    },
    {
     "data": {
      "text/plain": [
       "GridSearchCV(cv=5, error_score='raise',\n",
       "       estimator=MultinomialNB(alpha=1.0, class_prior=None, fit_prior=True),\n",
       "       fit_params=None, iid=True, n_jobs=-1,\n",
       "       param_grid={'alpha': [0.0015, 0.0016, 0.0018, 0.002]},\n",
       "       pre_dispatch='2*n_jobs', refit=True, return_train_score='warn',\n",
       "       scoring='f1_weighted', verbose=0)"
      ]
     },
     "execution_count": 67,
     "metadata": {},
     "output_type": "execute_result"
    }
   ],
   "source": [
    "%%time\n",
    "clf.fit(x_train, y_train)"
   ]
  },
  {
   "cell_type": "code",
   "execution_count": 68,
   "metadata": {},
   "outputs": [
    {
     "data": {
      "text/plain": [
       "{'mean_fit_time': array([0.05980678, 0.04901333, 0.03328414, 0.04040728]),\n",
       " 'std_fit_time': array([0.02051127, 0.01095433, 0.00895858, 0.02583095]),\n",
       " 'mean_score_time': array([0.01033731, 0.01531992, 0.00849371, 0.00889916]),\n",
       " 'std_score_time': array([0.00255772, 0.0020584 , 0.00333761, 0.00436387]),\n",
       " 'param_alpha': masked_array(data=[0.0015, 0.0016, 0.0018, 0.002],\n",
       "              mask=[False, False, False, False],\n",
       "        fill_value='?',\n",
       "             dtype=object),\n",
       " 'params': [{'alpha': 0.0015},\n",
       "  {'alpha': 0.0016},\n",
       "  {'alpha': 0.0018},\n",
       "  {'alpha': 0.002}],\n",
       " 'split0_test_score': array([0.17927972, 0.17954621, 0.17927143, 0.17891524]),\n",
       " 'split1_test_score': array([0.27326351, 0.2733857 , 0.27329813, 0.27418948]),\n",
       " 'split2_test_score': array([0.29498234, 0.29348613, 0.29153909, 0.29153909]),\n",
       " 'split3_test_score': array([0.32186366, 0.32186366, 0.31761672, 0.32070729]),\n",
       " 'split4_test_score': array([0.39777372, 0.39577786, 0.39577786, 0.39577786]),\n",
       " 'mean_test_score': array([0.27551614, 0.27505867, 0.2739143 , 0.27450389]),\n",
       " 'std_test_score': array([0.07284217, 0.07218225, 0.07176694, 0.07221717]),\n",
       " 'rank_test_score': array([1, 2, 4, 3], dtype=int32),\n",
       " 'split0_train_score': array([0.57936043, 0.57813509, 0.57634631, 0.57474448]),\n",
       " 'split1_train_score': array([0.56078418, 0.55929001, 0.55771663, 0.55476676]),\n",
       " 'split2_train_score': array([0.57105783, 0.57078019, 0.56812893, 0.56568713]),\n",
       " 'split3_train_score': array([0.55564912, 0.55516769, 0.55443991, 0.55150665]),\n",
       " 'split4_train_score': array([0.55475151, 0.55475151, 0.55371988, 0.55320251]),\n",
       " 'mean_train_score': array([0.56432061, 0.5636249 , 0.56207033, 0.55998151]),\n",
       " 'std_train_score': array([0.00949584, 0.0092822 , 0.00880248, 0.00889349])}"
      ]
     },
     "execution_count": 68,
     "metadata": {},
     "output_type": "execute_result"
    }
   ],
   "source": [
    "clf.cv_results_"
   ]
  },
  {
   "cell_type": "code",
   "execution_count": 33,
   "metadata": {},
   "outputs": [
    {
     "data": {
      "text/plain": [
       "{'mean_fit_time': array([0.63151245, 0.66161737, 0.61749902]),\n",
       " 'std_fit_time': array([0.13954964, 0.14987718, 0.12486037]),\n",
       " 'mean_score_time': array([0.00930529, 0.0081018 , 0.00620427]),\n",
       " 'std_score_time': array([0.00201519, 0.00150126, 0.00118724]),\n",
       " 'param_alpha': masked_array(data=[0.005, 0.01, 0.015],\n",
       "              mask=[False, False, False],\n",
       "        fill_value='?',\n",
       "             dtype=object),\n",
       " 'params': [{'alpha': 0.005}, {'alpha': 0.01}, {'alpha': 0.015}],\n",
       " 'split0_test_score': array([0.17757634, 0.178976  , 0.17635944]),\n",
       " 'split1_test_score': array([0.24934302, 0.25498104, 0.25390495]),\n",
       " 'split2_test_score': array([0.31236104, 0.30576465, 0.31037164]),\n",
       " 'split3_test_score': array([0.34034447, 0.32898634, 0.33611382]),\n",
       " 'split4_test_score': array([0.39319814, 0.38531766, 0.40036665]),\n",
       " 'mean_test_score': array([0.27534996, 0.2727925 , 0.27596748]),\n",
       " 'std_test_score': array([0.07683354, 0.07211502, 0.07788572]),\n",
       " 'rank_test_score': array([2, 3, 1], dtype=int32),\n",
       " 'split0_train_score': array([0.47247656, 0.45968375, 0.47072484]),\n",
       " 'split1_train_score': array([0.46915774, 0.44693887, 0.463794  ]),\n",
       " 'split2_train_score': array([0.43897792, 0.43728099, 0.44420651]),\n",
       " 'split3_train_score': array([0.44754202, 0.42716119, 0.43646991]),\n",
       " 'split4_train_score': array([0.42180079, 0.41335882, 0.4343707 ]),\n",
       " 'mean_train_score': array([0.449991  , 0.43688472, 0.44991319]),\n",
       " 'std_train_score': array([0.01894697, 0.01593144, 0.01470142])}"
      ]
     },
     "execution_count": 33,
     "metadata": {},
     "output_type": "execute_result"
    }
   ],
   "source": [
    "clf.cv_results_"
   ]
  },
  {
   "cell_type": "code",
   "execution_count": 69,
   "metadata": {},
   "outputs": [
    {
     "data": {
      "text/plain": [
       "MultinomialNB(alpha=0.0015, class_prior=None, fit_prior=True)"
      ]
     },
     "execution_count": 69,
     "metadata": {},
     "output_type": "execute_result"
    }
   ],
   "source": [
    "nb = MultinomialNB(alpha=0.0015)\n",
    "nb.fit(x_train, y_train)"
   ]
  },
  {
   "cell_type": "code",
   "execution_count": 71,
   "metadata": {},
   "outputs": [
    {
     "data": {
      "text/plain": [
       "0.496672809356436"
      ]
     },
     "execution_count": 71,
     "metadata": {},
     "output_type": "execute_result"
    }
   ],
   "source": [
    "f1_score(nb.predict(x_train), y_train, average = 'weighted')"
   ]
  },
  {
   "cell_type": "code",
   "execution_count": 72,
   "metadata": {},
   "outputs": [
    {
     "data": {
      "text/plain": [
       "0.3166453641515188"
      ]
     },
     "execution_count": 72,
     "metadata": {},
     "output_type": "execute_result"
    }
   ],
   "source": [
    "f1_score(nb.predict(x_test), y_test, average = 'weighted')"
   ]
  },
  {
   "cell_type": "code",
   "execution_count": 91,
   "metadata": {},
   "outputs": [
    {
     "data": {
      "text/plain": [
       "'The Phantom of the Opera'"
      ]
     },
     "execution_count": 91,
     "metadata": {},
     "output_type": "execute_result"
    }
   ],
   "source": [
    "le.inverse_transform(nb.predict(tv.transform(['i have a ticket for the phatn of opera, but i change my plan, can i get refund'])))[0]"
   ]
  },
  {
   "cell_type": "code",
   "execution_count": 94,
   "metadata": {},
   "outputs": [
    {
     "data": {
      "text/plain": [
       "0.9221786541525197"
      ]
     },
     "execution_count": 94,
     "metadata": {},
     "output_type": "execute_result"
    }
   ],
   "source": [
    "nb.predict_proba(tv.transform(['can i chicago'])).max()"
   ]
  },
  {
   "cell_type": "code",
   "execution_count": 95,
   "metadata": {},
   "outputs": [
    {
     "data": {
      "text/plain": [
       "MultinomialNB(alpha=0.0015, class_prior=None, fit_prior=True)"
      ]
     },
     "execution_count": 95,
     "metadata": {},
     "output_type": "execute_result"
    }
   ],
   "source": [
    "nb.fit(x,y)"
   ]
  },
  {
   "cell_type": "code",
   "execution_count": 100,
   "metadata": {},
   "outputs": [
    {
     "data": {
      "text/plain": [
       "['Product_Model_nb.sav']"
      ]
     },
     "execution_count": 100,
     "metadata": {},
     "output_type": "execute_result"
    }
   ],
   "source": [
    "import joblib\n",
    "# save label encoder\n",
    "filename = 'Product_Encoder_nb.sav'\n",
    "joblib.dump(le, filename)\n",
    "\n",
    "# save tfidf\n",
    "filename = 'Product_Vectorizer_nb.sav'\n",
    "joblib.dump(tv, filename)\n",
    "\n",
    "# save rf model\n",
    "filename = 'Product_Model_nb.sav'\n",
    "joblib.dump(nb, filename)"
   ]
  },
  {
   "cell_type": "code",
   "execution_count": null,
   "metadata": {},
   "outputs": [],
   "source": []
  }
 ],
 "metadata": {
  "kernelspec": {
   "display_name": "Python 3",
   "language": "python",
   "name": "python3"
  },
  "language_info": {
   "codemirror_mode": {
    "name": "ipython",
    "version": 3
   },
   "file_extension": ".py",
   "mimetype": "text/x-python",
   "name": "python",
   "nbconvert_exporter": "python",
   "pygments_lexer": "ipython3",
   "version": "3.7.0"
  }
 },
 "nbformat": 4,
 "nbformat_minor": 2
}
