{
 "cells": [
  {
   "cell_type": "code",
   "execution_count": 1,
   "metadata": {},
   "outputs": [],
   "source": [
    "import pandas as pd\n",
    "import re\n",
    "df_t = pd.read_csv('transcript_all.csv')\n",
    "df_p = pd.read_csv('product_all.csv')"
   ]
  },
  {
   "cell_type": "code",
   "execution_count": 2,
   "metadata": {},
   "outputs": [],
   "source": [
    "def findnum(s):\n",
    "    try:\n",
    "        return re.findall(r'\\d+', str(s))[0]\n",
    "    except:\n",
    "        return ''\n",
    "\n",
    "df_t['tour_group_id']  = df_t.chat_start_url.apply(findnum)\n",
    "\n",
    "tourid = df_p.loc[df_p.language_code == 'EN',['tour_group_id','name']]\n",
    "tourid['tour_group_id'] = tourid.tour_group_id.apply(str)\n",
    "df_m = pd.merge(df_t, tourid, on='tour_group_id')\n",
    "df_text = df_m.groupby(['chat_id','name']).text.apply(' '.join).reset_index()"
   ]
  },
  {
   "cell_type": "code",
   "execution_count": 6,
   "metadata": {},
   "outputs": [
    {
     "data": {
      "text/plain": [
       "Index(['Tickets to Colosseum, Roman Forum and Palatine Hill',\n",
       "       'The Phantom of the Opera', 'La Perle by Dragone',\n",
       "       'Dubai Aquarium & Underwater Zoo + Burj Khalifa Combo',\n",
       "       'Fast Track Tickets to Sagrada Familia',\n",
       "       'Guided Tour of the Vatican Museums, Sistine Chapel and St. Peter's Basilica',\n",
       "       'Bateaux Parisiens Seine River Sightseeing Cruise',\n",
       "       'Skip the Line Tickets to the Vatican Museums and Sistine Chapel',\n",
       "       'Aladdin',\n",
       "       'Red Dune Desert Safari with BBQ Dinner & Live Entertainment',\n",
       "       'Eiffel Tower Summit Skip The Line Tickets with Optional Seine River Cruise',\n",
       "       'Burj Khalifa: At the Top (Level 124 & 125)',\n",
       "       'City of Lights: Paris After Dark Sightseeing Cruise',\n",
       "       'IMG Worlds of Adventure',\n",
       "       'Escorted Exclusive Skip The Line Tickets to Vatican Museum & Sistine Chapel',\n",
       "       'Skip The Line: Eiffel Tower Tickets with Host', 'The Lion King',\n",
       "       'Sagrada Familia Fast Track Tickets with Tower Access and Audio Guide',\n",
       "       'Chicago', 'Wicked', 'School of Rock', 'A Bronx Tale',\n",
       "       'Beautiful: The Carole King Musical',\n",
       "       'Express Guided Tour of Colosseum, Vatican Museums & Sistine Chapel',\n",
       "       'Skip the Line Catacombs Tickets with Audioguide',\n",
       "       'Exclusive Early Access Tickets to Vatican Museum & Sistine Chapel',\n",
       "       'Palace of Versailles All Access Passport Entry with Audioguide',\n",
       "       'Priority Entrance Tickets to the Uffizi Gallery',\n",
       "       'Singapore Night Safari with Tram Ride',\n",
       "       'Empire State Building Observatory Tickets',\n",
       "       'Skip The Line Tickets to Da Vinci's Last Supper With Guide',\n",
       "       'Hello, Dolly!', 'Ski Dubai: Polar Pass - Access to Park & Rides',\n",
       "       'Tickets with Audio Guide to Colosseum, Roman Forum & Palatine',\n",
       "       'Dubai Dolphinarium: Dolphin & Seal Show',\n",
       "       'Eiffel Tower Climbing Experience with Optional Summit',\n",
       "       'The Play That Goes Wrong', 'Dubai City Tour', 'Dubai Garden Glow',\n",
       "       'Universal Studios Singapore & Sentosa Fun Pass Combo',\n",
       "       'Guided Tour with Skip the Line Access to Colosseum, Roman Forum & Palatine',\n",
       "       'Park Guell Timed Entry Ticket', 'Pompeii Skip The Line Entry Tickets',\n",
       "       'Universal Studios Singapore™ Tickets',\n",
       "       'Versailles Palace Skip The Line + Passport Entry with Audioguide',\n",
       "       'Escorted Skip The Line Entry to Colosseum and Roman Forum - June',\n",
       "       'Priority Access Entrance Tickets to Louvre Museum',\n",
       "       'Dubai Safari Park ',\n",
       "       'Priority Entrance Tickets to the Accademia Gallery and Michelangelo's David',\n",
       "       'Guided Abu Dhabi City Tour from Dubai',\n",
       "       'Burj Khalifa At The Top + Dubai Aquarium +  Desert Safari 2 Day Combo',\n",
       "       'Dubai Aquarium & Underwater Zoo',\n",
       "       'Skip The Line Guided Tour of Colosseum with Arena Access, Roman Forum & Palatine',\n",
       "       'Summer: The Donna Summer Musical', 'Anastasia',\n",
       "       'Early Access Group Tour to St. Peter's Basilica, Vatican Museum & Sistine Chapel',\n",
       "       'Gardens by the Bay Direct Entry Tickets',\n",
       "       'Skip the Line Access to Vatican and Tickets to Colosseum, Roman Forum and Palatine Hill',\n",
       "       'Dubai Frame', 'Versailles Skip The Line Tour with Audioguide',\n",
       "       'Mean Girls', 'Kinky Boots',\n",
       "       'Skip The Line: Eiffel Tower Summit Tickets & Seine Cruise Combo',\n",
       "       'Burj Khalifa At The Top & Desert Safari Combo',\n",
       "       'Park Hopper Plus: Singapore Zoo + River Safari + Night Safari + Jurong Bird Park',\n",
       "       'Escorted Skip The Line Entry to Colosseum and Roman Forum',\n",
       "       'Singapore Zoo with Tram Ride',\n",
       "       'Dhow Dinner Cruise with Live Entertainment in Dubai Creek and the Open Seas',\n",
       "       'Ferrari World Tickets',\n",
       "       '2 Day Combo: Burj Khalifa + Dubai Aquarium + Desert Safari + Dhow Dinner Cruise',\n",
       "       'Gondola Ride: Grand Canal Experience', 'SpongeBob SquarePants',\n",
       "       'The Band's Visit', 'Abu Dhabi City Tour & Ferrari World Combo',\n",
       "       'Carousel', 'The Book of Mormon', 'Three Tall Women',\n",
       "       'Ciampino Airport: Shuttle Bus to/ from Roma Termini',\n",
       "       'Borghese Gallery Entrance Tickets', 'Aquaventure Water Park Tickets',\n",
       "       'Da Vinci's Last Supper + Duomo Di Milano Combo', 'Ice Land Water Park',\n",
       "       'Guided Tour of Sagrada Familia and Park Güell with No Wait Entry',\n",
       "       'Evening Desert Safari with BBQ Dinner, Entertainment & Coach Pick Up',\n",
       "       '2 Day Combo: Burj Khalifa + Desert Safari + Dubai City Tour + Dhow Dinner Cruise',\n",
       "       'Evening Desert Safari + Quad Biking + BBQ Dinner',\n",
       "       'Dubai Marina Dhow Dinner Cruise',\n",
       "       'Budapest River Sightseeing Cruise with Drinks',\n",
       "       'Musandam Dibba Tour with Dhow Cruise & Lunch',\n",
       "       'Come From Away: A New Musical',\n",
       "       'Palace of Versailles Priority Access Tour from Paris with Transportation',\n",
       "       'Singapore Cable Car Sky Pass: Round Trip',\n",
       "       'Super Saver Combo: Singapore Zoo + Night Safari',\n",
       "       'Burj Khalifa: At the Top Sky (Level 124, 125 & 148)',\n",
       "       'Palace of Versailles Entry Ticket with Audioguide',\n",
       "       'Super Saver Combo: Universal Studios Singapore + S.E.A Aquarium',\n",
       "       'Singapore Night Safari with Hotel Transfers',\n",
       "       'Louvre Abu Dhabi - Skip The Line Tickets',\n",
       "       'Ferrari World and Yas Waterworld One Day Pass',\n",
       "       'Breakfast/Lunch at Vatican Museums with Skip The Line Entrance'],\n",
       "      dtype='object')"
      ]
     },
     "execution_count": 6,
     "metadata": {},
     "output_type": "execute_result"
    }
   ],
   "source": [
    "df_text.name.value_counts()[:100].index"
   ]
  },
  {
   "cell_type": "code",
   "execution_count": 23,
   "metadata": {},
   "outputs": [
    {
     "data": {
      "text/plain": [
       "(100, 515)"
      ]
     },
     "execution_count": 23,
     "metadata": {},
     "output_type": "execute_result"
    }
   ],
   "source": [
    "from sklearn.feature_extraction.text import TfidfVectorizer\n",
    "tv = TfidfVectorizer(stop_words='english',ngram_range=(1,2),max_df=20)\n",
    "t = tv.fit_transform(df_text.name.value_counts()[:100].index)\n",
    "terms = pd.DataFrame({'term': tv.get_feature_names(), 'tfidf': t.toarray().sum(0)})\n",
    "t.shape"
   ]
  },
  {
   "cell_type": "code",
   "execution_count": 25,
   "metadata": {},
   "outputs": [],
   "source": [
    "x = tv.transform(df_text.text)"
   ]
  },
  {
   "cell_type": "code",
   "execution_count": 26,
   "metadata": {},
   "outputs": [],
   "source": [
    "from sklearn.preprocessing import LabelEncoder\n",
    "le = LabelEncoder()\n",
    "y = le.fit_transform(df_text.name)"
   ]
  },
  {
   "cell_type": "code",
   "execution_count": 27,
   "metadata": {},
   "outputs": [
    {
     "data": {
      "text/plain": [
       "(4299,)"
      ]
     },
     "execution_count": 27,
     "metadata": {},
     "output_type": "execute_result"
    }
   ],
   "source": [
    "y.shape"
   ]
  },
  {
   "cell_type": "code",
   "execution_count": 29,
   "metadata": {},
   "outputs": [
    {
     "name": "stderr",
     "output_type": "stream",
     "text": [
      "/home/tianyi/anaconda3/envs/insight/lib/python3.7/site-packages/sklearn/ensemble/weight_boosting.py:29: DeprecationWarning: numpy.core.umath_tests is an internal NumPy module and should not be imported. It will be removed in a future NumPy release.\n",
      "  from numpy.core.umath_tests import inner1d\n"
     ]
    }
   ],
   "source": [
    "from sklearn.ensemble import RandomForestClassifier"
   ]
  },
  {
   "cell_type": "code",
   "execution_count": 58,
   "metadata": {},
   "outputs": [
    {
     "name": "stdout",
     "output_type": "stream",
     "text": [
      "CPU times: user 1.93 s, sys: 19.4 ms, total: 1.95 s\n",
      "Wall time: 634 ms\n"
     ]
    }
   ],
   "source": [
    "%%time\n",
    "rf_params = {\n",
    "    'n_jobs': -1,\n",
    "    'n_estimators': 40,\n",
    "    'max_depth': 60,\n",
    "    'random_state': 42\n",
    "}\n",
    "rf = RandomForestClassifier(**rf_params)\n",
    "\n",
    "rf.fit(x, y)"
   ]
  },
  {
   "cell_type": "code",
   "execution_count": 32,
   "metadata": {},
   "outputs": [],
   "source": [
    "from sklearn.metrics import accuracy_score"
   ]
  },
  {
   "cell_type": "code",
   "execution_count": 59,
   "metadata": {},
   "outputs": [
    {
     "name": "stdout",
     "output_type": "stream",
     "text": [
      "CPU times: user 1.45 s, sys: 754 ms, total: 2.2 s\n",
      "Wall time: 619 ms\n"
     ]
    },
    {
     "data": {
      "text/plain": [
       "0.6247964642940219"
      ]
     },
     "execution_count": 59,
     "metadata": {},
     "output_type": "execute_result"
    }
   ],
   "source": [
    "%%time\n",
    "accuracy_score(rf.predict(x), y)"
   ]
  },
  {
   "cell_type": "code",
   "execution_count": 33,
   "metadata": {},
   "outputs": [
    {
     "name": "stdout",
     "output_type": "stream",
     "text": [
      "CPU times: user 19.2 s, sys: 8.36 s, total: 27.6 s\n",
      "Wall time: 9.52 s\n"
     ]
    },
    {
     "data": {
      "text/plain": [
       "0.711560828099558"
      ]
     },
     "execution_count": 33,
     "metadata": {},
     "output_type": "execute_result"
    }
   ],
   "source": [
    "%%time\n",
    "accuracy_score(rf.predict(x), y)"
   ]
  },
  {
   "cell_type": "code",
   "execution_count": 66,
   "metadata": {},
   "outputs": [
    {
     "data": {
      "text/plain": [
       "['Product_Model.sav']"
      ]
     },
     "execution_count": 66,
     "metadata": {},
     "output_type": "execute_result"
    }
   ],
   "source": [
    "import joblib\n",
    "# save label encoder\n",
    "filename = 'Product_Encoder.sav'\n",
    "joblib.dump(le, filename)\n",
    "\n",
    "# save tfidf\n",
    "filename = 'Product_Vectorizer.sav'\n",
    "joblib.dump(tv, filename)\n",
    "\n",
    "# save rf model\n",
    "filename = 'Product_Model.sav'\n",
    "joblib.dump(rf, filename)"
   ]
  },
  {
   "cell_type": "code",
   "execution_count": 67,
   "metadata": {},
   "outputs": [],
   "source": [
    "clf = joblib.load('Product_Model.sav')\n",
    "le1 = joblib.load('Product_Encoder.sav')\n",
    "tv1 = joblib.load('Product_Vectorizer.sav')"
   ]
  },
  {
   "cell_type": "code",
   "execution_count": 71,
   "metadata": {},
   "outputs": [
    {
     "name": "stderr",
     "output_type": "stream",
     "text": [
      "/home/tianyi/anaconda3/envs/insight/lib/python3.7/site-packages/sklearn/preprocessing/label.py:151: DeprecationWarning: The truth value of an empty array is ambiguous. Returning False, but in future this will result in an error. Use `array.size > 0` to check that an array is not empty.\n",
      "  if diff:\n"
     ]
    },
    {
     "data": {
      "text/plain": [
       "'Wicked'"
      ]
     },
     "execution_count": 71,
     "metadata": {},
     "output_type": "execute_result"
    }
   ],
   "source": [
    "le.inverse_transform([rf.predict(tv.transform(['can i choose seat for wicked']))])[0][0]"
   ]
  },
  {
   "cell_type": "code",
   "execution_count": 61,
   "metadata": {},
   "outputs": [
    {
     "name": "stderr",
     "output_type": "stream",
     "text": [
      "/home/tianyi/anaconda3/envs/insight/lib/python3.7/site-packages/sklearn/preprocessing/label.py:151: DeprecationWarning: The truth value of an empty array is ambiguous. Returning False, but in future this will result in an error. Use `array.size > 0` to check that an array is not empty.\n",
      "  if diff:\n"
     ]
    },
    {
     "data": {
      "text/plain": [
       "array([['Wicked']], dtype=object)"
      ]
     },
     "execution_count": 61,
     "metadata": {},
     "output_type": "execute_result"
    }
   ],
   "source": [
    "le.inverse_transform([rf.predict(tv.transform(['what about wicked']))])"
   ]
  },
  {
   "cell_type": "code",
   "execution_count": null,
   "metadata": {},
   "outputs": [],
   "source": []
  }
 ],
 "metadata": {
  "kernelspec": {
   "display_name": "Python 3",
   "language": "python",
   "name": "python3"
  },
  "language_info": {
   "codemirror_mode": {
    "name": "ipython",
    "version": 3
   },
   "file_extension": ".py",
   "mimetype": "text/x-python",
   "name": "python",
   "nbconvert_exporter": "python",
   "pygments_lexer": "ipython3",
   "version": "3.7.0"
  }
 },
 "nbformat": 4,
 "nbformat_minor": 2
}
