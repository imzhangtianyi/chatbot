{
 "cells": [
  {
   "cell_type": "code",
   "execution_count": 3,
   "metadata": {},
   "outputs": [
    {
     "data": {
      "text/plain": [
       "['notastopword']"
      ]
     },
     "execution_count": 3,
     "metadata": {},
     "output_type": "execute_result"
    }
   ],
   "source": [
    "import matplotlib.pyplot as plt\n",
    "import pandas as pd\n",
    "import numpy as np\n",
    "import re\n",
    "\n",
    "df_t = pd.read_csv('QandA.csv')\n",
    "\n",
    "# Tokenizer\n",
    "from nltk.tokenize import RegexpTokenizer\n",
    "tokenizer = RegexpTokenizer(r'\\w+')\n",
    "\n",
    "# Stemmer\n",
    "from nltk.stem.porter import PorterStemmer\n",
    "\n",
    "porter_stemmer = PorterStemmer()\n",
    "def stem_words(word_list):\n",
    "    '''\n",
    "    Stem words\n",
    "    \n",
    "    Input:\n",
    "    -----------------------\n",
    "    List of words\n",
    "    \n",
    "    Return:\n",
    "    ------------------------\n",
    "    List of stemmed words\n",
    "    '''\n",
    "    return [porter_stemmer.stem(words) for words in word_list]\n",
    "\n",
    "# lemmatizer\n",
    "from nltk.stem import WordNetLemmatizer\n",
    "wordnet_lemmatizer = WordNetLemmatizer()\n",
    "def lemmatize_words(word_list):\n",
    "    '''\n",
    "    Lemmatize words\n",
    "    \n",
    "    Input:\n",
    "    -----------------------\n",
    "    List of words\n",
    "    \n",
    "    Return:\n",
    "    ------------------------\n",
    "    List of lemmatized words\n",
    "    '''\n",
    "    return [wordnet_lemmatizer.lemmatize(words) for words in word_list]\n",
    "\n",
    "# NLTK Stop words\n",
    "from nltk.corpus import stopwords\n",
    "stop_words = stopwords.words('english')\n",
    "stop_words.extend(['hello', 'hi', 'welcom', 'headout', 'know', 'experi', 'refer', 'help', 'ani', 'chat', 'problem', 'may', 'reach', 'need', 'let', 'u', 'feel', 'free', 'contact', 'realli', 'appreci', 'could', 'rate', 'chat', 'thank', 'today', 'wa', 'nice', 'talk', 'great', 'day', 'goodby', 'would', 'like','plea', 'wait', 'minut', 'check', 'thi', 'anyth', 'el', 'step', 'away', 'assist', 'custom', 'bye', 'hey', 'ok','get', 'ye', 'safari', 'khalifa', 'burj', 'aquarium', 'roman', 'palatin', 'vatican', 'dubai'])\n",
    "def remove_stopwords(word_list, stop_words):\n",
    "    '''\n",
    "    Remove stop words\n",
    "    \n",
    "    Input:\n",
    "    -----------------------\n",
    "    List of words\n",
    "    \n",
    "    Return:\n",
    "    ------------------------\n",
    "    List of words with stop words removed\n",
    "    '''\n",
    "    return [word for word in word_list if word not in stop_words]\n",
    "\n",
    "# Combine all\n",
    "def preprocess(text):\n",
    "    return remove_stopwords(lemmatize_words(stem_words(tokenizer.tokenize(text.lower()))), stop_words)\n",
    "preprocess('I will be stepping away get to assist notastopword other customers now, bye! :)')"
   ]
  },
  {
   "cell_type": "code",
   "execution_count": 4,
   "metadata": {},
   "outputs": [],
   "source": [
    "# Preprocess transcripts\n",
    "df_l = df_t.QandA.apply(lambda s: ' '.join(preprocess(s)))"
   ]
  },
  {
   "cell_type": "markdown",
   "metadata": {},
   "source": [
    "# Anchored CorEx modeling"
   ]
  },
  {
   "cell_type": "code",
   "execution_count": 89,
   "metadata": {},
   "outputs": [
    {
     "name": "stdout",
     "output_type": "stream",
     "text": [
      "0: cashback,cash,wallet,log,facebook,user,creat,futur,virtual,account\n",
      "1: cancel,refund,polici,strict,reschedul,di,amend,non,money,sono\n",
      "2: adult,child,year,old,age,kid,abov,yr,18,daughter\n",
      "3: seat,select,choos,offic,section,exact,togeth,box,map,assign\n",
      "4: offer,discount,code,coupon,promo,love,wow,appli,unfortun,promot\n",
      "5: tri,card,differ,work,issu,payment,complet,error,credit,debit\n",
      "6: pm,night,morn,00,30,10,wish,dure,departur,depart\n",
      "7: com,http,www,unit,emir,gmail,link,variantid,support,write\n",
      "8: ticket,buy,purchas,tower,eiffel,onlin,collect,sell,counter,broadway\n",
      "9: guid,tour,museum,colosseum,access,chapel,sistin,forum,audio,rome\n",
      "10: meet,versail,point,palac,host,track,pari,specif,outsid,voucher\n",
      "11: good,pleasur,nope,abt,hv,43,ill,mate,merci,tx\n",
      "12: cruis,combo,arab,world,pas,dinner,river,singapor,park,zoo\n",
      "13: id,sagrada,familia,order,sent,send,mail,told,barcelona,proof\n",
      "14: hotel,pick,peter,st,drop,basilica,la,dune,por,pickup\n",
      "15: paid,request,intellig,york,best,new,king,lion,school,rock\n",
      "16: close,hour,24,sold,slot,tuesday,friday,monday,saturday,tomorrow\n",
      "17: doe,mean,center,resid,girl,tourist,fair,boy,50,regular\n",
      "18: email,reserv,make,receiv,team,confirm,number,phone,inform,mobil\n",
      "19: chrome,googl,browser,use,refresh,app,server,woman,button,firefox\n",
      "20: date,book,time,want,onli,valid,befor,plan,till,look\n",
      "21: septemb,august,2018,open,juli,june,month,week,octob,april\n",
      "22: vendor,parti,fee,howev,understand,sinc,3rd,directli,total,tax\n",
      "23: peopl,price,mani,avail,play,special,person,allow,depend,tell\n",
      "24: line,skip,summit,secur,queue,climb,euro,elev,romano,coliseo\n"
     ]
    }
   ],
   "source": [
    "from corextopic import corextopic as ct\n",
    "# Build vocabulary list for CorEx topic model\n",
    "from sklearn.feature_extraction.text import CountVectorizer\n",
    "cv = CountVectorizer(stop_words='english', max_features=20000, binary=True)\n",
    "# Corpus\n",
    "corpus = cv.fit_transform(df_l)\n",
    "# Vocabulary\n",
    "words = list(np.asarray(cv.get_feature_names()))\n",
    "\n",
    "# Anchor Words for Anchored CorEx\n",
    "anchor_words = [['cashback', 'cash'], \n",
    "                ['refund', 'cancel'], \n",
    "                ['child', 'adult','year','old','age','kid'], \n",
    "                ['seat', 'choos','select','section','offic','exact','togeth'],\n",
    "                ['discount','coupon','code','offer'],\n",
    "                ['card','payment','work','complet','error','issu','differ','tri'],\n",
    "                ['pm','morn','night']\n",
    "               ]\n",
    "\n",
    "# Build model\n",
    "ntopic = 25\n",
    "topic_model = ct.Corex(n_hidden=ntopic, max_iter=200, seed=100)\n",
    "topic_model.fit(corpus, words=words, anchors=anchor_words, anchor_strength=10)\n",
    "\n",
    "# Print all topics from the CorEx topic model\n",
    "topics = topic_model.get_topics()\n",
    "for n,topic in enumerate(topics):\n",
    "    topic_words,_ = zip(*topic)\n",
    "    print('{}: '.format(n) + ','.join(topic_words))"
   ]
  },
  {
   "cell_type": "code",
   "execution_count": 90,
   "metadata": {},
   "outputs": [
    {
     "data": {
      "image/png": "[encoded data removed]",
      "text/plain": [
       "<Figure size 720x360 with 1 Axes>"
      ]
     },
     "metadata": {
      "needs_background": "light"
     },
     "output_type": "display_data"
    }
   ],
   "source": [
    "# Check Total Correlation for all topics\n",
    "plt.figure(figsize=(10,5))\n",
    "plt.bar(range(topic_model.tcs.shape[0]), topic_model.tcs, color='#4e79a7', width=0.5)\n",
    "plt.xlabel('Topic', fontsize=16)\n",
    "plt.ylabel('Total Correlation (nats)', fontsize=16);"
   ]
  },
  {
   "cell_type": "code",
   "execution_count": 91,
   "metadata": {},
   "outputs": [
    {
     "data": {
      "image/png": "[encoded data removed]",
      "text/plain": [
       "<Figure size 432x288 with 1 Axes>"
      ]
     },
     "metadata": {
      "needs_background": "light"
     },
     "output_type": "display_data"
    }
   ],
   "source": [
    "# Pointwise TC distribution\n",
    "plt.hist(topic_model.log_z.sum(1), range=[0,20])\n",
    "plt.show()"
   ]
  },
  {
   "cell_type": "code",
   "execution_count": 94,
   "metadata": {},
   "outputs": [],
   "source": [
    "# Documents topic dataframe\n",
    "df_top = pd.DataFrame(columns = ['logsum','topic','PTC'])\n",
    "TC = topic_model.log_z\n",
    "df_top['logsum'] = TC.sum(1)\n",
    "df_top['topic'] = TC.argmax(1)\n",
    "# Calculate Pointwise TC for each document\n",
    "doc_cor = []\n",
    "for i,row in df_top.iterrows():\n",
    "    doc_cor.append(TC[i,int(row.topic)])\n",
    "df_top['PTC'] = doc_cor"
   ]
  },
  {
   "cell_type": "code",
   "execution_count": 156,
   "metadata": {},
   "outputs": [
    {
     "data": {
      "text/html": [
       "<div>\n",
       "<style scoped>\n",
       "    .dataframe tbody tr th:only-of-type {\n",
       "        vertical-align: middle;\n",
       "    }\n",
       "\n",
       "    .dataframe tbody tr th {\n",
       "        vertical-align: top;\n",
       "    }\n",
       "\n",
       "    .dataframe thead th {\n",
       "        text-align: right;\n",
       "    }\n",
       "</style>\n",
       "<table border=\"1\" class=\"dataframe\">\n",
       "  <thead>\n",
       "    <tr style=\"text-align: right;\">\n",
       "      <th></th>\n",
       "      <th>topic_no</th>\n",
       "      <th>percentage</th>\n",
       "      <th>keywords</th>\n",
       "    </tr>\n",
       "  </thead>\n",
       "  <tbody>\n",
       "    <tr>\n",
       "      <th>0</th>\n",
       "      <td>0</td>\n",
       "      <td>0.0143095</td>\n",
       "      <td>cashback ,cash ,wallet ,log ,facebook ,user ,c...</td>\n",
       "    </tr>\n",
       "    <tr>\n",
       "      <th>1</th>\n",
       "      <td>1</td>\n",
       "      <td>0.0293442</td>\n",
       "      <td>cancel ,refund ,polici ,strict ,reschedul ,di ...</td>\n",
       "    </tr>\n",
       "    <tr>\n",
       "      <th>2</th>\n",
       "      <td>2</td>\n",
       "      <td>0.0447416</td>\n",
       "      <td>adult ,child ,year ,old ,age ,kid ,abov ,yr ,1...</td>\n",
       "    </tr>\n",
       "    <tr>\n",
       "      <th>3</th>\n",
       "      <td>3</td>\n",
       "      <td>0.0493805</td>\n",
       "      <td>seat ,select ,choos ,offic ,section ,exact ,to...</td>\n",
       "    </tr>\n",
       "    <tr>\n",
       "      <th>4</th>\n",
       "      <td>4</td>\n",
       "      <td>0.0526292</td>\n",
       "      <td>offer ,discount ,code ,coupon ,promo ,love ,wo...</td>\n",
       "    </tr>\n",
       "    <tr>\n",
       "      <th>5</th>\n",
       "      <td>5</td>\n",
       "      <td>0.0459202</td>\n",
       "      <td>tri ,card ,differ ,work ,issu ,payment ,comple...</td>\n",
       "    </tr>\n",
       "    <tr>\n",
       "      <th>6</th>\n",
       "      <td>6</td>\n",
       "      <td>0.0473557</td>\n",
       "      <td>pm ,night ,morn ,00 ,30 ,10 ,wish ,dure ,depar...</td>\n",
       "    </tr>\n",
       "  </tbody>\n",
       "</table>\n",
       "</div>"
      ],
      "text/plain": [
       "   topic_no percentage                                           keywords\n",
       "0         0  0.0143095  cashback ,cash ,wallet ,log ,facebook ,user ,c...\n",
       "1         1  0.0293442  cancel ,refund ,polici ,strict ,reschedul ,di ...\n",
       "2         2  0.0447416  adult ,child ,year ,old ,age ,kid ,abov ,yr ,1...\n",
       "3         3  0.0493805  seat ,select ,choos ,offic ,section ,exact ,to...\n",
       "4         4  0.0526292  offer ,discount ,code ,coupon ,promo ,love ,wo...\n",
       "5         5  0.0459202  tri ,card ,differ ,work ,issu ,payment ,comple...\n",
       "6         6  0.0473557  pm ,night ,morn ,00 ,30 ,10 ,wish ,dure ,depar..."
      ]
     },
     "execution_count": 156,
     "metadata": {},
     "output_type": "execute_result"
    }
   ],
   "source": [
    "# Percentage of each topic\n",
    "df_perc = pd.DataFrame(columns=['topic_no','percentage','keywords'])\n",
    "df_perc['topic_no'] = list(i for i in range(ntopic))\n",
    "rowN = float(df_top.shape[0])\n",
    "for i in range(ntopic):\n",
    "#     Calculate percentage\n",
    "    df_perc.at[i,'percentage'] = df_top.loc[(df_top.topic == i) & (df_top.PTC > 8)].shape[0]/rowN\n",
    "#     Key words\n",
    "    topic_words,_ = zip(*topics[i])\n",
    "    df_perc.at[i,'keywords'] = ' ,'.join(topic_words)\n",
    "    \n",
    "df_perc.head(7)"
   ]
  },
  {
   "cell_type": "markdown",
   "metadata": {},
   "source": [
    "# Visualization"
   ]
  },
  {
   "cell_type": "code",
   "execution_count": 245,
   "metadata": {},
   "outputs": [],
   "source": [
    "from scipy.optimize import curve_fit\n",
    "from wordcloud import WordCloud"
   ]
  },
  {
   "cell_type": "markdown",
   "metadata": {},
   "source": [
    "## Refund"
   ]
  },
  {
   "cell_type": "code",
   "execution_count": 243,
   "metadata": {},
   "outputs": [],
   "source": [
    "topic_words, proba = zip(*topic_model.get_topics(topic=4, n_words=40))"
   ]
  },
  {
   "cell_type": "code",
   "execution_count": 276,
   "metadata": {},
   "outputs": [
    {
     "data": {
      "image/png": "[encoded data removed]",
      "text/plain": [
       "<Figure size 432x288 with 1 Axes>"
      ]
     },
     "metadata": {
      "needs_background": "light"
     },
     "output_type": "display_data"
    }
   ],
   "source": [
    "# Fitting\n",
    "x = list(range(40))\n",
    "fit = lambda x, A, x0, sigma, offset:  offset+A*np.exp(-((x-x0)/sigma)**2)\n",
    "popt, pcov = curve_fit(fit, x, proba, p0=[1,0,1,0])\n",
    "\n",
    "\n",
    "fig, ax = plt.subplots()\n",
    "\n",
    "ax.bar(x, proba, color=\"lightblue\", zorder=0)\n",
    "\n",
    "x = np.linspace(min(x),max(x),250)\n",
    "ax.plot(x, fit(x,*popt))\n",
    "plt.show()"
   ]
  },
  {
   "cell_type": "code",
   "execution_count": 171,
   "metadata": {},
   "outputs": [
    {
     "data": {
      "text/plain": [
       "('refund', 0.0865205673919861)"
      ]
     },
     "execution_count": 171,
     "metadata": {},
     "output_type": "execute_result"
    }
   ],
   "source": [
    "topic_model.get_topics(topic=1, n_words=100)[1]"
   ]
  },
  {
   "cell_type": "code",
   "execution_count": 143,
   "metadata": {},
   "outputs": [
    {
     "data": {
      "text/plain": [
       "('line',\n",
       " 'skip',\n",
       " 'summit',\n",
       " 'secur',\n",
       " 'queue',\n",
       " 'climb',\n",
       " 'euro',\n",
       " 'elev',\n",
       " 'romano',\n",
       " 'coliseo')"
      ]
     },
     "execution_count": 143,
     "metadata": {},
     "output_type": "execute_result"
    }
   ],
   "source": [
    "topic_words"
   ]
  },
  {
   "cell_type": "code",
   "execution_count": null,
   "metadata": {},
   "outputs": [],
   "source": [
    "topic_model.get_topics(topic=0, n_words=20)"
   ]
  },
  {
   "cell_type": "code",
   "execution_count": 134,
   "metadata": {},
   "outputs": [
    {
     "data": {
      "text/plain": [
       "0.047355696585071015"
      ]
     },
     "execution_count": 134,
     "metadata": {},
     "output_type": "execute_result"
    }
   ],
   "source": [
    "df_top.loc[(df_top.topic == 6) & (df_top.PTC > 8)].shape[0]/rowN"
   ]
  },
  {
   "cell_type": "code",
   "execution_count": 136,
   "metadata": {},
   "outputs": [
    {
     "data": {
      "text/plain": [
       "66180"
      ]
     },
     "execution_count": 136,
     "metadata": {},
     "output_type": "execute_result"
    }
   ],
   "source": [
    "rowN"
   ]
  },
  {
   "cell_type": "code",
   "execution_count": 122,
   "metadata": {},
   "outputs": [
    {
     "data": {
      "text/plain": [
       "(66180, 3)"
      ]
     },
     "execution_count": 122,
     "metadata": {},
     "output_type": "execute_result"
    }
   ],
   "source": [
    "df_top.loc[(df_top.topic == 6) & (df_top.PTC > 8)].shape[0]"
   ]
  },
  {
   "cell_type": "code",
   "execution_count": 117,
   "metadata": {},
   "outputs": [
    {
     "data": {
      "text/plain": [
       "(3134, 3)"
      ]
     },
     "execution_count": 117,
     "metadata": {},
     "output_type": "execute_result"
    }
   ],
   "source": [
    "df_top.loc[(df_top.topic == 6) & (df_top.PTC > 8)].shape"
   ]
  },
  {
   "cell_type": "code",
   "execution_count": 88,
   "metadata": {},
   "outputs": [
    {
     "data": {
      "text/plain": [
       "'bird park morn night even long doe take complet bird park jurong bird park open 8 30 6 00 pm daili night singapor open 7 30 pm 12 00 daili take anytim 1 hour 3 hour depend wish'"
      ]
     },
     "execution_count": 88,
     "metadata": {},
     "output_type": "execute_result"
    }
   ],
   "source": [
    "df_l[952]"
   ]
  },
  {
   "cell_type": "code",
   "execution_count": 119,
   "metadata": {},
   "outputs": [
    {
     "data": {
      "text/plain": [
       "' From which hotels do we have shuttles for IMg world I wanted to enquire about the pickup Hi One moment Please find the list of hotels and schedule for the Morning Shuttle Service to IMG Worlds of Adventure here. \\nhttps://cdn-imgix-open.headout.com/product-images/IMG/Morning_shuttle_service-01.jpg'"
      ]
     },
     "execution_count": 119,
     "metadata": {},
     "output_type": "execute_result"
    }
   ],
   "source": [
    "df_t.QandA[360]"
   ]
  },
  {
   "cell_type": "code",
   "execution_count": 116,
   "metadata": {},
   "outputs": [
    {
     "data": {
      "text/plain": [
       "7                            madam though apolog night sir\n",
       "60                           madam though apolog night sir\n",
       "113                          madam though apolog night sir\n",
       "191      pm 7 30 top open 8 30 11 00 pm ticket avail ti...\n",
       "270      pm 7 30 top open 8 30 11 00 pm ticket avail ti...\n",
       "332      zoo local oper sorri inconveni late local oper...\n",
       "333                    cau drop email sorri inconveni morn\n",
       "334                               cau morn drop email okay\n",
       "338      gap two academia uffizi galleri tour one quest...\n",
       "349      want book night hotel transfer upon hotel hote...\n",
       "353      also ticket avail septemb 29th diner cruis x 6...\n",
       "360      hotel shuttl img world want enquir pickup one ...\n",
       "376      tomowro time start morn icc land park mayb rec...\n",
       "378         17 date go anytim 10 6 pm mention right ticket\n",
       "395      zoo local oper sorri inconveni late local oper...\n",
       "396                    cau drop email sorri inconveni morn\n",
       "397                               cau morn drop email okay\n",
       "401      gap two academia uffizi galleri tour one quest...\n",
       "412      want book night hotel transfer upon hotel hote...\n",
       "416      also ticket avail septemb 29th diner cruis x 6...\n",
       "423      hotel shuttl img world want enquir pickup one ...\n",
       "439      tomowro time start morn icc land park mayb rec...\n",
       "441         17 date go anytim 10 6 pm mention right ticket\n",
       "458      zoo local oper sorri inconveni late local oper...\n",
       "459                    cau drop email sorri inconveni morn\n",
       "460                               cau morn drop email okay\n",
       "464      gap two academia uffizi galleri tour one quest...\n",
       "475      want book night hotel transfer upon hotel hote...\n",
       "479      also ticket avail septemb 29th diner cruis x 6...\n",
       "486      hotel shuttl img world want enquir pickup one ...\n",
       "                               ...                        \n",
       "65668    morn call anybodi answer phone write receiv re...\n",
       "65679        waterpark 1 night stay sorri stay option tour\n",
       "65705    luck even mind good seat split long somewher f...\n",
       "65711    around 5 pm usual time elev cant say pari usua...\n",
       "65719    long detail page highlight go earli morn enter...\n",
       "65723    time eiffel tower 5 30 pm want take combo eiff...\n",
       "65736    morn call anybodi answer phone write receiv re...\n",
       "65747        waterpark 1 night stay sorri stay option tour\n",
       "65773    luck even mind good seat split long somewher f...\n",
       "65779    around 5 pm usual time elev cant say pari usua...\n",
       "65796    hav reciev mail mridulla reserv confirm ticket...\n",
       "65818    say pick time 2 4 becaus drop back hotel 9 pm ...\n",
       "65845    queri entri 2 30pm also valid say open 2 30 pm...\n",
       "65849    bought skip line ticket museum sistin chapel e...\n",
       "65876    hav reciev mail mridulla reserv confirm ticket...\n",
       "65898    say pick time 2 4 becaus drop back hotel 9 pm ...\n",
       "65925    queri entri 2 30pm also valid say open 2 30 pm...\n",
       "65929    bought skip line ticket museum sistin chapel e...\n",
       "65956    hav reciev mail mridulla reserv confirm ticket...\n",
       "65978    say pick time 2 4 becaus drop back hotel 9 pm ...\n",
       "66005    queri entri 2 30pm also valid say open 2 30 pm...\n",
       "66009    bought skip line ticket museum sistin chapel e...\n",
       "66036    hav reciev mail mridulla reserv confirm ticket...\n",
       "66058    say pick time 2 4 becaus drop back hotel 9 pm ...\n",
       "66085    queri entri 2 30pm also valid say open 2 30 pm...\n",
       "66089    bought skip line ticket museum sistin chapel e...\n",
       "66116    hav reciev mail mridulla reserv confirm ticket...\n",
       "66138    say pick time 2 4 becaus drop back hotel 9 pm ...\n",
       "66165    queri entri 2 30pm also valid say open 2 30 pm...\n",
       "66169    bought skip line ticket museum sistin chapel e...\n",
       "Name: QandA, Length: 3134, dtype: object"
      ]
     },
     "execution_count": 116,
     "metadata": {},
     "output_type": "execute_result"
    }
   ],
   "source": [
    "df_l.loc[(df_top.topic == 6) & (df_top.PTC > 8)]"
   ]
  },
  {
   "cell_type": "code",
   "execution_count": 46,
   "metadata": {},
   "outputs": [
    {
     "data": {
      "text/plain": [
       "5     33481\n",
       "3      6054\n",
       "6      4221\n",
       "2      3774\n",
       "4      3523\n",
       "1      1899\n",
       "7      1871\n",
       "12     1664\n",
       "9      1532\n",
       "14     1415\n",
       "0      1013\n",
       "21      837\n",
       "24      762\n",
       "10      638\n",
       "13      566\n",
       "18      540\n",
       "22      510\n",
       "15      409\n",
       "19      366\n",
       "20      342\n",
       "8       293\n",
       "16      273\n",
       "11       85\n",
       "23       78\n",
       "17       34\n",
       "dtype: int64"
      ]
     },
     "execution_count": 46,
     "metadata": {},
     "output_type": "execute_result"
    }
   ],
   "source": [
    "pd.Series(topic_model.log_z.argmax(1)).value_counts()"
   ]
  },
  {
   "cell_type": "code",
   "execution_count": null,
   "metadata": {},
   "outputs": [],
   "source": []
  }
 ],
 "metadata": {
  "kernelspec": {
   "display_name": "Python 3",
   "language": "python",
   "name": "python3"
  },
  "language_info": {
   "codemirror_mode": {
    "name": "ipython",
    "version": 3
   },
   "file_extension": ".py",
   "mimetype": "text/x-python",
   "name": "python",
   "nbconvert_exporter": "python",
   "pygments_lexer": "ipython3",
   "version": "3.7.0"
  }
 },
 "nbformat": 4,
 "nbformat_minor": 2
}
